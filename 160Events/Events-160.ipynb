{
 "cells": [
  {
   "cell_type": "code",
   "execution_count": 1,
   "metadata": {},
   "outputs": [],
   "source": [
    "import sys\n",
    "sys.path.append('../')\n",
    "import json"
   ]
  },
  {
   "cell_type": "code",
   "execution_count": 2,
   "metadata": {},
   "outputs": [],
   "source": [
    "from SSSO.manage import Manager"
   ]
  },
  {
   "cell_type": "code",
   "execution_count": 3,
   "metadata": {},
   "outputs": [],
   "source": [
    "# manager = Manager(jena_address='http://10.0.0.4:3030/SSSO') # Use Jena as the triple store layer, please specify the jena container and ontology address.\n",
    "manager = Manager(ttl_filename= 'ssso.ttl') # Use local ttl file as the triple store"
   ]
  },
  {
   "cell_type": "markdown",
   "metadata": {},
   "source": [
    "## Event 1\n",
    "* Event Description: Register a new user \"Alice\" with contexts\n",
    "* Event Type: Register User\n",
    "* Event Response: 1 user added"
   ]
  },
  {
   "cell_type": "code",
   "execution_count": 5,
   "metadata": {},
   "outputs": [],
   "source": [
    "context = {\n",
    "\"Location\":\"BLD4-F16-R64\",\n",
    "\"Group\":\"Employee\"\n",
    "}"
   ]
  },
  {
   "cell_type": "code",
   "execution_count": 6,
   "metadata": {},
   "outputs": [],
   "source": [
    "manager.user.add_user(user='Alice', context=context)"
   ]
  },
  {
   "cell_type": "markdown",
   "metadata": {},
   "source": [
    "## Event 2\n",
    "* Event Description: Register a new user \"Charlie\" with contexts\n",
    "* Event Type: Register User\n",
    "* Event Response: 1 user added"
   ]
  },
  {
   "cell_type": "code",
   "execution_count": 7,
   "metadata": {},
   "outputs": [],
   "source": [
    "context = {\n",
    "\"Location\":\"BLD4-F16-R64\",\n",
    "\"Group\":\"Employee\"\n",
    "}"
   ]
  },
  {
   "cell_type": "code",
   "execution_count": 8,
   "metadata": {},
   "outputs": [
    {
     "data": {
      "text/plain": [
       "True"
      ]
     },
     "execution_count": 8,
     "metadata": {},
     "output_type": "execute_result"
    }
   ],
   "source": [
    "manager.user.add_user(user='Charlie', context=context)"
   ]
  },
  {
   "cell_type": "markdown",
   "metadata": {},
   "source": [
    "## Event 3\n",
    "* Event Description: Register a new Trust Level Assessment Policy 'd8a07c6d-cbbd-4495-b88c-5b1e819e05d2'\n",
    "* Policy Description: For password authentication, if 'Minimum_Password_Length>=8 and Password_Rotation_Interval<90 and Classification level is not classified -> SL-2 else SL-1'\n",
    "* Event Type: Register Policy\n",
    "* Event Response: 1 policy added"
   ]
  },
  {
   "cell_type": "code",
   "execution_count": 9,
   "metadata": {},
   "outputs": [],
   "source": [
    "with open('./Policy/Trust_Level_Assessment_Policy/d8a07c6d-cbbd-4495-b88c-5b1e819e05d2.json') as json_file:\n",
    "    tla_d8a07c6d = json.load(json_file)"
   ]
  },
  {
   "cell_type": "code",
   "execution_count": 10,
   "metadata": {},
   "outputs": [
    {
     "data": {
      "text/plain": [
       "{'uuid': 'd8a07c6d-cbbd-4495-b88c-5b1e819e05d2',\n",
       " 'Name': 'Password Authentication',\n",
       " 'Priority': 0,\n",
       " 'Endpoint': {'Type': 'SPARQL',\n",
       "  'Data': '?dvc ssso:hasService ?Service.?loc rdf:type ssso:Location.?dvc ssso:hasContext ?loc.?eqp ssso:hasContext ?loc.?eqp ssso:hasService ?svc.?svc rdf:type ssso:Count_Occupancy.?svc ssso:hasContext ?Endpoint.'},\n",
       " 'Policy': \"        OPTIONAL{ssso:Password_Rotation_Interval rdf:type ssso:Variable. ssso:Minimum_Password_Length rdf:type ssso:Variable. ?loc rdf:type ssso:Location. ?cl rdf:type ssso:Classification_Level. ?eq ssso:hasService ?Service. ?eq ssso:hasContext ?loc. ?loc ssso:hasPolicy ?cl. FILTER (?cl NOT IN (ssso:Classified)). ssso:Password_Rotation_Interval ssso:hasData ?pwdrotint. ssso:Minimum_Password_Length ssso:hasData ?pwdminlen. FILTER (?pwdrotint < '90'^^xsd:int). FILTER (?pwdminlen >= '8'^^xsd:int).}.BIND (IF(BOUND(?pwdrotint), ssso:SL-2, ssso:SL-1) as ?Trust_Level)\",\n",
       " 'Description': 'Minimum_Password_Length>=8 and Password_Rotation_Interval<90 and Classification level is not classified -> SL-2 else SL-1'}"
      ]
     },
     "execution_count": 10,
     "metadata": {},
     "output_type": "execute_result"
    }
   ],
   "source": [
    "tla_d8a07c6d"
   ]
  },
  {
   "cell_type": "code",
   "execution_count": 11,
   "metadata": {},
   "outputs": [
    {
     "data": {
      "text/plain": [
       "'d8a07c6d-cbbd-4495-b88c-5b1e819e05d2'"
      ]
     },
     "execution_count": 11,
     "metadata": {},
     "output_type": "execute_result"
    }
   ],
   "source": [
    "manager.policy.add_policy(policyDict = tla_d8a07c6d, policyClass='Trust_Level_Assessment_Policy')"
   ]
  },
  {
   "cell_type": "markdown",
   "metadata": {},
   "source": [
    "## Event 4\n",
    "* Event Description: Register a new Request_Model '72caf2cf-2430-4536-8e8b-76cefd66e009'\n",
    "* Event Type: Register Context\n",
    "* Event Response: 1 context added"
   ]
  },
  {
   "cell_type": "code",
   "execution_count": 12,
   "metadata": {},
   "outputs": [],
   "source": [
    "with open('./Context/Model/Request_Model/72caf2cf-2430-4536-8e8b-76cefd66e009.json') as json_file:\n",
    "    rqm_72caf2cf = json.load(json_file)"
   ]
  },
  {
   "cell_type": "code",
   "execution_count": 13,
   "metadata": {},
   "outputs": [
    {
     "data": {
      "text/plain": [
       "True"
      ]
     },
     "execution_count": 13,
     "metadata": {},
     "output_type": "execute_result"
    }
   ],
   "source": [
    "manager.context.add_context(contextIndividual='72caf2cf-2430-4536-8e8b-76cefd66e009', contextClass='Request_Model', dataproperty='hasData', data=json.dumps(rqm_72caf2cf).replace('\"', '\\\\\"'))"
   ]
  },
  {
   "cell_type": "markdown",
   "metadata": {},
   "source": [
    "## Event 5\n",
    "* Event Description: Register a new Threat Assessment Policy '43fbb6fa-45e6-4650-b175-c2a9c9e88167'\n",
    "* Policy Description: Threat Assessment Policy for Unexpected Occupancy: If the classification level is 'Classified -> TL-4, otherwise TL-2'.\n",
    "* Event Type: Register Policy\n",
    "* Event Response: 1 policy added"
   ]
  },
  {
   "cell_type": "code",
   "execution_count": 14,
   "metadata": {},
   "outputs": [],
   "source": [
    "with open('./Policy/Threat_Assessment_Policy/43fbb6fa-45e6-4650-b175-c2a9c9e88167.json') as json_file:\n",
    "    tap_43fbb6fa = json.load(json_file)"
   ]
  },
  {
   "cell_type": "code",
   "execution_count": 15,
   "metadata": {},
   "outputs": [
    {
     "data": {
      "text/plain": [
       "{'uuid': '43fbb6fa-45e6-4650-b175-c2a9c9e88167',\n",
       " 'Name': 'Threat Assessment Policy for Unexpected Occupancy',\n",
       " 'Priority': 0,\n",
       " 'Policy': 'OPTIONAL{                        ?loc rdf:type ssso:Location.                        ?cl rdf:type ssso:Classification_Level.                        ?eq ssso:hasContext ?loc.                        ?loc ssso:hasPolicy ?cl.                        FILTER (?cl IN (ssso:Classified)).                        BIND (?cl AS ?con1).                    }.                BIND (                IF(BOUND(?con1), ssso:TL-4, ssso:TL-2) AS ?Threat_Level)                ',\n",
       " 'Description': 'Classified -> TL-4 otherwise TL-2'}"
      ]
     },
     "execution_count": 15,
     "metadata": {},
     "output_type": "execute_result"
    }
   ],
   "source": [
    "tap_43fbb6fa"
   ]
  },
  {
   "cell_type": "code",
   "execution_count": 16,
   "metadata": {},
   "outputs": [
    {
     "data": {
      "text/plain": [
       "'43fbb6fa-45e6-4650-b175-c2a9c9e88167'"
      ]
     },
     "execution_count": 16,
     "metadata": {},
     "output_type": "execute_result"
    }
   ],
   "source": [
    "manager.policy.add_policy(policyDict = tap_43fbb6fa, policyClass='Threat_Assessment_Policy')"
   ]
  },
  {
   "cell_type": "markdown",
   "metadata": {},
   "source": [
    "## Event 6\n",
    "* Event Description: Register a new device \"Smart Board\"\n",
    "* Event Type: Register Device\n",
    "* Event Response: 1 device, 10 services added"
   ]
  },
  {
   "cell_type": "code",
   "execution_count": 17,
   "metadata": {},
   "outputs": [],
   "source": [
    "context = {\n",
    "\"Location\":\"BLD4-F16-M201-2\",\n",
    "\"Group\":\"BLD4-Classified-Room\"\n",
    "}"
   ]
  },
  {
   "cell_type": "code",
   "execution_count": 18,
   "metadata": {},
   "outputs": [],
   "source": [
    "with open('./Equipment/AV/EQM_SmartBoard_ModelA.json') as json_file:\n",
    "    SmartBoard_EQM = json.load(json_file)"
   ]
  },
  {
   "cell_type": "code",
   "execution_count": 19,
   "metadata": {},
   "outputs": [
    {
     "data": {
      "text/plain": [
       "{'uuid': 'ae137288-3782-432d-8d83-d5cee733fe4b',\n",
       " 'Equipment Model Name': 'SmartBoard Model A',\n",
       " 'Equipment Model Version': '0.1',\n",
       " 'last_update_timestamp': '2019-08-03T21:23:53.581662+00:00',\n",
       " 'Equipment Class': 'Smart_Board',\n",
       " 'Service': [{'Name': 'Play Audio Service on Type A Smart Board',\n",
       "   'Service Class': 'Play_Audio',\n",
       "   'Resource Name': {'HTTP': '/audioplayer', 'RPC': '/audioplayer'},\n",
       "   'Required Security Level': 'SL-2',\n",
       "   'Request Model': '72caf2cf-2430-4536-8e8b-76cefd66e009'},\n",
       "  {'Name': 'Play Video Service on Type A Smart Board',\n",
       "   'Service Class': 'Play_Video',\n",
       "   'Resource Name': {'HTTP': '/videoplayer', 'RPC': '/videoplayer'},\n",
       "   'Required Security Level': 'SL-2'},\n",
       "  {'Name': 'Password Authentication Service on Type A Smart Board',\n",
       "   'Service Class': 'Password_Authentication',\n",
       "   'Resource Name': {'RPC': '/passwdauth'},\n",
       "   'Trust Level Assessment Policy': 'd8a07c6d-cbbd-4495-b88c-5b1e819e05d2'},\n",
       "  {'Name': 'Face Authentication Service on Type A Smart Board',\n",
       "   'Service Class': 'Face_Authentication',\n",
       "   'Resource Name': {'RPC': '/faceauth'},\n",
       "   'Security Level Provided': 'SL-3'},\n",
       "  {'Name': 'Capture Video Service on Type A Smart Board',\n",
       "   'Service Class': 'Capture_Video',\n",
       "   'Resource Name': {'RPC': '/capvid'},\n",
       "   'Required Security Level': 'SL-4'},\n",
       "  {'Name': 'Record Audio Service on Type A Smart Board',\n",
       "   'Service Class': 'Record_Audio',\n",
       "   'Resource Name': {'RPC': '/videorecorder'},\n",
       "   'Required Security Level': 'SL-4'},\n",
       "  {'Name': 'Share Screen Service on Type A Smart Board',\n",
       "   'Service Class': 'Share_Screen',\n",
       "   'Resource Name': {'RPC': '/screenshare'},\n",
       "   'Required Security Level': 'SL-4'},\n",
       "  {'Name': 'Surrounding Brightness Level Sensing Service on Type A Smart Board',\n",
       "   'Service Class': 'Detect_Brightness',\n",
       "   'Resource Name': {'MQTT': '/sensor/brightness'},\n",
       "   'Required Security Level': 'SL-0'},\n",
       "  {'Name': 'Occupancy Counting Service on Type A Smart Board',\n",
       "   'Service Class': 'Count_Occupancy',\n",
       "   'Resource Name': {'MQTT': '/sensor/occupancy'},\n",
       "   'Required Security Level': 'SL-0'},\n",
       "  {'Name': 'Brightness Setpoint Control on Type A Smart Board',\n",
       "   'Service Class': 'Brightness_Setpoint_Control',\n",
       "   'Resource Name': {'HTTP': '/setpoint/brightness'},\n",
       "   'Required Security Level': 'SL-1'}],\n",
       " 'threat': [{'Name': 'Detect Unexpected Occupancy by Camera on Board',\n",
       "   'Threat Class': 'Unexpected_Occupancy',\n",
       "   'Threat Assessment Policy': '43fbb6fa-45e6-4650-b175-c2a9c9e88167'},\n",
       "  {'Name': 'Detect Network Traffic Sniffing',\n",
       "   'Threat Class': 'Sniffing_Attack',\n",
       "   'Threat Level': 'TL-4'}],\n",
       " 'Description': {'Manufacturer': 'Foo Bar Inc.',\n",
       "  'Screen Size': '75',\n",
       "  'Screen Resolution': '3840x2160'}}"
      ]
     },
     "execution_count": 19,
     "metadata": {},
     "output_type": "execute_result"
    }
   ],
   "source": [
    "SmartBoard_EQM"
   ]
  },
  {
   "cell_type": "code",
   "execution_count": 20,
   "metadata": {},
   "outputs": [
    {
     "execution_count": 20,
     "name": "stdout",
     "output_type": "stream",
     "text": [
      "a70ba675-6243-49ea-9d21-cfa71a0c9992\n"
     ]
    }
   ],
   "source": [
    "Smart_Board = manager.equipment.create(equipmentModel=SmartBoard_EQM, context=context)\n",
    "print(Smart_Board)"
   ]
  },
  {
   "cell_type": "markdown",
   "metadata": {},
   "source": [
    "## Event 7\n",
    "* Event Description: Register a new Trust Level Assessment Policy 'cb965d9e-2887-44c7-a9e9-336c398712a4'\n",
    "* Policy Description: For NFC authentication, if NFC_Tag_Maximum_Age<=12 -> SL-2 else SL-0.\n",
    "* Event Type: Register Policy\n",
    "* Event Response: 1 policy added"
   ]
  },
  {
   "cell_type": "code",
   "execution_count": 21,
   "metadata": {},
   "outputs": [],
   "source": [
    "with open('./Policy/Trust_Level_Assessment_Policy/cb965d9e-2887-44c7-a9e9-336c398712a4.json') as json_file:\n",
    "    tla_cb965d9e = json.load(json_file)"
   ]
  },
  {
   "cell_type": "code",
   "execution_count": 22,
   "metadata": {},
   "outputs": [
    {
     "data": {
      "text/plain": [
       "{'uuid': 'cb965d9e-2887-44c7-a9e9-336c398712a4',\n",
       " 'Name': 'NFC Authentication',\n",
       " 'Priority': 0,\n",
       " 'Policy': \"                OPTIONAL{                    ssso:NFC_Tag_Maximum_Age rdf:type ssso:Variable.                    ssso:NFC_Tag_Maximum_Age ssso:hasData ?age.                    FILTER (?age <= '12'^^xsd:int).                }                    BIND (IF(BOUND(?age), ssso:SL-2, ssso:SL-0) as ?Trust_Level)\",\n",
       " 'Description': 'NFC_Tag_Maximum_Age<=12 -> SL-2 else SL-0'}"
      ]
     },
     "execution_count": 22,
     "metadata": {},
     "output_type": "execute_result"
    }
   ],
   "source": [
    "tla_cb965d9e"
   ]
  },
  {
   "cell_type": "code",
   "execution_count": 23,
   "metadata": {},
   "outputs": [
    {
     "data": {
      "text/plain": [
       "'cb965d9e-2887-44c7-a9e9-336c398712a4'"
      ]
     },
     "execution_count": 23,
     "metadata": {},
     "output_type": "execute_result"
    }
   ],
   "source": [
    "manager.policy.add_policy(policyDict = tla_cb965d9e, policyClass='Trust_Level_Assessment_Policy')"
   ]
  },
  {
   "cell_type": "markdown",
   "metadata": {},
   "source": [
    "## Event 8\n",
    "* Event Description: Register a new Threat Assessment Policy 'e2a12ef8-927f-4e4f-8304-72c111f9d6bf'\n",
    "* Policy Description: Threat Assessment Policy for Unrecognized Radio Frequency. TL-2 if the classification level is Classified, TL-1 if Normal, TL-0 if Public.\n",
    "* Event Type: Register Policy\n",
    "* Event Response: 1 policy added"
   ]
  },
  {
   "cell_type": "code",
   "execution_count": 24,
   "metadata": {},
   "outputs": [],
   "source": [
    "with open('./Policy/Threat_Assessment_Policy/e2a12ef8-927f-4e4f-8304-72c111f9d6bf.json') as json_file:\n",
    "    tap_e2a12ef8 = json.load(json_file)"
   ]
  },
  {
   "cell_type": "code",
   "execution_count": 25,
   "metadata": {},
   "outputs": [
    {
     "data": {
      "text/plain": [
       "{'uuid': 'e2a12ef8-927f-4e4f-8304-72c111f9d6bf',\n",
       " 'Name': 'Threat Assessment Policy for Unrecognized Radio Frequency',\n",
       " 'Priority': 0,\n",
       " 'Policy': '                    OPTIONAL{                        ?loc rdf:type ssso:Location.                        ?cl rdf:type ssso:Classification_Level.                        ?eq ssso:hasContext ?loc.                        ?loc ssso:hasPolicy ?cl.                        FILTER (?cl IN (ssso:Classified)).                        BIND (?cl AS ?con1).                    }.                    OPTIONAL{                        ?loc rdf:type ssso:Location.                        ?cl rdf:type ssso:Classification_Level.                        ?eq ssso:hasContext ?loc.                        ?loc ssso:hasPolicy ?cl.                        FILTER (?cl IN (ssso:Normal)).                        BIND (?cl AS ?con2).                    }.                    OPTIONAL{                        ?loc rdf:type ssso:Location.                        ?cl rdf:type ssso:Classification_Level.                        ?eq ssso:hasContext ?loc.                        ?loc ssso:hasPolicy ?cl.                        FILTER (?cl IN (ssso:Public)).                        BIND (?cl AS ?con3).                    }.                BIND (COALESCE(                IF(BOUND(?con1), ssso:TL-2, 0/0),                IF(BOUND(?con2), ssso:TL-1, 0/0),                IF(BOUND(?con3), ssso:TL-0, 0/0),                ssso:TL-2) AS ?Threat_Level)                ',\n",
       " 'Description': 'Classified -> TL-2 Normal -> TL-1 Public -> TL-0 '}"
      ]
     },
     "execution_count": 25,
     "metadata": {},
     "output_type": "execute_result"
    }
   ],
   "source": [
    "tap_e2a12ef8"
   ]
  },
  {
   "cell_type": "code",
   "execution_count": 26,
   "metadata": {},
   "outputs": [
    {
     "data": {
      "text/plain": [
       "'e2a12ef8-927f-4e4f-8304-72c111f9d6bf'"
      ]
     },
     "execution_count": 26,
     "metadata": {},
     "output_type": "execute_result"
    }
   ],
   "source": [
    "manager.policy.add_policy(policyDict = tap_e2a12ef8, policyClass='Threat_Assessment_Policy')"
   ]
  },
  {
   "cell_type": "markdown",
   "metadata": {},
   "source": [
    "## Event 9\n",
    "* Event Description: Register a new device \"Smart Speaker\"\n",
    "* Event Type: Register Device\n",
    "* Event Response: 1 device, 5 services added"
   ]
  },
  {
   "cell_type": "code",
   "execution_count": 27,
   "metadata": {},
   "outputs": [],
   "source": [
    "context = {\n",
    "\"Location\":\"BLD4-F16-M201-2\",\n",
    "\"Group\":\"BLD4-Classified-Room\"\n",
    "}"
   ]
  },
  {
   "cell_type": "code",
   "execution_count": 28,
   "metadata": {},
   "outputs": [],
   "source": [
    "with open('./Equipment/AV/EQM_SmartSpeaker_ModelA.json') as json_file:\n",
    "    SmartSpeaker_EQM = json.load(json_file)"
   ]
  },
  {
   "cell_type": "code",
   "execution_count": 29,
   "metadata": {},
   "outputs": [
    {
     "data": {
      "text/plain": [
       "{'uuid': 'd285e4bb-e2bb-4a05-a4fb-bdaeb2a29780',\n",
       " 'Equipment Model Name': 'Smart Speaker Model A',\n",
       " 'Equipment Model Version': '0.1',\n",
       " 'last_update_timestamp': '2019-08-03T21:23:53.581662+00:00',\n",
       " 'Equipment Class': 'Smart_Speaker',\n",
       " 'Service': [{'Name': 'Play Audio Service on Type A Smart Speaker',\n",
       "   'Service Class': 'Play_Audio',\n",
       "   'Resource Name': {'RPC': '/audioplayer'},\n",
       "   'Required Security Level': 'SL-2',\n",
       "   'Request Model': '72caf2cf-2430-4536-8e8b-76cefd66e009'},\n",
       "  {'Name': 'NFC Authentication Service on Type A Smart Speaker',\n",
       "   'Service Class': 'NFC_Authentication',\n",
       "   'Resource Name': {'RPC': '/nfcauth'},\n",
       "   'Trust Level Assessment Policy': 'cb965d9e-2887-44c7-a9e9-336c398712a4'},\n",
       "  {'Name': 'Voice Authentication Service on Type A Smart Speaker',\n",
       "   'Service Class': 'Voice_Authentication',\n",
       "   'Resource Name': {'RPC': '/voiceauth'},\n",
       "   'Security Level Provided': 'SL-3'},\n",
       "  {'Name': 'Detect Sound Service on Type A Smart Speaker',\n",
       "   'Service Class': 'Detect_Sound',\n",
       "   'Resource Name': {'MQTT': '/sensor/volume'},\n",
       "   'Required Security Level': 'SL-3'},\n",
       "  {'Name': 'Detect Radio Frequency Service on Type A Smart Speaker',\n",
       "   'Service Class': 'Detect_Radio_Frequency',\n",
       "   'Resource Name': {'MQTT': '/sensor/rf'},\n",
       "   'Required Security Level': 'SL-3'}],\n",
       " 'threat': [{'Name': 'Detect Unrecognized Radio Frequency',\n",
       "   'Threat Class': 'Unrecognized_Radio_Frequency',\n",
       "   'Threat Assessment Policy': 'e2a12ef8-927f-4e4f-8304-72c111f9d6bf'}],\n",
       " 'Description': {'Manufacturer': 'Foo Bar Inc.', 'Model': 'Type A'}}"
      ]
     },
     "execution_count": 29,
     "metadata": {},
     "output_type": "execute_result"
    }
   ],
   "source": [
    "SmartSpeaker_EQM"
   ]
  },
  {
   "cell_type": "code",
   "execution_count": 30,
   "metadata": {},
   "outputs": [
    {
     "execution_count": 30,
     "name": "stdout",
     "output_type": "stream",
     "text": [
      "139914d2-7542-4683-80c9-9d9c7cbfc32d\n"
     ]
    }
   ],
   "source": [
    "Smart_Speaker = manager.equipment.create(equipmentModel=SmartSpeaker_EQM, context=context)\n",
    "print(Smart_Speaker)"
   ]
  },
  {
   "cell_type": "markdown",
   "metadata": {},
   "source": [
    "## Event 10\n",
    "* Event Description: Register a new Threat Assessment Policy '57b64ef9-17b2-404c-82c5-0e43e8019e62'\n",
    "* Policy Description: Threat Assessment Policy for Failed Hardware Integrity Check. TL-4 if the device belongs to AV, Network, or Telecommunication class, TL-2 otherwise.\n",
    "* Event Type: Register Policy\n",
    "* Event Response: 1 policy added"
   ]
  },
  {
   "cell_type": "code",
   "execution_count": 31,
   "metadata": {},
   "outputs": [],
   "source": [
    "with open('./Policy/Threat_Assessment_Policy/57b64ef9-17b2-404c-82c5-0e43e8019e62.json') as json_file:\n",
    "    tap_57b64ef9 = json.load(json_file)"
   ]
  },
  {
   "cell_type": "code",
   "execution_count": 32,
   "metadata": {},
   "outputs": [
    {
     "data": {
      "text/plain": [
       "{'uuid': '57b64ef9-17b2-404c-82c5-0e43e8019e62',\n",
       " 'Name': 'Threat Assessment Policy for Failed_Hardware_Integrity_Check',\n",
       " 'Priority': 0,\n",
       " 'Policy': 'OPTIONAL{            ?Equipment rdf:type ?class.            ?class rdfs:subClassOf ?topclass.            FILTER (?topclass IN (ssso:Telecommunication, ssso:Network, ssso:Lock, ssso:AV)).            BIND (?class AS ?con1).        }.                BIND (IF(BOUND(?con1), ssso:TL-4, ssso:TL-2) AS ?Threat_Level)                ',\n",
       " 'Description': 'AV, Network, Lock, Telecommunication ->TL-4 otherwise TL-2'}"
      ]
     },
     "execution_count": 32,
     "metadata": {},
     "output_type": "execute_result"
    }
   ],
   "source": [
    "tap_57b64ef9"
   ]
  },
  {
   "cell_type": "code",
   "execution_count": 33,
   "metadata": {},
   "outputs": [
    {
     "data": {
      "text/plain": [
       "'57b64ef9-17b2-404c-82c5-0e43e8019e62'"
      ]
     },
     "execution_count": 33,
     "metadata": {},
     "output_type": "execute_result"
    }
   ],
   "source": [
    "manager.policy.add_policy(policyDict = tap_57b64ef9, policyClass='Threat_Assessment_Policy')"
   ]
  },
  {
   "cell_type": "markdown",
   "metadata": {},
   "source": [
    "## Event 11\n",
    "* Event Description: Register a new device \"Smart TV\"\n",
    "* Event Type: Register Device\n",
    "* Event Response: 1 device, 13 services added"
   ]
  },
  {
   "cell_type": "code",
   "execution_count": 34,
   "metadata": {},
   "outputs": [],
   "source": [
    "context = {\n",
    "\"Location\":\"BLD4-F16-M201-2\",\n",
    "\"Group\":\"BLD4-Classified-Room\"\n",
    "}"
   ]
  },
  {
   "cell_type": "code",
   "execution_count": 35,
   "metadata": {},
   "outputs": [],
   "source": [
    "with open('./Equipment/AV/EQM_SmartTV_ModelA.json') as json_file:\n",
    "    SmartTV_EQM = json.load(json_file)"
   ]
  },
  {
   "cell_type": "code",
   "execution_count": 36,
   "metadata": {},
   "outputs": [
    {
     "data": {
      "text/plain": [
       "{'uuid': '72f2cb15-b82d-41e1-8520-c70e28d9415d',\n",
       " 'Equipment Model Name': 'Smart TV Model A',\n",
       " 'Equipment Model Version': '3.1',\n",
       " 'last_update_timestamp': '2019-08-03T21:23:53.581662+00:00',\n",
       " 'Equipment Class': 'Smart_TV',\n",
       " 'Service': [{'Name': 'Play Audio Service on Type A Smart TV',\n",
       "   'Service Class': 'Play_Audio',\n",
       "   'Resource Name': {'HTTP': '/audioplayer', 'RPC': '/audioplayer'},\n",
       "   'Required Security Level': 'SL-2',\n",
       "   'Request Model': '72caf2cf-2430-4536-8e8b-76cefd66e009'},\n",
       "  {'Name': 'Play Video Service on Type A Smart TV',\n",
       "   'Service Class': 'Play_Video',\n",
       "   'Resource Name': {'HTTP': '/videoplayer', 'RPC': '/videoplayer'},\n",
       "   'Required Security Level': 'SL-2'},\n",
       "  {'Name': 'Capture Video Service on Type A Smart TV',\n",
       "   'Service Class': 'Capture_Video',\n",
       "   'Resource Name': {'RPC': '/capvid'},\n",
       "   'Required Security Level': 'SL-4'},\n",
       "  {'Name': 'Record Audio Service on Type A Smart TV',\n",
       "   'Service Class': 'Record_Audio',\n",
       "   'Resource Name': {'RPC': '/videorecorder'},\n",
       "   'Required Security Level': 'SL-4'},\n",
       "  {'Name': 'Face Authentication Service on Type A Smart TV',\n",
       "   'Service Class': 'Face_Authentication',\n",
       "   'Resource Name': {'RPC': '/faceauth'},\n",
       "   'Security Level Provided': 'SL-3'},\n",
       "  {'Name': 'Detect Motion Service on Type A Smart TV',\n",
       "   'Service Class': 'Detect_Motion',\n",
       "   'Resource Name': {'HTTP': '/sensor/motion'},\n",
       "   'Required Security Level': 'SL-2'},\n",
       "  {'Name': 'Detect Occupancy Service on Type A Smart TV',\n",
       "   'Service Class': 'Detect_Occupancy',\n",
       "   'Resource Name': {'HTTP': '/sensor/occupancy'},\n",
       "   'Required Security Level': 'SL-2'},\n",
       "  {'Name': 'Detect Face Service on Type A Smart TV',\n",
       "   'Service Class': 'Detect_Face',\n",
       "   'Resource Name': {'RPC': '/sensor/face'},\n",
       "   'Required Security Level': 'SL-4'},\n",
       "  {'Name': 'Share Screen Service on Type A Smart TV',\n",
       "   'Service Class': 'Share_Screen',\n",
       "   'Resource Name': {'RPC': '/screenshare'},\n",
       "   'Required Security Level': 'SL-4'},\n",
       "  {'Name': 'Take screenshot Service on Type A Smart TV',\n",
       "   'Service Class': 'Take_Screenshot',\n",
       "   'Resource Name': {'RPC': '/screenshot'},\n",
       "   'Required Security Level': 'SL-4'},\n",
       "  {'Name': 'Video Call Service on Type A Smart TV',\n",
       "   'Service Class': 'Video_Call',\n",
       "   'Resource Name': {'RPC': '/vdc'},\n",
       "   'Required Security Level': 'SL-4'},\n",
       "  {'Name': 'Call Service on Type A Smart TV',\n",
       "   'Service Class': 'Call',\n",
       "   'Resource Name': {'RPC': '/call'},\n",
       "   'Required Security Level': 'SL-4'},\n",
       "  {'Name': 'Detect Infrared Radiation',\n",
       "   'Service Class': 'Detect_Infrared_Radiation',\n",
       "   'Resource Name': {'HTTP': '/inf'},\n",
       "   'Required Security Level': 'SL-1'}],\n",
       " 'threat': [{'Name': 'Failed_Hardware_Integrity_Check',\n",
       "   'Threat Class': 'Failed_Hardware_Integrity_Check',\n",
       "   'Threat Assessment Policy': '57b64ef9-17b2-404c-82c5-0e43e8019e62'}],\n",
       " 'Description': {'Manufacturer': 'Foo Bar Inc.',\n",
       "  'size': '90',\n",
       "  'Resolution': '3840x2160'}}"
      ]
     },
     "execution_count": 36,
     "metadata": {},
     "output_type": "execute_result"
    }
   ],
   "source": [
    "SmartTV_EQM"
   ]
  },
  {
   "cell_type": "code",
   "execution_count": 37,
   "metadata": {},
   "outputs": [
    {
     "execution_count": 37,
     "name": "stdout",
     "output_type": "stream",
     "text": [
      "54731f4d-7e70-4533-9fb3-310342a20930\n"
     ]
    }
   ],
   "source": [
    "Smart_TV = manager.equipment.create(equipmentModel=SmartTV_EQM, context=context)\n",
    "print(Smart_TV)"
   ]
  },
  {
   "cell_type": "markdown",
   "metadata": {},
   "source": [
    "## Event 12\n",
    "* Event Description: Register a new device \"Projector\"\n",
    "* Event Type: Register Device\n",
    "* Event Response: 1 device, 2 services added"
   ]
  },
  {
   "cell_type": "code",
   "execution_count": 38,
   "metadata": {},
   "outputs": [],
   "source": [
    "context = {\n",
    "\"Location\":\"BLD4-F16-M201-2\",\n",
    "\"Group\":\"BLD4-Classified-Room\"\n",
    "}"
   ]
  },
  {
   "cell_type": "code",
   "execution_count": 39,
   "metadata": {},
   "outputs": [],
   "source": [
    "with open('./Equipment/AV/EQM_Projector_ModelA.json') as json_file:\n",
    "    Projector_EQM = json.load(json_file)"
   ]
  },
  {
   "cell_type": "code",
   "execution_count": 40,
   "metadata": {},
   "outputs": [
    {
     "data": {
      "text/plain": [
       "{'uuid': 'ac3ef45f-2366-4a71-9a8d-1d2777625c11',\n",
       " 'Equipment Model Name': 'Projector Model A',\n",
       " 'Equipment Model Version': '1.1',\n",
       " 'last_update_timestamp': '2019-08-03T21:23:53.581662+00:00',\n",
       " 'Equipment Class': 'Projector',\n",
       " 'Service': [{'Name': 'Play Audio Service on Type A Projector',\n",
       "   'Service Class': 'Play_Audio',\n",
       "   'Resource Name': {'RPC': '/audioplayer'},\n",
       "   'Required Security Level': 'SL-2'},\n",
       "  {'Name': 'Play Video Service on Type A Projector',\n",
       "   'Service Class': 'Play_Video',\n",
       "   'Resource Name': {'RPC': '/videoplayer'},\n",
       "   'Required Security Level': 'SL-2'}],\n",
       " 'threat': [],\n",
       " 'Description': {'Manufacturer': 'Foo Bar Inc.',\n",
       "  'Screen Size': '100',\n",
       "  'Screen Resolution': '3840x2160'}}"
      ]
     },
     "execution_count": 40,
     "metadata": {},
     "output_type": "execute_result"
    }
   ],
   "source": [
    "Projector_EQM"
   ]
  },
  {
   "cell_type": "code",
   "execution_count": 41,
   "metadata": {},
   "outputs": [
    {
     "execution_count": 41,
     "name": "stdout",
     "output_type": "stream",
     "text": [
      "1e3afd7e-5924-478f-8f36-6354b44b2dd4\n"
     ]
    }
   ],
   "source": [
    "Projector = manager.equipment.create(equipmentModel=Projector_EQM, context=context)\n",
    "print(Projector)"
   ]
  },
  {
   "cell_type": "markdown",
   "metadata": {},
   "source": [
    "## Event 13\n",
    "* Event Description: Register a new device \"Network Camera\"\n",
    "* Event Type: Register Device\n",
    "* Event Response: 1 device, 6 services added"
   ]
  },
  {
   "cell_type": "code",
   "execution_count": 42,
   "metadata": {},
   "outputs": [],
   "source": [
    "context = {\n",
    "\"Location\":\"BLD4-F16-M201-2\",\n",
    "\"Group\":\"BLD4-Classified-Room\"\n",
    "}"
   ]
  },
  {
   "cell_type": "code",
   "execution_count": 43,
   "metadata": {},
   "outputs": [],
   "source": [
    "with open('./Equipment/AV/EQM_NetworkCamera_ModelA.json') as json_file:\n",
    "    NetworkCamera_EQM = json.load(json_file)"
   ]
  },
  {
   "cell_type": "code",
   "execution_count": 44,
   "metadata": {},
   "outputs": [
    {
     "data": {
      "text/plain": [
       "{'uuid': '9ba88a1b-98bd-4552-a570-3587e9fb213a',\n",
       " 'Equipment Model Name': 'Network_Camera Model A',\n",
       " 'Equipment Model Version': '2.1',\n",
       " 'last_update_timestamp': '2019-08-03T21:23:53.581662+00:00',\n",
       " 'Equipment Class': 'Network_Camera',\n",
       " 'Service': [{'Name': 'Take Photo Service on Type A Smart Camera',\n",
       "   'Service Class': 'Take_Photo',\n",
       "   'Resource Name': {'HTTP': '/photo'},\n",
       "   'Required Security Level': 'SL-2'},\n",
       "  {'Name': 'Face Authentication Service on Type A Smart Camera',\n",
       "   'Service Class': 'Face_Authentication',\n",
       "   'Resource Name': {'RPC': '/faceauth'},\n",
       "   'Security Level Provided': 'SL-3'},\n",
       "  {'Name': 'Capture Video Service on Type A Smart Camera',\n",
       "   'Service Class': 'Capture_Video',\n",
       "   'Resource Name': {'RPC': '/capvid'},\n",
       "   'Required Security Level': 'SL-4'},\n",
       "  {'Name': 'Detect Occupancy Service on Type A Smart Camera',\n",
       "   'Service Class': 'Detect_Occupancy',\n",
       "   'Resource Name': {'HTTP': '/sensor/occupancy'},\n",
       "   'Required Security Level': 'SL-2'},\n",
       "  {'Name': 'Detect Motion Service on Type A Smart Camera',\n",
       "   'Service Class': 'Detect_Motion',\n",
       "   'Resource Name': {'HTTP': '/sensor/motion'},\n",
       "   'Required Security Level': 'SL-2'},\n",
       "  {'Name': 'Detect Face Service on Type A Smart Camera',\n",
       "   'Service Class': 'Detect_Face',\n",
       "   'Resource Name': {'RPC': '/sensor/face'},\n",
       "   'Required Security Level': 'SL-4'}],\n",
       " 'threat': [{'Name': 'Detect Unexpected_Motion by Camera',\n",
       "   'Threat Class': 'Unexpected_Motion',\n",
       "   'Threat Assessment Policy': '43fbb6fa-45e6-4650-b175-c2a9c9e88167'},\n",
       "  {'Name': 'Detect Unrecognized_Face',\n",
       "   'Threat Class': 'Unrecognized_Face',\n",
       "   'Threat Assessment Policy': '43fbb6fa-45e6-4650-b175-c2a9c9e88167'}],\n",
       " 'Description': {'Manufacturer': 'Foo Bar Inc.',\n",
       "  'FPS': '60',\n",
       "  'Maximum Resolution': '3840x2160'}}"
      ]
     },
     "execution_count": 44,
     "metadata": {},
     "output_type": "execute_result"
    }
   ],
   "source": [
    "NetworkCamera_EQM"
   ]
  },
  {
   "cell_type": "code",
   "execution_count": 45,
   "metadata": {},
   "outputs": [
    {
     "execution_count": 45,
     "name": "stdout",
     "output_type": "stream",
     "text": [
      "b2d0fe7a-5810-4f84-b923-7f3866a7e783\n"
     ]
    }
   ],
   "source": [
    "Network_Camera = manager.equipment.create(equipmentModel=NetworkCamera_EQM, context=context)\n",
    "print(Network_Camera)"
   ]
  },
  {
   "cell_type": "markdown",
   "metadata": {},
   "source": [
    "## Event 14\n",
    "* Event Description: Register a new Access Policy 'e669ac1d-7337-4107-8422-1e980d4a953d'\n",
    "* Policy Description: Only Authenticated Users in HVAC Manager Group can access the HVAC controlsystem.\n",
    "* Event Type: Register Policy\n",
    "* Event Response: 1 policy added"
   ]
  },
  {
   "cell_type": "code",
   "execution_count": 46,
   "metadata": {},
   "outputs": [],
   "source": [
    "with open('./Policy/Access_Policy/e669ac1d-7337-4107-8422-1e980d4a953d.json') as json_file:\n",
    "    ap_e669ac1d = json.load(json_file)"
   ]
  },
  {
   "cell_type": "code",
   "execution_count": 47,
   "metadata": {},
   "outputs": [
    {
     "data": {
      "text/plain": [
       "{'uuid': 'e669ac1d-7337-4107-8422-1e980d4a953d',\n",
       " 'Name': 'HVAC Control System Access Policy',\n",
       " 'Priority': 0,\n",
       " 'Policy': '?sl rdf:type ssso:Security_Level.?User ssso:hasPolicy ?sl.FILTER (?sl IN (ssso:SL-1, ssso:SL-2, ssso:SL-3, ssso:SL-4)).?User ssso:hasContext ssso:HVAC_Manager.',\n",
       " 'Description': 'Only Authenticated Users in HVAC Manager Group can access the control system.'}"
      ]
     },
     "execution_count": 47,
     "metadata": {},
     "output_type": "execute_result"
    }
   ],
   "source": [
    "ap_e669ac1d"
   ]
  },
  {
   "cell_type": "code",
   "execution_count": 48,
   "metadata": {},
   "outputs": [
    {
     "data": {
      "text/plain": [
       "'e669ac1d-7337-4107-8422-1e980d4a953d'"
      ]
     },
     "execution_count": 48,
     "metadata": {},
     "output_type": "execute_result"
    }
   ],
   "source": [
    "manager.policy.add_policy(policyDict = ap_e669ac1d, policyClass='Access_Policy')"
   ]
  },
  {
   "cell_type": "markdown",
   "metadata": {},
   "source": [
    "## Event 15\n",
    "* Event Description: Register a new Access Policy 'ca067e92-2dbf-4841-8561-fefe39b71cc9'\n",
    "* Policy Description: Only Devices in HVAC Sensor Group can access the sensors of HVAC system.\n",
    "* Event Type: Register Policy\n",
    "* Event Response: 1 policy added"
   ]
  },
  {
   "cell_type": "code",
   "execution_count": 49,
   "metadata": {},
   "outputs": [],
   "source": [
    "with open('./Policy/Access_Policy/ca067e92-2dbf-4841-8561-fefe39b71cc9.json') as json_file:\n",
    "    ap_ca067e92 = json.load(json_file)"
   ]
  },
  {
   "cell_type": "code",
   "execution_count": 50,
   "metadata": {},
   "outputs": [
    {
     "data": {
      "text/plain": [
       "{'uuid': 'ca067e92-2dbf-4841-8561-fefe39b71cc9',\n",
       " 'Name': 'HVAC Sensor System Access Policy',\n",
       " 'Priority': 0,\n",
       " 'Policy': '?sl rdf:type ssso:Security_Level.?User ssso:hasPolicy ?sl.?User ssso:hasContext ssso:HVAC_Sensor.',\n",
       " 'Description': 'Only Devices in HVAC Sensor Group can access the sensors of HVAC system.'}"
      ]
     },
     "execution_count": 50,
     "metadata": {},
     "output_type": "execute_result"
    }
   ],
   "source": [
    "ap_ca067e92"
   ]
  },
  {
   "cell_type": "code",
   "execution_count": 51,
   "metadata": {},
   "outputs": [
    {
     "data": {
      "text/plain": [
       "'ca067e92-2dbf-4841-8561-fefe39b71cc9'"
      ]
     },
     "execution_count": 51,
     "metadata": {},
     "output_type": "execute_result"
    }
   ],
   "source": [
    "manager.policy.add_policy(policyDict = ap_ca067e92, policyClass='Access_Policy')"
   ]
  },
  {
   "cell_type": "markdown",
   "metadata": {},
   "source": [
    "## Event 16\n",
    "* Event Description: Register a new device \"Airflow Valve\"\n",
    "* Event Type: Register Device\n",
    "* Event Response: 1 device, 2 services added"
   ]
  },
  {
   "cell_type": "code",
   "execution_count": 52,
   "metadata": {},
   "outputs": [],
   "source": [
    "context = {\n",
    "\"Location\":\"BLD4-F16-M201-2\",\n",
    "\"Group\":\"HVAC_System\"\n",
    "}"
   ]
  },
  {
   "cell_type": "code",
   "execution_count": 53,
   "metadata": {},
   "outputs": [],
   "source": [
    "with open('./Equipment/HVAC/EQM_Airflow_Valve.json') as json_file:\n",
    "    EQM_Airflow_Valve = json.load(json_file)"
   ]
  },
  {
   "cell_type": "code",
   "execution_count": 54,
   "metadata": {},
   "outputs": [
    {
     "data": {
      "text/plain": [
       "{'uuid': '28300489-5019-4866-8892-1e7d9183d608',\n",
       " 'Equipment Model Name': 'Airflow Valve Model A',\n",
       " 'Equipment Model Version': '0.1',\n",
       " 'last_update_timestamp': '2019-08-03T21:23:53.581662+00:00',\n",
       " 'Equipment Class': 'Airflow_Valve',\n",
       " 'Service': [{'Name': 'Airflow setpoint control',\n",
       "   'Service Class': 'Airflow_Setpoint_Control',\n",
       "   'Resource Name': {'RPC': '/airflow'},\n",
       "   'Access Policy': 'e669ac1d-7337-4107-8422-1e980d4a953d'},\n",
       "  {'Name': 'Measure wind speed by the sensor',\n",
       "   'Service Class': 'Measure_Wind_Speed',\n",
       "   'Resource Name': {'RPC': '/windspeed'},\n",
       "   'Access Policy': 'ca067e92-2dbf-4841-8561-fefe39b71cc9'}],\n",
       " 'threat': [],\n",
       " 'Description': {'Manufacturer': 'Foo Bar Inc.', 'Model': 'Type A'}}"
      ]
     },
     "execution_count": 54,
     "metadata": {},
     "output_type": "execute_result"
    }
   ],
   "source": [
    "EQM_Airflow_Valve"
   ]
  },
  {
   "cell_type": "code",
   "execution_count": 55,
   "metadata": {},
   "outputs": [
    {
     "execution_count": 55,
     "name": "stdout",
     "output_type": "stream",
     "text": [
      "348a8aa6-e4bf-4137-838f-7f41d7f70cc8\n"
     ]
    }
   ],
   "source": [
    "Airflow_Valve = manager.equipment.create(equipmentModel=EQM_Airflow_Valve, context=context)\n",
    "print(Airflow_Valve)"
   ]
  },
  {
   "cell_type": "markdown",
   "metadata": {},
   "source": [
    "## Event 17\n",
    "* Event Description: Register a new Access Policy '65e240ae-24c2-498c-9638-cc20b7152fa0'\n",
    "* Policy Description: Only Devices/Users in Emergency System Group can access.\n",
    "* Event Type: Register Policy\n",
    "* Event Response: 1 policy added"
   ]
  },
  {
   "cell_type": "code",
   "execution_count": 56,
   "metadata": {},
   "outputs": [],
   "source": [
    "with open('./Policy/Access_Policy/65e240ae-24c2-498c-9638-cc20b7152fa0.json') as json_file:\n",
    "    ap_65e240ae = json.load(json_file)"
   ]
  },
  {
   "cell_type": "code",
   "execution_count": 57,
   "metadata": {},
   "outputs": [
    {
     "data": {
      "text/plain": [
       "{'uuid': '65e240ae-24c2-498c-9638-cc20b7152fa0',\n",
       " 'Name': 'Emergency System Access Policy',\n",
       " 'Priority': 100,\n",
       " 'Policy': '?sl rdf:type ssso:Security_Level.?User ssso:hasPolicy ?sl.FILTER (?sl IN (ssso:SL-1, ssso:SL-2, ssso:SL-3, ssso:SL-4)).?User ssso:hasContext ssso:Emergency_System.',\n",
       " 'Description': 'Only Devices/Users in Emergency System Group can access.'}"
      ]
     },
     "execution_count": 57,
     "metadata": {},
     "output_type": "execute_result"
    }
   ],
   "source": [
    "ap_65e240ae"
   ]
  },
  {
   "cell_type": "code",
   "execution_count": 58,
   "metadata": {},
   "outputs": [
    {
     "data": {
      "text/plain": [
       "'65e240ae-24c2-498c-9638-cc20b7152fa0'"
      ]
     },
     "execution_count": 58,
     "metadata": {},
     "output_type": "execute_result"
    }
   ],
   "source": [
    "manager.policy.add_policy(policyDict = ap_65e240ae, policyClass='Access_Policy')"
   ]
  },
  {
   "cell_type": "markdown",
   "metadata": {},
   "source": [
    "## Event 18\n",
    "* Event Description: Register a new device \"Fire Damper\"\n",
    "* Event Type: Register Device\n",
    "* Event Response: 1 device, 5 services added"
   ]
  },
  {
   "cell_type": "code",
   "execution_count": 59,
   "metadata": {},
   "outputs": [],
   "source": [
    "context = {\n",
    "\"Location\":\"BLD4-F16-M201-2\",\n",
    "\"Group\":\"HVAC_System\"\n",
    "}"
   ]
  },
  {
   "cell_type": "code",
   "execution_count": 60,
   "metadata": {},
   "outputs": [],
   "source": [
    "with open('./Equipment/HVAC/EQM_Fire_Damper.json') as json_file:\n",
    "    EQM_Fire_Damper = json.load(json_file)"
   ]
  },
  {
   "cell_type": "code",
   "execution_count": 61,
   "metadata": {},
   "outputs": [
    {
     "data": {
      "text/plain": [
       "{'uuid': 'f80ca2c1-79e7-49a8-bb42-e5a90aeadcdb',\n",
       " 'Equipment Model Name': 'Fire Damper Model A',\n",
       " 'Equipment Model Version': '0.1',\n",
       " 'last_update_timestamp': '2019-08-03T21:23:53.581662+00:00',\n",
       " 'Equipment Class': 'Fire_Damper',\n",
       " 'Service': [{'Name': 'Detect_Fire',\n",
       "   'Service Class': 'Detect_Fire',\n",
       "   'Resource Name': {'MQTT': '/Fire'},\n",
       "   'Access Policy': 'ca067e92-2dbf-4841-8561-fefe39b71cc9'},\n",
       "  {'Name': 'Detect_Smoke',\n",
       "   'Service Class': 'Detect_Smoke',\n",
       "   'Resource Name': {'MQTT': '/Smoke'},\n",
       "   'Access Policy': 'ca067e92-2dbf-4841-8561-fefe39b71cc9'},\n",
       "  {'Name': 'Detect_CO_Level',\n",
       "   'Service Class': 'Detect_CO_Level',\n",
       "   'Resource Name': {'MQTT': '/CO_Level'},\n",
       "   'Access Policy': 'ca067e92-2dbf-4841-8561-fefe39b71cc9'},\n",
       "  {'Name': 'Close_Window',\n",
       "   'Service Class': 'Close_Window',\n",
       "   'Resource Name': {'RPC': '/Close_Window'},\n",
       "   'Access Policy': '65e240ae-24c2-498c-9638-cc20b7152fa0'},\n",
       "  {'Name': 'Open_Window',\n",
       "   'Service Class': 'Open_Window',\n",
       "   'Resource Name': {'RPC': '/Open_Window'},\n",
       "   'Access Policy': '65e240ae-24c2-498c-9638-cc20b7152fa0'}],\n",
       " 'threat': [],\n",
       " 'Description': {'Manufacturer': 'Foo Bar Inc.', 'Model': 'Type A'}}"
      ]
     },
     "execution_count": 61,
     "metadata": {},
     "output_type": "execute_result"
    }
   ],
   "source": [
    "EQM_Fire_Damper"
   ]
  },
  {
   "cell_type": "code",
   "execution_count": 62,
   "metadata": {},
   "outputs": [
    {
     "data": {
      "text/plain": [
       "'41e5bcd5-77bc-4910-aa5e-3eb2e2a896ea'"
      ]
     },
     "execution_count": 62,
     "metadata": {},
     "output_type": "execute_result"
    }
   ],
   "source": [
    "Fire_Damper = manager.equipment.create(equipmentModel=EQM_Fire_Damper, context=context)\n",
    "print(Fire_Damper)"
   ]
  },
  {
   "cell_type": "markdown",
   "metadata": {},
   "source": [
    "## Event 19\n",
    "* Event Description: Register a new device \"Smoke Detector\"\n",
    "* Event Type: Register Device\n",
    "* Event Response: 1 device, 3 services added"
   ]
  },
  {
   "cell_type": "code",
   "execution_count": 63,
   "metadata": {},
   "outputs": [],
   "source": [
    "context = {\n",
    "\"Location\":\"BLD4-F16-M201-2\",\n",
    "\"Group\":\"HVAC_System\"\n",
    "}"
   ]
  },
  {
   "cell_type": "code",
   "execution_count": 64,
   "metadata": {},
   "outputs": [],
   "source": [
    "with open('./Equipment/HVAC/EQM_Smoke_Detector.json') as json_file:\n",
    "    EQM_Smoke_Detector = json.load(json_file)"
   ]
  },
  {
   "cell_type": "code",
   "execution_count": 65,
   "metadata": {},
   "outputs": [
    {
     "data": {
      "text/plain": [
       "{'uuid': '466751ca-5535-4b4e-8018-a9dc80057526',\n",
       " 'Equipment Model Name': 'Smoke_Detector Model A',\n",
       " 'Equipment Model Version': '0.1',\n",
       " 'last_update_timestamp': '2019-08-03T21:23:53.581662+00:00',\n",
       " 'Equipment Class': 'Smoke_Detector',\n",
       " 'Service': [{'Name': 'Detect_Fire',\n",
       "   'Service Class': 'Detect_Fire',\n",
       "   'Resource Name': {'MQTT': '/Fire'},\n",
       "   'Access Policy': 'ca067e92-2dbf-4841-8561-fefe39b71cc9'},\n",
       "  {'Name': 'Detect_Smoke',\n",
       "   'Service Class': 'Detect_Smoke',\n",
       "   'Resource Name': {'MQTT': '/Smoke'},\n",
       "   'Access Policy': 'ca067e92-2dbf-4841-8561-fefe39b71cc9'},\n",
       "  {'Name': 'Detect_CO_Level',\n",
       "   'Service Class': 'Detect_CO_Level',\n",
       "   'Resource Name': {'MQTT': '/CO_Level'},\n",
       "   'Access Policy': 'ca067e92-2dbf-4841-8561-fefe39b71cc9'}],\n",
       " 'threat': [],\n",
       " 'Description': {'Manufacturer': 'Foo Bar Inc.', 'Model': 'Type A'}}"
      ]
     },
     "execution_count": 65,
     "metadata": {},
     "output_type": "execute_result"
    }
   ],
   "source": [
    "EQM_Smoke_Detector"
   ]
  },
  {
   "cell_type": "code",
   "execution_count": 66,
   "metadata": {},
   "outputs": [
    {
     "data": {
      "text/plain": [
       "'b55060b8-0398-4d96-8144-f87127715357'"
      ]
     },
     "execution_count": 66,
     "metadata": {},
     "output_type": "execute_result"
    }
   ],
   "source": [
    "Smoke_Detector = manager.equipment.create(equipmentModel=EQM_Smoke_Detector, context=context)\n",
    "print(Smoke_Detector)"
   ]
  },
  {
   "cell_type": "markdown",
   "metadata": {},
   "source": [
    "## Event 20\n",
    "* Event Description: Register a new device \"EQM Temperature Sensor\"\n",
    "* Event Type: Register Device\n",
    "* Event Response: 1 device, 2 services added"
   ]
  },
  {
   "cell_type": "code",
   "execution_count": 67,
   "metadata": {},
   "outputs": [],
   "source": [
    "context = {\n",
    "\"Location\":\"BLD4-F16-M201-2\",\n",
    "\"Group\":\"HVAC_System\"\n",
    "}"
   ]
  },
  {
   "cell_type": "code",
   "execution_count": 68,
   "metadata": {},
   "outputs": [],
   "source": [
    "with open('./Equipment/HVAC/EQM_Temperature_Sensor.json') as json_file:\n",
    "    EQM_Temperature_Sensor = json.load(json_file)"
   ]
  },
  {
   "cell_type": "code",
   "execution_count": 69,
   "metadata": {},
   "outputs": [
    {
     "data": {
      "text/plain": [
       "{'uuid': '7f2e5e81-a3d4-44cb-95c0-4ad9839a7f12',\n",
       " 'Equipment Model Name': 'Temperature_Sensor Model A',\n",
       " 'Equipment Model Version': '1.1',\n",
       " 'last_update_timestamp': '2019-08-03T21:23:53.581662+00:00',\n",
       " 'Equipment Class': 'Temperature_Sensor',\n",
       " 'Service': [{'Name': 'Measure_Temperature',\n",
       "   'Service Class': 'Measure_Temperature',\n",
       "   'Resource Name': {'MQTT': '/temp'},\n",
       "   'Access Policy': 'ca067e92-2dbf-4841-8561-fefe39b71cc9'},\n",
       "  {'Name': 'Measure_Humidity',\n",
       "   'Service Class': 'Measure_Humidity',\n",
       "   'Resource Name': {'MQTT': '/humidity'},\n",
       "   'Access Policy': 'ca067e92-2dbf-4841-8561-fefe39b71cc9'}],\n",
       " 'threat': [],\n",
       " 'Description': {'Manufacturer': 'Foo Bar Inc.', 'Model': 'Type A'}}"
      ]
     },
     "execution_count": 69,
     "metadata": {},
     "output_type": "execute_result"
    }
   ],
   "source": [
    "EQM_Temperature_Sensor"
   ]
  },
  {
   "cell_type": "code",
   "execution_count": 70,
   "metadata": {},
   "outputs": [
    {
     "data": {
      "text/plain": [
       "'b92d32d7-01d9-4c68-a924-44f345f05fee'"
      ]
     },
     "execution_count": 70,
     "metadata": {},
     "output_type": "execute_result"
    }
   ],
   "source": [
    "Temperature_Sensor = manager.equipment.create(equipmentModel=EQM_Temperature_Sensor, context=context)\n",
    "print(Temperature_Sensor)"
   ]
  },
  {
   "cell_type": "markdown",
   "metadata": {},
   "source": [
    "## Event 21\n",
    "* Event Description: Register a new Access Policy 'c71ff4ff-3c8a-462c-a83e-253af288eafb'\n",
    "* Policy Description: Only Authenticated Users in HVAC Manager Group or Users that have the same location as the thermostat can access the control system.\n",
    "* Event Type: Register Policy\n",
    "* Event Response: 1 policy added"
   ]
  },
  {
   "cell_type": "code",
   "execution_count": 71,
   "metadata": {},
   "outputs": [],
   "source": [
    "with open('./Policy/Access_Policy/c71ff4ff-3c8a-462c-a83e-253af288eafb.json') as json_file:\n",
    "    ap_c71ff4ff = json.load(json_file)"
   ]
  },
  {
   "cell_type": "code",
   "execution_count": 72,
   "metadata": {},
   "outputs": [
    {
     "data": {
      "text/plain": [
       "{'uuid': 'c71ff4ff-3c8a-462c-a83e-253af288eafb',\n",
       " 'Name': 'Thermostat Access Policy',\n",
       " 'Priority': 0,\n",
       " 'Policy': '?sl rdf:type ssso:Security_Level.?User ssso:hasPolicy ?sl.FILTER (?sl IN (ssso:SL-1, ssso:SL-2, ssso:SL-3, ssso:SL-4)).OPTIONAL{?User ssso:hasContext ssso:HVAC_Manager.}.OPTIONAL{?User ssso:hasContext ?loc.?loc rdf:type ssso:Location.?eq ssso:hasService ?Service.?eq ssso:hasContext ?loc.}                ',\n",
       " 'Description': 'Only Authenticated Users in HVAC Manager Group or Users that have the same location as the thermostat can access the control system.'}"
      ]
     },
     "execution_count": 72,
     "metadata": {},
     "output_type": "execute_result"
    }
   ],
   "source": [
    "ap_c71ff4ff"
   ]
  },
  {
   "cell_type": "code",
   "execution_count": 73,
   "metadata": {},
   "outputs": [
    {
     "data": {
      "text/plain": [
       "'c71ff4ff-3c8a-462c-a83e-253af288eafb'"
      ]
     },
     "execution_count": 73,
     "metadata": {},
     "output_type": "execute_result"
    }
   ],
   "source": [
    "manager.policy.add_policy(policyDict = ap_c71ff4ff, policyClass='Access_Policy')"
   ]
  },
  {
   "cell_type": "markdown",
   "metadata": {},
   "source": [
    "## Event 22\n",
    "* Event Description: Register a new device \"Thermostat\"\n",
    "* Event Type: Register Device\n",
    "* Event Response: 1 device, 5 services added"
   ]
  },
  {
   "cell_type": "code",
   "execution_count": 74,
   "metadata": {},
   "outputs": [],
   "source": [
    "context = {\n",
    "\"Location\":\"BLD4-F16-M201-2\",\n",
    "\"Group\":\"HVAC_System\"\n",
    "}"
   ]
  },
  {
   "cell_type": "code",
   "execution_count": 75,
   "metadata": {},
   "outputs": [],
   "source": [
    "with open('./Equipment/HVAC/EQM_Thermostat.json') as json_file:\n",
    "    EQM_Thermostat = json.load(json_file)"
   ]
  },
  {
   "cell_type": "code",
   "execution_count": 76,
   "metadata": {},
   "outputs": [
    {
     "data": {
      "text/plain": [
       "{'uuid': '21781603-0e4b-4da2-ac83-402de4db02ef',\n",
       " 'Equipment Model Name': 'Thermostat Model A',\n",
       " 'Equipment Model Version': '2.1',\n",
       " 'last_update_timestamp': '2019-08-03T21:23:53.581662+00:00',\n",
       " 'Equipment Class': 'Thermostat',\n",
       " 'Service': [{'Name': 'Measure_Temperature',\n",
       "   'Service Class': 'Measure_Temperature',\n",
       "   'Resource Name': {'MQTT': '/temp'},\n",
       "   'Access Policy': 'ca067e92-2dbf-4841-8561-fefe39b71cc9'},\n",
       "  {'Name': 'Measure_Humidity',\n",
       "   'Service Class': 'Measure_Humidity',\n",
       "   'Resource Name': {'MQTT': '/humidity'},\n",
       "   'Access Policy': 'ca067e92-2dbf-4841-8561-fefe39b71cc9'},\n",
       "  {'Name': 'Room_Temperature_Setpoint_Control',\n",
       "   'Service Class': 'Room_Temperature_Setpoint_Control',\n",
       "   'Resource Name': {'RPC': '/tempctl'},\n",
       "   'Access Policy': 'c71ff4ff-3c8a-462c-a83e-253af288eafb'},\n",
       "  {'Name': 'Airflow_Setpoint_Control',\n",
       "   'Service Class': 'Airflow_Setpoint_Control',\n",
       "   'Resource Name': {'RPC': '/afctl'},\n",
       "   'Access Policy': 'c71ff4ff-3c8a-462c-a83e-253af288eafb'},\n",
       "  {'Name': 'Detect_Occupancy',\n",
       "   'Service Class': 'Detect_Occupancy',\n",
       "   'Resource Name': {'MQTT': '/occupancy'},\n",
       "   'Access Policy': 'ca067e92-2dbf-4841-8561-fefe39b71cc9'}],\n",
       " 'threat': [],\n",
       " 'Description': {'Manufacturer': 'Foo Bar Inc.', 'Model': 'Type A'}}"
      ]
     },
     "execution_count": 76,
     "metadata": {},
     "output_type": "execute_result"
    }
   ],
   "source": [
    "EQM_Thermostat"
   ]
  },
  {
   "cell_type": "code",
   "execution_count": 77,
   "metadata": {},
   "outputs": [
    {
     "execution_count": 77,
     "name": "stdout",
     "output_type": "stream",
     "text": [
      "a7af031e-5941-4bd7-9e55-9ffa0ff9a597\n"
     ]
    }
   ],
   "source": [
    "Thermostat = manager.equipment.create(equipmentModel=EQM_Thermostat, context=context)\n",
    "print(Thermostat)"
   ]
  },
  {
   "cell_type": "markdown",
   "metadata": {},
   "source": [
    "## Event 23\n",
    "* Event Description: Register a new Security Assessment Policy 'fcfdb350-f613-4dfa-81eb-45f35e4d5fff'\n",
    "* Policy Description: SL-4 if the classification level of the location is Classified, SL-2 if Normal, SL-0 if Public.\n",
    "* Event Type: Register Policy\n",
    "* Event Response: 1 policy added"
   ]
  },
  {
   "cell_type": "code",
   "execution_count": 78,
   "metadata": {},
   "outputs": [],
   "source": [
    "with open('./Policy/Security_Assessment_Policy/fcfdb350-f613-4dfa-81eb-45f35e4d5fff.json') as json_file:\n",
    "    sap_fcfdb350 = json.load(json_file)"
   ]
  },
  {
   "cell_type": "code",
   "execution_count": 79,
   "metadata": {},
   "outputs": [
    {
     "data": {
      "text/plain": [
       "{'uuid': 'fcfdb350-f613-4dfa-81eb-45f35e4d5fff',\n",
       " 'Name': 'Door Control Access Policy',\n",
       " 'Priority': 0,\n",
       " 'Policy': '                OPTIONAL{                    ?eq ssso:hasService ?Service.                    ?loc rdf:type ssso:Location.                    ?eq ssso:hasContext ?loc.                    ?loc ssso:hasPolicy ssso:Classified.                    ?sl rdf:type ssso:Security_Level.                    ?User ssso:hasPolicy ?sl.                    FILTER (?sl IN (ssso:SL-4)).                    BIND (?sl AS ?con1).                }                OPTIONAL{                    ?eq ssso:hasService ?Service.                    ?loc rdf:type ssso:Location.                    ?eq ssso:hasContext ?loc.                    ?loc ssso:hasPolicy ssso:Normal.                    ?sl rdf:type ssso:Security_Level.                    ?User ssso:hasPolicy ?sl.                    FILTER (?sl IN (ssso:SL-2, ssso:SL-3, ssso:SL-4)).                    BIND (?sl AS ?con2).                }                OPTIONAL{                    ?eq ssso:hasService ?Service.                    ?loc rdf:type ssso:Location.                    ?eq ssso:hasContext ?loc.                    ?loc ssso:hasPolicy ssso:Public.                    BIND (?loc AS ?con3).                }                BIND (COALESCE(IF(BOUND(?con1), ssso:SL-4, 0/0),IF(BOUND(?con2), ssso:SL-2, 0/0), IF(BOUND(?con3), ssso:SL-0, 0/0),ssso:SL-4) AS ?Security_Level)',\n",
       " 'Description': 'If the room is classified, requires SL-4; If the room is normal, requires SL-2; If the room is public, requires SL-0.'}"
      ]
     },
     "execution_count": 79,
     "metadata": {},
     "output_type": "execute_result"
    }
   ],
   "source": [
    "sap_fcfdb350"
   ]
  },
  {
   "cell_type": "code",
   "execution_count": 80,
   "metadata": {},
   "outputs": [
    {
     "data": {
      "text/plain": [
       "'fcfdb350-f613-4dfa-81eb-45f35e4d5fff'"
      ]
     },
     "execution_count": 80,
     "metadata": {},
     "output_type": "execute_result"
    }
   ],
   "source": [
    "manager.policy.add_policy(policyDict = sap_fcfdb350, policyClass='Security_Assessment_Policy')"
   ]
  },
  {
   "cell_type": "markdown",
   "metadata": {},
   "source": [
    "## Event 24\n",
    "* Event Description: Register a new Threat Assessment Policy 'dd361e39-62e3-4ebe-a35a-3af19a6caa4b'\n",
    "* Policy Description: TL-3 if the classification level of the location/group is Classified, TL-2 if Normal, TL-1 if Public. If no classification defined, pose TL-3 for the sake of security.\n",
    "* Event Type: Register Policy\n",
    "* Event Response: 1 policy added"
   ]
  },
  {
   "cell_type": "code",
   "execution_count": 81,
   "metadata": {},
   "outputs": [],
   "source": [
    "with open('./Policy/Threat_Assessment_Policy/dd361e39-62e3-4ebe-a35a-3af19a6caa4b.json') as json_file:\n",
    "    tap_dd361e39 = json.load(json_file)"
   ]
  },
  {
   "cell_type": "code",
   "execution_count": 82,
   "metadata": {},
   "outputs": [
    {
     "data": {
      "text/plain": [
       "{'uuid': 'dd361e39-62e3-4ebe-a35a-3af19a6caa4b',\n",
       " 'Name': 'Threat Assessment Policy for Electromagnetic Attack',\n",
       " 'Priority': 0,\n",
       " 'Policy': '                OPTIONAL{                    ?loc rdf:type ssso:Location.                    ?Equipment ssso:hasContext ?loc.                    ?loc ssso:hasPolicy ssso:Classified.                    BIND (?loc AS ?con1).                }                OPTIONAL{                    ?Equipment ssso:hasContext ?loc.                    ?loc rdf:type ssso:Location.                    ?loc ssso:hasPolicy ssso:Normal.                    BIND (?loc AS ?con2).                }                OPTIONAL{                    ?Equipment ssso:hasContext ?loc.                    ?loc rdf:type ssso:Location.                    ?loc ssso:hasPolicy ssso:Public.                    BIND (?loc AS ?con3).                }                BIND (COALESCE(IF(BOUND(?con1), ssso:TL-3, 0/0),IF(BOUND(?con2), ssso:TL-2, 0/0), IF(BOUND(?con3), ssso:TL-1, 0/0),ssso:TL-3) AS ?Threat_Level)',\n",
       " 'Description': 'If Classified -> TL-3, if Normal -> TL-2, if Public -> TL-1, otherwise TL-3'}"
      ]
     },
     "execution_count": 82,
     "metadata": {},
     "output_type": "execute_result"
    }
   ],
   "source": [
    "tap_dd361e39"
   ]
  },
  {
   "cell_type": "code",
   "execution_count": 83,
   "metadata": {},
   "outputs": [],
   "source": [
    "manager.policy.add_policy(policyDict = tap_dd361e39, policyClass='Threat_Assessment_Policy')"
   ]
  },
  {
   "cell_type": "markdown",
   "metadata": {},
   "source": [
    "## Event 25\n",
    "* Event Description: Register a new Threat Assessment Policy '3456b5d8-7276-4ada-a14c-210919f740e8'\n",
    "* Policy Description: TL-4 if the classification level of the location/group is Classified, TL-2 if Normal, TL-0 if Public. If no classification defined, pose TL-4 for the sake of security.\n",
    "* Event Type: Register Policy\n",
    "* Event Response: 1 policy added"
   ]
  },
  {
   "cell_type": "code",
   "execution_count": 84,
   "metadata": {},
   "outputs": [],
   "source": [
    "with open('./Policy/Threat_Assessment_Policy/3456b5d8-7276-4ada-a14c-210919f740e8.json') as json_file:\n",
    "    tap_3456b5d8 = json.load(json_file)"
   ]
  },
  {
   "cell_type": "code",
   "execution_count": 85,
   "metadata": {},
   "outputs": [
    {
     "data": {
      "text/plain": [
       "{'uuid': '3456b5d8-7276-4ada-a14c-210919f740e8',\n",
       " 'Name': 'Threat Assessment Policy for Unexpected Door/Window Open',\n",
       " 'Priority': 0,\n",
       " 'Policy': '                OPTIONAL{                    ?loc rdf:type ssso:Location.                    ?Equipment ssso:hasContext ?loc.                    ?loc ssso:hasPolicy ssso:Classified.                    BIND (?loc AS ?con1).                }                OPTIONAL{                    ?Equipment ssso:hasContext ?loc.                    ?loc rdf:type ssso:Location.                    ?loc ssso:hasPolicy ssso:Normal.                    BIND (?loc AS ?con2).                }                OPTIONAL{                    ?Equipment ssso:hasContext ?loc.                    ?loc rdf:type ssso:Location.                    ?loc ssso:hasPolicy ssso:Public.                    BIND (?loc AS ?con3).                }                BIND (COALESCE(IF(BOUND(?con1), ssso:TL-4, 0/0),IF(BOUND(?con2), ssso:TL-2, 0/0), IF(BOUND(?con3), ssso:TL-0, 0/0),ssso:TL-4) AS ?Threat_Level)',\n",
       " 'Description': 'If Classified -> TL-4, if Normal -> TL-2, if Public -> TL-0, otherwise TL-4'}"
      ]
     },
     "execution_count": 85,
     "metadata": {},
     "output_type": "execute_result"
    }
   ],
   "source": [
    "tap_3456b5d8"
   ]
  },
  {
   "cell_type": "code",
   "execution_count": 86,
   "metadata": {},
   "outputs": [
    {
     "data": {
      "text/plain": [
       "'3456b5d8-7276-4ada-a14c-210919f740e8'"
      ]
     },
     "execution_count": 86,
     "metadata": {},
     "output_type": "execute_result"
    }
   ],
   "source": [
    "manager.policy.add_policy(policyDict = tap_3456b5d8, policyClass='Threat_Assessment_Policy')"
   ]
  },
  {
   "cell_type": "markdown",
   "metadata": {},
   "source": [
    "## Event 26\n",
    "* Event Description: Register a new device \"RFID Door Lock\"\n",
    "* Event Type: Register Device\n",
    "* Event Response: 1 device, 4 services added"
   ]
  },
  {
   "cell_type": "code",
   "execution_count": 87,
   "metadata": {},
   "outputs": [],
   "source": [
    "context = {\n",
    "\"Location\":\"BLD4-F16-M201-2\",\n",
    "\"Group\":\"BLD4-Classified-Room\"\n",
    "}"
   ]
  },
  {
   "cell_type": "code",
   "execution_count": 88,
   "metadata": {},
   "outputs": [],
   "source": [
    "with open('./Equipment/Lock/RFID_Door_Lock.json') as json_file:\n",
    "    RFID_Door_Lock = json.load(json_file)"
   ]
  },
  {
   "cell_type": "code",
   "execution_count": 89,
   "metadata": {},
   "outputs": [
    {
     "data": {
      "text/plain": [
       "{'uuid': '0a0284fc-68d9-429f-9cc5-952819ea4bbe',\n",
       " 'Equipment Model Name': 'RFID_Door_Lock Model A',\n",
       " 'Equipment Model Version': '4.1',\n",
       " 'last_update_timestamp': '2019-08-03T21:23:53.581662+00:00',\n",
       " 'Equipment Class': 'RFID_Door_Lock',\n",
       " 'Service': [{'Name': 'NFC Authentication Service on RIFD Door Lock',\n",
       "   'Service Class': 'NFC_Authentication',\n",
       "   'Resource Name': {'RPC': '/nfcauth'},\n",
       "   'Trust Level Assessment Policy': 'cb965d9e-2887-44c7-a9e9-336c398712a4'},\n",
       "  {'Name': 'Smart Card Authentication Service on RIFD Door Lock',\n",
       "   'Service Class': 'Smart_Card_Authentication',\n",
       "   'Resource Name': {'RPC': '/smcdcauth'},\n",
       "   'Trust Level Assessment Policy': 'cb965d9e-2887-44c7-a9e9-336c398712a4'},\n",
       "  {'Name': 'Open Door Service on Type A RIFD Door Lock',\n",
       "   'Service Class': 'Open_Door',\n",
       "   'Resource Name': {'RPC': '/open_door'},\n",
       "   'Security Assessment Policy': 'fcfdb350-f613-4dfa-81eb-45f35e4d5fff'},\n",
       "  {'Name': 'Close_Door Service on Type A Smart RIFD Door Lock',\n",
       "   'Service Class': 'Close_Door',\n",
       "   'Resource Name': {'RPC': '/close_door'},\n",
       "   'Security Assessment Policy': 'fcfdb350-f613-4dfa-81eb-45f35e4d5fff'}],\n",
       " 'threat': [{'Name': 'Electromagnetic_Attack Detected by RF Sensors',\n",
       "   'Threat Class': 'Electromagnetic_Attack',\n",
       "   'Threat Assessment Policy': 'dd361e39-62e3-4ebe-a35a-3af19a6caa4b'},\n",
       "  {'Name': 'Unexpected Door Open',\n",
       "   'Threat Class': 'Unexpected_Door_Open',\n",
       "   'Threat Assessment Policy': '3456b5d8-7276-4ada-a14c-210919f740e8'},\n",
       "  {'Name': 'Failed_Hardware_Integrity',\n",
       "   'Threat Class': 'Failed_Hardware_Integrity_Check',\n",
       "   'Threat Assessment Policy': '57b64ef9-17b2-404c-82c5-0e43e8019e62'}],\n",
       " 'Description': {'Manufacturer': 'Foo Bar Inc.', 'Model': 'Type A'}}"
      ]
     },
     "execution_count": 89,
     "metadata": {},
     "output_type": "execute_result"
    }
   ],
   "source": [
    "RFID_Door_Lock"
   ]
  },
  {
   "cell_type": "code",
   "execution_count": 90,
   "metadata": {},
   "outputs": [
    {
     "data": {
      "text/plain": [
       "'bbf33b52-4b95-47e8-a9e8-6a96b895e507'"
      ]
     },
     "execution_count": 90,
     "metadata": {},
     "output_type": "execute_result"
    }
   ],
   "source": [
    "RFID_Door_Lock = manager.equipment.create(equipmentModel=RFID_Door_Lock, context=context)\n",
    "print(RFID_Door_Lock)"
   ]
  },
  {
   "cell_type": "markdown",
   "metadata": {},
   "source": [
    "## Event 27\n",
    "* Event Description: Register a new device \"Safe Box Lock\"\n",
    "* Event Type: Register Device\n",
    "* Event Response: 1 device, 4 services added"
   ]
  },
  {
   "cell_type": "code",
   "execution_count": 91,
   "metadata": {},
   "outputs": [],
   "source": [
    "context = {\n",
    "\"Location\":\"BLD4-F16-M201-2\",\n",
    "\"Group\":\"BLD4-Classified-Room\"\n",
    "}"
   ]
  },
  {
   "cell_type": "code",
   "execution_count": 92,
   "metadata": {},
   "outputs": [],
   "source": [
    "with open('./Equipment/Lock/Safe_Box_Lock.json') as json_file:\n",
    "    Safe_Box_Lock = json.load(json_file)"
   ]
  },
  {
   "cell_type": "code",
   "execution_count": 93,
   "metadata": {},
   "outputs": [
    {
     "data": {
      "text/plain": [
       "{'uuid': '85041d33-9bac-4e82-aac5-ea7af5cd7871',\n",
       " 'Equipment Model Name': 'Safe_Box_Lock Model A',\n",
       " 'Equipment Model Version': '2.1',\n",
       " 'last_update_timestamp': '2019-08-03T21:23:53.581662+00:00',\n",
       " 'Equipment Class': 'Safe_Box_Lock',\n",
       " 'Service': [{'Name': 'Fingerprint Authentication Service on Type A Safe_Box_Lock',\n",
       "   'Service Class': 'Fingerprint_Authentication',\n",
       "   'Resource Name': {'RPC': '/fingerprintauth'},\n",
       "   'Security Level Provided': 'SL-3'},\n",
       "  {'Name': 'Password Authentication Service on Type A Safe_Box_Lock',\n",
       "   'Service Class': 'Password_Authentication',\n",
       "   'Resource Name': {'RPC': '/passwdauth'},\n",
       "   'Security Level Provided': 'SL-2'},\n",
       "  {'Name': 'Open Door Service on Type A Safe_Box_Lock',\n",
       "   'Service Class': 'Open_Door',\n",
       "   'Resource Name': {'RPC': '/open_door'},\n",
       "   'Required Security Level': 'SL-4'},\n",
       "  {'Name': 'Close_Door Service on Type A Safe_Box_Lock',\n",
       "   'Service Class': 'Close_Door',\n",
       "   'Resource Name': {'RPC': '/close_door'},\n",
       "   'Required Security Level': 'SL-4'}],\n",
       " 'threat': [{'Name': 'Brute Force Attack by Password Hacking',\n",
       "   'Threat Class': 'Brute_Force_Attack',\n",
       "   'Threat Assessment Policy': '43fbb6fa-45e6-4650-b175-c2a9c9e88167'},\n",
       "  {'Name': 'Unexpected Door Open',\n",
       "   'Threat Class': 'Unexpected_Door_Open',\n",
       "   'Threat Level': 'TL-4'},\n",
       "  {'Name': 'Failed_Hardware_Integrity',\n",
       "   'Threat Class': 'Failed_Hardware_Integrity_Check',\n",
       "   'Threat Level': 'TL-4'}],\n",
       " 'Description': {'Manufacturer': 'Foo Bar Inc.', 'Model': 'Type A'}}"
      ]
     },
     "execution_count": 93,
     "metadata": {},
     "output_type": "execute_result"
    }
   ],
   "source": [
    "Safe_Box_Lock"
   ]
  },
  {
   "cell_type": "code",
   "execution_count": 94,
   "metadata": {},
   "outputs": [
    {
     "data": {
      "text/plain": [
       "'bf632dbf-9f69-415e-bbdc-ab0a7038843a'"
      ]
     },
     "execution_count": 94,
     "metadata": {},
     "output_type": "execute_result"
    }
   ],
   "source": [
    "Safe_Box_Lock = manager.equipment.create(equipmentModel=Safe_Box_Lock, context=context)\n",
    "print(Safe_Box_Lock)"
   ]
  },
  {
   "cell_type": "markdown",
   "metadata": {},
   "source": [
    "## Event 28\n",
    "* Event Description: Register a new Security Assessment Policy '43fa92d2-efb3-4cb5-87b6-080897d5b20f'\n",
    "* Policy Description: If the room is classified, requires SL-2; If the room is normal, requires SL-1; If the room is public, requires SL-1. Otherwise, requires SL-2.\n",
    "* Event Type: Register Policy\n",
    "* Event Response: 1 policy added"
   ]
  },
  {
   "cell_type": "code",
   "execution_count": 95,
   "metadata": {},
   "outputs": [],
   "source": [
    "with open('./Policy/Security_Assessment_Policy/43fa92d2-efb3-4cb5-87b6-080897d5b20f.json') as json_file:\n",
    "    sap_43fa92d2 = json.load(json_file)"
   ]
  },
  {
   "cell_type": "code",
   "execution_count": 96,
   "metadata": {},
   "outputs": [
    {
     "data": {
      "text/plain": [
       "{'uuid': '43fa92d2-efb3-4cb5-87b6-080897d5b20f',\n",
       " 'Name': 'Smart Card Controlled Policy',\n",
       " 'Priority': 0,\n",
       " 'Policy': '                OPTIONAL{                    ?eq ssso:hasService ?Service.                    ?loc rdf:type ssso:Location.                    ?eq ssso:hasContext ?loc.                    ?loc ssso:hasPolicy ssso:Classified.                    ?sl rdf:type ssso:Security_Level.                    ?User ssso:hasPolicy ?sl.                    FILTER (?sl IN (ssso:SL-4)).                    BIND (?sl AS ?con1).                }                OPTIONAL{                    ?eq ssso:hasService ?Service.                    ?loc rdf:type ssso:Location.                    ?eq ssso:hasContext ?loc.                    ?loc ssso:hasPolicy ssso:Normal.                    ?sl rdf:type ssso:Security_Level.                    ?User ssso:hasPolicy ?sl.                    FILTER (?sl IN (ssso:SL-2, ssso:SL-3, ssso:SL-4)).                    BIND (?sl AS ?con2).                }                OPTIONAL{                    ?eq ssso:hasService ?Service.                    ?loc rdf:type ssso:Location.                    ?eq ssso:hasContext ?loc.                    ?loc ssso:hasPolicy ssso:Public.                    BIND (?loc AS ?con3).                }                BIND (COALESCE(IF(BOUND(?con1), ssso:SL-2, 0/0),IF(BOUND(?con2), ssso:SL-1, 0/0), IF(BOUND(?con3), ssso:SL-1, 0/0),ssso:SL-2) AS ?Security_Level)',\n",
       " 'Description': 'If the room is classified, requires SL-2; If the room is normal, requires SL-1; If the room is public, requires SL-1. Otherwise, requires SL-2.'}"
      ]
     },
     "execution_count": 96,
     "metadata": {},
     "output_type": "execute_result"
    }
   ],
   "source": [
    "sap_43fa92d2"
   ]
  },
  {
   "cell_type": "code",
   "execution_count": 97,
   "metadata": {},
   "outputs": [
    {
     "data": {
      "text/plain": [
       "'43fa92d2-efb3-4cb5-87b6-080897d5b20f'"
      ]
     },
     "execution_count": 97,
     "metadata": {},
     "output_type": "execute_result"
    }
   ],
   "source": [
    "manager.policy.add_policy(policyDict = sap_43fa92d2, policyClass='Security_Assessment_Policy')"
   ]
  },
  {
   "cell_type": "markdown",
   "metadata": {},
   "source": [
    "## Event 29\n",
    "* Event Description: Register a new device \"Smart Card Reader\"\n",
    "* Event Type: Register Device\n",
    "* Event Response: 1 device, 3 services added"
   ]
  },
  {
   "cell_type": "code",
   "execution_count": 98,
   "metadata": {},
   "outputs": [],
   "source": [
    "context = {\n",
    "\"Location\":\"BLD4-F16-M201-2\",\n",
    "\"Group\":\"BLD4-Classified-Room\"\n",
    "}"
   ]
  },
  {
   "cell_type": "code",
   "execution_count": 99,
   "metadata": {},
   "outputs": [],
   "source": [
    "with open('./Equipment/Lock/Smart_Card_Reader.json') as json_file:\n",
    "    Smart_Card_Reader = json.load(json_file)"
   ]
  },
  {
   "cell_type": "code",
   "execution_count": 100,
   "metadata": {},
   "outputs": [
    {
     "data": {
      "text/plain": [
       "{'uuid': 'a2917f42-1669-4b86-880a-00c58fd2d4e0',\n",
       " 'Equipment Model Name': 'Smart_Card_Reader A',\n",
       " 'Equipment Model Version': '3.1',\n",
       " 'last_update_timestamp': '2019-08-03T21:23:53.581662+00:00',\n",
       " 'Equipment Class': 'Smart_Card_Reader',\n",
       " 'Service': [{'Name': 'Smart Card Authentication Service on Smart_Card_Reader',\n",
       "   'Service Class': 'Smart_Card_Authentication',\n",
       "   'Resource Name': {'RPC': '/smcdcauth'},\n",
       "   'Trust Level Assessment Policy': 'cb965d9e-2887-44c7-a9e9-336c398712a4'},\n",
       "  {'Name': 'Open Controlled Window Service on Type A Smart_Card_Reader',\n",
       "   'Service Class': 'Open_Window',\n",
       "   'Resource Name': {'RPC': '/open'},\n",
       "   'Security Assessment Policy': '43fa92d2-efb3-4cb5-87b6-080897d5b20f'},\n",
       "  {'Name': 'Close Controlled Window Service on Type A Smart Smart_Card_Reader',\n",
       "   'Service Class': 'Close_Window',\n",
       "   'Resource Name': {'RPC': '/close'},\n",
       "   'Security Assessment Policy': '43fa92d2-efb3-4cb5-87b6-080897d5b20f'}],\n",
       " 'threat': [{'Name': 'Electromagnetic_Attack Detected by RF Sensors',\n",
       "   'Threat Class': 'Electromagnetic_Attack',\n",
       "   'Threat Assessment Policy': 'dd361e39-62e3-4ebe-a35a-3af19a6caa4b'},\n",
       "  {'Name': 'Unexpected Window Open',\n",
       "   'Threat Class': 'Unexpected_Window_Open',\n",
       "   'Threat Assessment Policy': '3456b5d8-7276-4ada-a14c-210919f740e8'},\n",
       "  {'Name': 'Failed_Hardware_Integrity',\n",
       "   'Threat Class': 'Failed_Hardware_Integrity_Check',\n",
       "   'Threat Assessment Policy': '57b64ef9-17b2-404c-82c5-0e43e8019e62'}],\n",
       " 'Description': {'Manufacturer': 'Foo Bar Inc.', 'Model': 'Type A'}}"
      ]
     },
     "execution_count": 100,
     "metadata": {},
     "output_type": "execute_result"
    }
   ],
   "source": [
    "Smart_Card_Reader"
   ]
  },
  {
   "cell_type": "code",
   "execution_count": 101,
   "metadata": {},
   "outputs": [
    {
     "data": {
      "text/plain": [
       "'3d70489e-4f23-4442-901b-cf3a02e6fa11'"
      ]
     },
     "execution_count": 101,
     "metadata": {},
     "output_type": "execute_result"
    }
   ],
   "source": [
    "Smart_Card_Reader = manager.equipment.create(equipmentModel=Smart_Card_Reader, context=context)\n",
    "print(Smart_Card_Reader)"
   ]
  },
  {
   "cell_type": "markdown",
   "metadata": {},
   "source": [
    "## Event 30\n",
    "* Event Description: Register a new Threat Assessment Policy '3db79f14-1978-411f-8477-f5fb61190bc5'\n",
    "* Policy Description: Minimum_Password_Length>=8 and Password_Rotation_Interval<90 and Classification level is not classified -> TL-1 else TL-2\n",
    "* Event Type: Register Policy\n",
    "* Event Response: 1 policy added"
   ]
  },
  {
   "cell_type": "code",
   "execution_count": 102,
   "metadata": {},
   "outputs": [],
   "source": [
    "with open('./Policy/Threat_Assessment_Policy/3db79f14-1978-411f-8477-f5fb61190bc5.json') as json_file:\n",
    "    tap_3db79f14 = json.load(json_file)"
   ]
  },
  {
   "cell_type": "code",
   "execution_count": 103,
   "metadata": {},
   "outputs": [
    {
     "data": {
      "text/plain": [
       "'3db79f14-1978-411f-8477-f5fb61190bc5'"
      ]
     },
     "execution_count": 103,
     "metadata": {},
     "output_type": "execute_result"
    }
   ],
   "source": [
    "manager.policy.add_policy(policyDict = tap_3db79f14, policyClass='Threat_Assessment_Policy')"
   ]
  },
  {
   "cell_type": "markdown",
   "metadata": {},
   "source": [
    "## Event 31\n",
    "* Event Description: Register a new device \"Smart Door Lock\"\n",
    "* Event Type: Register Device\n",
    "* Event Response: 1 device, 8 services added"
   ]
  },
  {
   "cell_type": "code",
   "execution_count": 104,
   "metadata": {},
   "outputs": [],
   "source": [
    "context = {\n",
    "\"Location\":\"BLD4-F16-M201-2\",\n",
    "\"Group\":\"BLD4-Classified-Room\"\n",
    "}"
   ]
  },
  {
   "cell_type": "code",
   "execution_count": 105,
   "metadata": {},
   "outputs": [],
   "source": [
    "with open('./Equipment/Lock/Smart_Door_Lock.json') as json_file:\n",
    "    Smart_Door_Lock = json.load(json_file)"
   ]
  },
  {
   "cell_type": "code",
   "execution_count": 106,
   "metadata": {},
   "outputs": [
    {
     "data": {
      "text/plain": [
       "{'uuid': '4477c4b4-2402-4110-94ec-98cd1d1bfc5c',\n",
       " 'Equipment Model Name': 'Smart_Door_Lock Model A',\n",
       " 'Equipment Model Version': '3.1',\n",
       " 'last_update_timestamp': '2019-08-03T21:23:53.581662+00:00',\n",
       " 'Equipment Class': 'Smart_Door_Lock',\n",
       " 'Service': [{'Name': 'Face Authentication Service on Type A Smart Door Lock',\n",
       "   'Service Class': 'Face_Authentication',\n",
       "   'Resource Name': {'RPC': '/faceauth'},\n",
       "   'Security Level Provided': 'SL-3'},\n",
       "  {'Name': 'Face Authentication Service on Type A Smart Door Lock',\n",
       "   'Service Class': 'Iris_Authentication',\n",
       "   'Resource Name': {'RPC': '/irisauth'},\n",
       "   'Security Level Provided': 'SL-4'},\n",
       "  {'Name': 'Voice Authentication Service on Type A Smart Door Lock',\n",
       "   'Service Class': 'Voice_Authentication',\n",
       "   'Resource Name': {'RPC': '/voiceauth'},\n",
       "   'Security Level Provided': 'SL-3'},\n",
       "  {'Name': 'NFC Authentication Service on Type A Smart Door Lock',\n",
       "   'Service Class': 'NFC_Authentication',\n",
       "   'Resource Name': {'RPC': '/nfcauth'},\n",
       "   'Trust Level Assessment Policy': 'cb965d9e-2887-44c7-a9e9-336c398712a4'},\n",
       "  {'Name': 'Fingerprint Authentication Service on Type A Smart Door Lock',\n",
       "   'Service Class': 'Fingerprint_Authentication',\n",
       "   'Resource Name': {'RPC': '/fingerprintauth'},\n",
       "   'Security Level Provided': 'SL-3'},\n",
       "  {'Name': 'Password Authentication Service on Type A Smart Door Lock',\n",
       "   'Service Class': 'Password_Authentication',\n",
       "   'Resource Name': {'RPC': '/passwdauth'},\n",
       "   'Trust Level Assessment Policy': 'd8a07c6d-cbbd-4495-b88c-5b1e819e05d2'},\n",
       "  {'Name': 'Open Door Service on Type A Smart Door Lock',\n",
       "   'Service Class': 'Open_Door',\n",
       "   'Resource Name': {'RPC': '/open_door'},\n",
       "   'Security Assessment Policy': 'fcfdb350-f613-4dfa-81eb-45f35e4d5fff'},\n",
       "  {'Name': 'Close Door Service on Type A Smart Door Lock',\n",
       "   'Service Class': 'Close_Door',\n",
       "   'Resource Name': {'RPC': '/close_door'},\n",
       "   'Security Assessment Policy': 'fcfdb350-f613-4dfa-81eb-45f35e4d5fff'}],\n",
       " 'threat': [{'Name': 'Simple Password',\n",
       "   'Threat Class': 'Simple_Password',\n",
       "   'Threat Assessment Policy': '3db79f14-1978-411f-8477-f5fb61190bc5'},\n",
       "  {'Name': 'Unexpected Door Open',\n",
       "   'Threat Class': 'Unexpected_Door_Open',\n",
       "   'Threat Assessment Policy': '3456b5d8-7276-4ada-a14c-210919f740e8'},\n",
       "  {'Name': 'Failed_Hardware_Integrity',\n",
       "   'Threat Class': 'Failed_Hardware_Integrity_Check',\n",
       "   'Threat Assessment Policy': '57b64ef9-17b2-404c-82c5-0e43e8019e62'}],\n",
       " 'Description': {'Manufacturer': 'Foo Bar Inc.', 'Model': 'Type A'}}"
      ]
     },
     "execution_count": 106,
     "metadata": {},
     "output_type": "execute_result"
    }
   ],
   "source": [
    "Smart_Door_Lock"
   ]
  },
  {
   "cell_type": "code",
   "execution_count": 107,
   "metadata": {},
   "outputs": [
    {
     "execution_count": 107,
     "name": "stdout",
     "output_type": "stream",
     "text": [
      "4f1e1f51-572e-487b-a7aa-319dfd21af23\n"
     ]
    }
   ],
   "source": [
    "Smart_Door_Lock = manager.equipment.create(equipmentModel=Smart_Door_Lock, context=context)\n",
    "print(Smart_Door_Lock)"
   ]
  },
  {
   "cell_type": "markdown",
   "metadata": {},
   "source": [
    "## Event 32\n",
    "* Event Description: Register a new Threat Assessment Policy 'e28430ec-a753-4d94-b6bc-89ed5c8054f2'\n",
    "* Policy Description: Classified -> TL-2 Normal -> TL-2 Public -> TL-1 Otherwise -> TL-2\n",
    "* Event Type: Register Policy\n",
    "* Event Response: 1 policy added"
   ]
  },
  {
   "cell_type": "code",
   "execution_count": 108,
   "metadata": {},
   "outputs": [],
   "source": [
    "with open('./Policy/Threat_Assessment_Policy/e28430ec-a753-4d94-b6bc-89ed5c8054f2.json') as json_file:\n",
    "    tap_e28430ec = json.load(json_file)"
   ]
  },
  {
   "cell_type": "code",
   "execution_count": 109,
   "metadata": {},
   "outputs": [
    {
     "data": {
      "text/plain": [
       "'e28430ec-a753-4d94-b6bc-89ed5c8054f2'"
      ]
     },
     "execution_count": 109,
     "metadata": {},
     "output_type": "execute_result"
    }
   ],
   "source": [
    "manager.policy.add_policy(policyDict = tap_e28430ec, policyClass='Threat_Assessment_Policy')"
   ]
  },
  {
   "cell_type": "markdown",
   "metadata": {},
   "source": [
    "## Event 33\n",
    "* Event Description: Register a new device \"Smart Key Lock\"\n",
    "* Event Type: Register Device\n",
    "* Event Response: 1 device, 3 services added"
   ]
  },
  {
   "cell_type": "code",
   "execution_count": 110,
   "metadata": {},
   "outputs": [],
   "source": [
    "context = {\n",
    "\"Location\":\"BLD4-F16-M201-2\",\n",
    "\"Group\":\"BLD4-Classified-Room\"\n",
    "}"
   ]
  },
  {
   "cell_type": "code",
   "execution_count": 111,
   "metadata": {},
   "outputs": [],
   "source": [
    "with open('./Equipment/Lock/Smart_Key_Lock.json') as json_file:\n",
    "    Smart_Key_Lock = json.load(json_file)"
   ]
  },
  {
   "cell_type": "code",
   "execution_count": 112,
   "metadata": {},
   "outputs": [
    {
     "data": {
      "text/plain": [
       "{'uuid': 'ba429eca-32cd-4934-90d5-9bfc2aacef2f',\n",
       " 'Equipment Model Name': 'Safe Key Lock Model A',\n",
       " 'Equipment Model Version': '2.1',\n",
       " 'last_update_timestamp': '2019-08-03T21:23:53.581662+00:00',\n",
       " 'Equipment Class': 'Smart_Key_Lock',\n",
       " 'Service': [{'Name': 'Password Authentication Service on Type A Smart_Key_Lock',\n",
       "   'Service Class': 'Password_Authentication',\n",
       "   'Resource Name': {'RPC': '/passwdauth'},\n",
       "   'Security Level Provided': 'SL-2'},\n",
       "  {'Name': 'Turn on controlled resource Service on Type A Smart_Key_Lock',\n",
       "   'Service Class': 'Turn_on',\n",
       "   'Resource Name': {'RPC': '/on'},\n",
       "   'Required Security Level': 'SL-2'},\n",
       "  {'Name': 'Turn off controlled resource Service on Type A Smart_Key_Lock',\n",
       "   'Service Class': 'Turn_off',\n",
       "   'Resource Name': {'RPC': '/ff'},\n",
       "   'Required Security Level': 'SL-2'}],\n",
       " 'threat': [{'Name': 'Brute Force Attack by Password Hacking',\n",
       "   'Threat Class': 'Brute_Force_Attack',\n",
       "   'Threat Assessment Policy': 'e28430ec-a753-4d94-b6bc-89ed5c8054f2'}],\n",
       " 'Description': {'Manufacturer': 'Foo Bar Inc.', 'Model': 'Type A'}}"
      ]
     },
     "execution_count": 112,
     "metadata": {},
     "output_type": "execute_result"
    }
   ],
   "source": [
    "Smart_Key_Lock"
   ]
  },
  {
   "cell_type": "code",
   "execution_count": 113,
   "metadata": {},
   "outputs": [
    {
     "data": {
      "text/plain": [
       "'63acd154-60d3-4b56-8aa2-c994ae553e3e'"
      ]
     },
     "execution_count": 113,
     "metadata": {},
     "output_type": "execute_result"
    }
   ],
   "source": [
    "Smart_Key_Lock = manager.equipment.create(equipmentModel=Smart_Key_Lock, context=context)"
   ]
  },
  {
   "cell_type": "markdown",
   "metadata": {},
   "source": [
    "## Event 34\n",
    "* Event Description: Register a new Access Policy '801cd727-18d3-4256-af9c-2e8c6ad77e4c'\n",
    "* Policy Description: Only Authenticated Users in Server Manager Group can access the server.\n",
    "* Event Type: Register Policy\n",
    "* Event Response: 1 policy added"
   ]
  },
  {
   "cell_type": "code",
   "execution_count": 114,
   "metadata": {},
   "outputs": [],
   "source": [
    "with open('./Policy/Access_Policy/801cd727-18d3-4256-af9c-2e8c6ad77e4c.json') as json_file:\n",
    "    ap_801cd727 = json.load(json_file)"
   ]
  },
  {
   "cell_type": "code",
   "execution_count": 115,
   "metadata": {},
   "outputs": [
    {
     "data": {
      "text/plain": [
       "'801cd727-18d3-4256-af9c-2e8c6ad77e4c'"
      ]
     },
     "execution_count": 115,
     "metadata": {},
     "output_type": "execute_result"
    }
   ],
   "source": [
    "manager.policy.add_policy(policyDict = ap_801cd727, policyClass='Access_Policy')"
   ]
  },
  {
   "cell_type": "markdown",
   "metadata": {},
   "source": [
    "## Event 35\n",
    "* Event Description: Register a new Trust Level Assessment Policy 'b0e3c089-3db2-48f1-857e-ba7157ae8335'\n",
    "* Policy Description: Token_Maximum_Age<=10 -> SL-2 else SL-0.\n",
    "* Event Type: Register Policy\n",
    "* Event Response: 1 policy added"
   ]
  },
  {
   "cell_type": "code",
   "execution_count": 116,
   "metadata": {},
   "outputs": [],
   "source": [
    "with open('./Policy/Trust_Level_Assessment_Policy/b0e3c089-3db2-48f1-857e-ba7157ae8335.json') as json_file:\n",
    "    tla_b0e3c089 = json.load(json_file)"
   ]
  },
  {
   "cell_type": "code",
   "execution_count": 117,
   "metadata": {},
   "outputs": [
    {
     "data": {
      "text/plain": [
       "'b0e3c089-3db2-48f1-857e-ba7157ae8335'"
      ]
     },
     "execution_count": 117,
     "metadata": {},
     "output_type": "execute_result"
    }
   ],
   "source": [
    "manager.policy.add_policy(policyDict = tla_b0e3c089, policyClass='Trust_Level_Assessment_Policy')"
   ]
  },
  {
   "cell_type": "markdown",
   "metadata": {},
   "source": [
    "## Event 36\n",
    "* Event Description: Register a new Trust Level Assessment Policy '347286fc-4dc5-4bf7-8ed7-fc806370d71a'\n",
    "* Policy Description: Encryption in Transit Service Enabled -> SL-2 Otherwise -> SL-1.\n",
    "* Event Type: Register Policy\n",
    "* Event Response: 1 policy added"
   ]
  },
  {
   "cell_type": "code",
   "execution_count": 118,
   "metadata": {},
   "outputs": [],
   "source": [
    "with open('./Policy/Trust_Level_Assessment_Policy/347286fc-4dc5-4bf7-8ed7-fc806370d71a.json') as json_file:\n",
    "    tla_347286fc = json.load(json_file)"
   ]
  },
  {
   "cell_type": "code",
   "execution_count": 119,
   "metadata": {},
   "outputs": [
    {
     "data": {
      "text/plain": [
       "'347286fc-4dc5-4bf7-8ed7-fc806370d71a'"
      ]
     },
     "execution_count": 119,
     "metadata": {},
     "output_type": "execute_result"
    }
   ],
   "source": [
    "manager.policy.add_policy(policyDict = tla_347286fc, policyClass='Trust_Level_Assessment_Policy')"
   ]
  },
  {
   "cell_type": "markdown",
   "metadata": {},
   "source": [
    "## Event 37\n",
    "* Event Description: Register a new Trust Level Assessment Policy 'c6338919-406d-46b5-936b-c4a4573afea1'\n",
    "* Policy Description: Encryption in Transit Service Enabled -> SL-1 Otherwise -> SL-0.\n",
    "* Event Type: Register Policy\n",
    "* Event Response: 1 policy added"
   ]
  },
  {
   "cell_type": "code",
   "execution_count": 120,
   "metadata": {},
   "outputs": [],
   "source": [
    "with open('./Policy/Trust_Level_Assessment_Policy/c6338919-406d-46b5-936b-c4a4573afea1.json') as json_file:\n",
    "    tla_c6338919 = json.load(json_file)"
   ]
  },
  {
   "cell_type": "code",
   "execution_count": 121,
   "metadata": {},
   "outputs": [
    {
     "data": {
      "text/plain": [
       "'c6338919-406d-46b5-936b-c4a4573afea1'"
      ]
     },
     "execution_count": 121,
     "metadata": {},
     "output_type": "execute_result"
    }
   ],
   "source": [
    "manager.policy.add_policy(policyDict = tla_c6338919, policyClass='Trust_Level_Assessment_Policy')"
   ]
  },
  {
   "cell_type": "markdown",
   "metadata": {},
   "source": [
    "## Event 38\n",
    "* Event Description: Register a new Threat Mitigation Policy '68b4952d-1109-4e8f-b14f-0994e87c2d7d'\n",
    "* Policy Description: Enable all Encryption at Rest services on the device, Mitigated Threat Level is TL-0 .\n",
    "* Event Type: Register Policy\n",
    "* Event Response: 1 policy added"
   ]
  },
  {
   "cell_type": "code",
   "execution_count": 122,
   "metadata": {},
   "outputs": [],
   "source": [
    "with open('./Policy/Threat_Mitigation_Policy/68b4952d-1109-4e8f-b14f-0994e87c2d7d.json') as json_file:\n",
    "    tmp_68b4952d = json.load(json_file)"
   ]
  },
  {
   "cell_type": "code",
   "execution_count": 123,
   "metadata": {},
   "outputs": [
    {
     "data": {
      "text/plain": [
       "'68b4952d-1109-4e8f-b14f-0994e87c2d7d'"
      ]
     },
     "execution_count": 123,
     "metadata": {},
     "output_type": "execute_result"
    }
   ],
   "source": [
    "manager.policy.add_policy(policyDict = tmp_68b4952d, policyClass='Threat_Mitigation_Policy')"
   ]
  },
  {
   "cell_type": "markdown",
   "metadata": {},
   "source": [
    "## Event 39\n",
    "* Event Description: Register a new Threat Mitigation Policy '0f3042db-cf25-4654-9b5b-a99d21599992'\n",
    "* Policy Description: Disable share data service on the device, Mitigated Threat Level is TL-1 .\n",
    "* Event Type: Register Policy\n",
    "* Event Response: 1 policy added"
   ]
  },
  {
   "cell_type": "code",
   "execution_count": 124,
   "metadata": {},
   "outputs": [],
   "source": [
    "with open('./Policy/Threat_Mitigation_Policy/0f3042db-cf25-4654-9b5b-a99d21599992.json') as json_file:\n",
    "    tmp_0f3042db = json.load(json_file)"
   ]
  },
  {
   "cell_type": "code",
   "execution_count": 125,
   "metadata": {},
   "outputs": [
    {
     "data": {
      "text/plain": [
       "'0f3042db-cf25-4654-9b5b-a99d21599992'"
      ]
     },
     "execution_count": 125,
     "metadata": {},
     "output_type": "execute_result"
    }
   ],
   "source": [
    "manager.policy.add_policy(policyDict = tmp_0f3042db, policyClass='Threat_Mitigation_Policy')"
   ]
  },
  {
   "cell_type": "markdown",
   "metadata": {},
   "source": [
    "## Event 40\n",
    "* Event Description: Register a new Threat Mitigation Policy '26f29b73-b3b2-4678-be1a-8082dd67b542'\n",
    "* Policy Description: Disable all services on the device, Mitigated Threat Level is TL-4 .\n",
    "* Event Type: Register Policy\n",
    "* Event Response: 1 policy added"
   ]
  },
  {
   "cell_type": "code",
   "execution_count": 126,
   "metadata": {},
   "outputs": [],
   "source": [
    "with open('./Policy/Threat_Mitigation_Policy/26f29b73-b3b2-4678-be1a-8082dd67b542.json') as json_file:\n",
    "    tmp_26f29b73 = json.load(json_file)"
   ]
  },
  {
   "cell_type": "code",
   "execution_count": 127,
   "metadata": {},
   "outputs": [
    {
     "data": {
      "text/plain": [
       "'26f29b73-b3b2-4678-be1a-8082dd67b542'"
      ]
     },
     "execution_count": 127,
     "metadata": {},
     "output_type": "execute_result"
    }
   ],
   "source": [
    "manager.policy.add_policy(policyDict = tmp_26f29b73, policyClass='Threat_Mitigation_Policy')"
   ]
  },
  {
   "cell_type": "markdown",
   "metadata": {},
   "source": [
    "## Event 41\n",
    "* Event Description: Register a new device \"File Server\"\n",
    "* Event Type: Register Device\n",
    "* Event Response: 1 device, 8 services added"
   ]
  },
  {
   "cell_type": "code",
   "execution_count": 128,
   "metadata": {},
   "outputs": [],
   "source": [
    "context = {\n",
    "\"Location\":\"BLD4-F16-M201-2\",\n",
    "\"Group\":\"BLD4-Classified-Room\"\n",
    "}"
   ]
  },
  {
   "cell_type": "code",
   "execution_count": 129,
   "metadata": {},
   "outputs": [],
   "source": [
    "with open('./Equipment/Network/File_Server.json') as json_file:\n",
    "    File_Server = json.load(json_file)"
   ]
  },
  {
   "cell_type": "code",
   "execution_count": 130,
   "metadata": {},
   "outputs": [
    {
     "data": {
      "text/plain": [
       "{'uuid': '40ff1d86-f04d-4b4f-a161-e84ffb52e4cc',\n",
       " 'Equipment Model Name': 'File Server Model A',\n",
       " 'Equipment Model Version': '4.1',\n",
       " 'last_update_timestamp': '2019-08-03T21:23:53.581662+00:00',\n",
       " 'Equipment Class': 'File_Server',\n",
       " 'Service': [{'Name': 'Share Data Service on Type A File Server',\n",
       "   'Service Class': 'Share_Data',\n",
       "   'Resource Name': {'HTTP': '/sharedata'},\n",
       "   'Required Security Level': 'SL-4'},\n",
       "  {'Name': 'Store Data Service on Type A File Server',\n",
       "   'Service Class': 'Store_Data',\n",
       "   'Resource Name': {'HTTP': '/storedata'},\n",
       "   'Required Security Level': 'SL-2'},\n",
       "  {'Name': 'Encryption at Rest Service on Type A File Server',\n",
       "   'Service Class': 'Encryption_at_Rest',\n",
       "   'Resource Name': {'HTTP': '/ecrprest'},\n",
       "   'Required Security Level': 'SL-0'},\n",
       "  {'Name': 'Encryption in Transit Service on Type A File Server',\n",
       "   'Service Class': 'Encryption_in_Transit',\n",
       "   'Resource Name': {'HTTP': '/ecrptrst'},\n",
       "   'Required Security Level': 'SL-0'},\n",
       "  {'Name': 'Detect Data Integrity Service on Type A File Server',\n",
       "   'Service Class': 'Detect_Data_Integrity',\n",
       "   'Resource Name': {'HTTP': '/datainte'},\n",
       "   'Access Policy': '801cd727-18d3-4256-af9c-2e8c6ad77e4c'},\n",
       "  {'Name': 'Token Authentication Service on Type A File Server',\n",
       "   'Service Class': 'Token_Authentication',\n",
       "   'Resource Name': {'HTTP': '/token'},\n",
       "   'Trust Level Assessment Policy': 'b0e3c089-3db2-48f1-857e-ba7157ae8335'},\n",
       "  {'Name': 'OAuth Authentication Service on Type A File Server',\n",
       "   'Service Class': 'OAuth_Authentication',\n",
       "   'Resource Name': {'HTTP': '/oauth'},\n",
       "   'Trust Level Assessment Policy': '347286fc-4dc5-4bf7-8ed7-fc806370d71a'},\n",
       "  {'Name': 'Password Authentication Service on File Server',\n",
       "   'Service Class': 'Password_Authentication',\n",
       "   'Resource Name': {'RPC': '/passwdauth'},\n",
       "   'Trust Level Assessment Policy': 'c6338919-406d-46b5-936b-c4a4573afea1'}],\n",
       " 'threat': [{'Name': 'Unrecognized_File',\n",
       "   'Threat Class': 'Unrecognized_File',\n",
       "   'Threat Mitigation Policy': '68b4952d-1109-4e8f-b14f-0994e87c2d7d'},\n",
       "  {'Name': 'Unexpected_Privilege_Escalation',\n",
       "   'Threat Class': 'Unexpected_Privilege_Escalation',\n",
       "   'Threat Mitigation Policy': '0f3042db-cf25-4654-9b5b-a99d21599992'},\n",
       "  {'Name': 'Unauthorized_Access',\n",
       "   'Threat Class': 'Unauthorized_Access',\n",
       "   'Threat Mitigation Policy': '0f3042db-cf25-4654-9b5b-a99d21599992'},\n",
       "  {'Name': 'DDOS Attack',\n",
       "   'Threat Class': 'DDoS_Attack',\n",
       "   'Threat Level': 'TL-2'},\n",
       "  {'Name': 'Active_Malware',\n",
       "   'Threat Class': 'Active_Malware',\n",
       "   'Threat Mitigation Policy': '26f29b73-b3b2-4678-be1a-8082dd67b542'}],\n",
       " 'Description': {'Manufacturer': 'Foo Bar Inc.'}}"
      ]
     },
     "execution_count": 130,
     "metadata": {},
     "output_type": "execute_result"
    }
   ],
   "source": [
    "File_Server"
   ]
  },
  {
   "cell_type": "code",
   "execution_count": 131,
   "metadata": {},
   "outputs": [
    {
     "data": {
      "text/plain": [
       "'1852adbb-e74b-4f88-9a22-f19474c66aac'"
      ]
     },
     "execution_count": 131,
     "metadata": {},
     "output_type": "execute_result"
    }
   ],
   "source": [
    "File_Server = manager.equipment.create(equipmentModel=File_Server, context=context)\n",
    "print(File_Server)"
   ]
  },
  {
   "cell_type": "markdown",
   "metadata": {},
   "source": [
    "## Event 42\n",
    "* Event Description: Register a new device \"IoT Gateway\"\n",
    "* Event Type: Register Device\n",
    "* Event Response: 1 device, 6 services added"
   ]
  },
  {
   "cell_type": "code",
   "execution_count": 132,
   "metadata": {},
   "outputs": [],
   "source": [
    "context = {\n",
    "\"Location\":\"BLD4-F16-M201-2\",\n",
    "\"Group\":\"BLD4-Classified-Room\"\n",
    "}"
   ]
  },
  {
   "cell_type": "code",
   "execution_count": 133,
   "metadata": {},
   "outputs": [],
   "source": [
    "with open('./Equipment/Network/IoT_Gateway.json') as json_file:\n",
    "    IoT_Gateway = json.load(json_file)"
   ]
  },
  {
   "cell_type": "code",
   "execution_count": 134,
   "metadata": {},
   "outputs": [
    {
     "data": {
      "text/plain": [
       "{'uuid': 'd3bd708e-9981-4106-a91b-544e135eb1d5',\n",
       " 'Equipment Model Name': 'IoT Gateway Model A',\n",
       " 'Equipment Model Version': '6.1',\n",
       " 'last_update_timestamp': '2019-08-03T21:23:53.581662+00:00',\n",
       " 'Equipment Class': 'IoT_Gateway',\n",
       " 'Service': [{'Name': 'Broadcast_Wi-Fi Service on Type A IoT Gateway',\n",
       "   'Service Class': 'Broadcast_Wi-Fi',\n",
       "   'Resource Name': {'HTTP': '/wifi'},\n",
       "   'Required Security Level': 'SL-4'},\n",
       "  {'Name': 'Broadcast_Bluetooth Service on Type A IoT Gateway',\n",
       "   'Service Class': 'Broadcast_Bluetooth',\n",
       "   'Resource Name': {'HTTP': '/bluetooth'},\n",
       "   'Required Security Level': 'SL-4'},\n",
       "  {'Name': 'Broadcast_Radio Service on Type A IoT Gateway',\n",
       "   'Service Class': 'Broadcast_Radio',\n",
       "   'Resource Name': {'HTTP': '/rf'},\n",
       "   'Required Security Level': 'SL-4'},\n",
       "  {'Name': 'Connect_Internet Service on Type A IoT Gateway',\n",
       "   'Service Class': 'Connect_Internet',\n",
       "   'Resource Name': {'HTTP': '/internet'},\n",
       "   'Required Security Level': 'SL-4'},\n",
       "  {'Name': 'Detect_Infrared_Radiation Service on Type A IoT Gateway',\n",
       "   'Service Class': 'Detect_Infrared_Radiation',\n",
       "   'Resource Name': {'HTTP': '/ifr'},\n",
       "   'Required Security Level': 'SL-2'},\n",
       "  {'Name': 'Detect_Radio_Frequency Service on Type A IoT Gateway',\n",
       "   'Service Class': 'Detect_Radio_Frequency',\n",
       "   'Resource Name': {'HTTP': '/rfsensor'},\n",
       "   'Required Security Level': 'SL-2'}],\n",
       " 'threat': [{'Name': 'Unauthorized_User',\n",
       "   'Threat Class': 'Unauthorized_User',\n",
       "   'Threat Assessment Policy': '43fbb6fa-45e6-4650-b175-c2a9c9e88167'},\n",
       "  {'Name': 'Unauthorized_Access',\n",
       "   'Threat Class': 'Unauthorized_Access',\n",
       "   'Threat Assessment Policy': '43fbb6fa-45e6-4650-b175-c2a9c9e88167'}],\n",
       " 'Description': {'Manufacturer': 'Foo Bar Inc.'}}"
      ]
     },
     "execution_count": 134,
     "metadata": {},
     "output_type": "execute_result"
    }
   ],
   "source": [
    "IoT_Gateway"
   ]
  },
  {
   "cell_type": "code",
   "execution_count": 135,
   "metadata": {},
   "outputs": [
    {
     "data": {
      "text/plain": [
       "'560b42d9-c1c2-4b69-b169-6fa963341f94'"
      ]
     },
     "execution_count": 135,
     "metadata": {},
     "output_type": "execute_result"
    }
   ],
   "source": [
    "IoT_Gateway = manager.equipment.create(equipmentModel=IoT_Gateway, context=context)\n",
    "print(IoT_Gateway)"
   ]
  },
  {
   "cell_type": "markdown",
   "metadata": {},
   "source": [
    "## Event 43\n",
    "* Event Description: Register a new Threat Assessment Policy 'deca6ac5-6b4e-4c61-a986-8d53f5e80332'\n",
    "* Policy Description: Encryption in Transit Enabled -> TL-3 Otherwise -> TL-0\n",
    "* Event Type: Register Policy\n",
    "* Event Response: 1 policy added"
   ]
  },
  {
   "cell_type": "code",
   "execution_count": 136,
   "metadata": {},
   "outputs": [],
   "source": [
    "with open('./Policy/Threat_Assessment_Policy/deca6ac5-6b4e-4c61-a986-8d53f5e80332.json') as json_file:\n",
    "    tap_deca6ac5 = json.load(json_file)"
   ]
  },
  {
   "cell_type": "code",
   "execution_count": 137,
   "metadata": {},
   "outputs": [
    {
     "data": {
      "text/plain": [
       "'deca6ac5-6b4e-4c61-a986-8d53f5e80332'"
      ]
     },
     "execution_count": 137,
     "metadata": {},
     "output_type": "execute_result"
    }
   ],
   "source": [
    "manager.policy.add_policy(policyDict = tap_deca6ac5, policyClass='Threat_Assessment_Policy')"
   ]
  },
  {
   "cell_type": "markdown",
   "metadata": {},
   "source": [
    "## Event 44\n",
    "* Event Description: Register a new Threat Assessment Policy '820e1c09-b494-4134-87e2-301abd9d3b2f'\n",
    "* Policy Description: Token Auth on the device disabled -> TL-0 Otherwise -> TL-3\n",
    "* Event Type: Register Policy\n",
    "* Event Response: 1 policy added"
   ]
  },
  {
   "cell_type": "code",
   "execution_count": 138,
   "metadata": {},
   "outputs": [],
   "source": [
    "with open('./Policy/Threat_Assessment_Policy/820e1c09-b494-4134-87e2-301abd9d3b2f.json') as json_file:\n",
    "    tap_820e1c09 = json.load(json_file)"
   ]
  },
  {
   "cell_type": "code",
   "execution_count": 139,
   "metadata": {},
   "outputs": [
    {
     "data": {
      "text/plain": [
       "'820e1c09-b494-4134-87e2-301abd9d3b2f'"
      ]
     },
     "execution_count": 139,
     "metadata": {},
     "output_type": "execute_result"
    }
   ],
   "source": [
    "manager.policy.add_policy(policyDict = tap_820e1c09, policyClass='Threat_Assessment_Policy')"
   ]
  },
  {
   "cell_type": "markdown",
   "metadata": {},
   "source": [
    "## Event 45\n",
    "* Event Description: Register a new device \"Live Streaming Server\"\n",
    "* Event Type: Register Device\n",
    "* Event Response: 1 device, 6 services added"
   ]
  },
  {
   "cell_type": "code",
   "execution_count": 140,
   "metadata": {},
   "outputs": [],
   "source": [
    "context = {\n",
    "\"Location\":\"BLD4-F16-M201-2\",\n",
    "\"Group\":\"BLD4-Classified-Room\"\n",
    "}"
   ]
  },
  {
   "cell_type": "code",
   "execution_count": 141,
   "metadata": {},
   "outputs": [],
   "source": [
    "with open('./Equipment/Network/Live_Streaming_Server.json') as json_file:\n",
    "    Live_Streaming_Server = json.load(json_file)"
   ]
  },
  {
   "cell_type": "code",
   "execution_count": 142,
   "metadata": {},
   "outputs": [
    {
     "data": {
      "text/plain": [
       "{'uuid': 'bc32a852-2803-4484-972c-be1156991231',\n",
       " 'Equipment Model Name': 'Live Streaming Server Model A',\n",
       " 'Equipment Model Version': '5.1',\n",
       " 'last_update_timestamp': '2019-08-03T21:23:53.581662+00:00',\n",
       " 'Equipment Class': 'Live_Streaming_Server',\n",
       " 'Service': [{'Name': 'Share Data Service on Type A Live Streaming Server',\n",
       "   'Service Class': 'Share_Data',\n",
       "   'Resource Name': {'HTTP': '/sharedata'},\n",
       "   'Required Security Level': 'SL-4'},\n",
       "  {'Name': 'Stream Media Service on Type A Live Streaming Server',\n",
       "   'Service Class': 'Stream_Media',\n",
       "   'Resource Name': {'HTTP': '/stream'},\n",
       "   'Required Security Level': 'SL-4'},\n",
       "  {'Name': 'Encryption in Transit Service on Type A Streaming Server',\n",
       "   'Service Class': 'Encryption_in_Transit',\n",
       "   'Resource Name': {'HTTP': '/ecrptrst'},\n",
       "   'Required Security Level': 'SL-0'},\n",
       "  {'Name': 'Token Authentication Service on Type A Streaming Server',\n",
       "   'Service Class': 'Token_Authentication',\n",
       "   'Resource Name': {'HTTP': '/token'},\n",
       "   'Trust Level Assessment Policy': 'b0e3c089-3db2-48f1-857e-ba7157ae8335'},\n",
       "  {'Name': 'OAuth Authentication Service on Type A Streaming Server',\n",
       "   'Service Class': 'OAuth_Authentication',\n",
       "   'Resource Name': {'HTTP': '/oauth'},\n",
       "   'Trust Level Assessment Policy': '347286fc-4dc5-4bf7-8ed7-fc806370d71a'},\n",
       "  {'Name': 'Password Authentication Service on Streaming Server',\n",
       "   'Service Class': 'Password_Authentication',\n",
       "   'Resource Name': {'RPC': '/passwdauth'},\n",
       "   'Trust Level Assessment Policy': 'c6338919-406d-46b5-936b-c4a4573afea1'}],\n",
       " 'threat': [{'Name': 'Certificate_Not_Matching',\n",
       "   'Threat Class': 'Certificate_Not_Matching',\n",
       "   'Threat Assessment Policy': 'deca6ac5-6b4e-4c61-a986-8d53f5e80332'},\n",
       "  {'Name': 'Expired_Certificate',\n",
       "   'Threat Class': 'Expired_Certificate',\n",
       "   'Threat Assessment Policy': 'deca6ac5-6b4e-4c61-a986-8d53f5e80332'},\n",
       "  {'Name': 'Credential_Not_Matching',\n",
       "   'Threat Class': 'Credential_Not_Matching',\n",
       "   'Threat Assessment Policy': '820e1c09-b494-4134-87e2-301abd9d3b2f'},\n",
       "  {'Name': 'Expired_Credential',\n",
       "   'Threat Class': 'Expired_Credential',\n",
       "   'Threat Assessment Policy': '820e1c09-b494-4134-87e2-301abd9d3b2f'},\n",
       "  {'Name': 'Stolen_Credential',\n",
       "   'Threat Class': 'Stolen_Credential',\n",
       "   'Threat Level': 'TL-3'}],\n",
       " 'Description': {'Manufacturer': 'Foo Bar Inc.'}}"
      ]
     },
     "execution_count": 142,
     "metadata": {},
     "output_type": "execute_result"
    }
   ],
   "source": [
    "Live_Streaming_Server"
   ]
  },
  {
   "cell_type": "code",
   "execution_count": 143,
   "metadata": {},
   "outputs": [
    {
     "data": {
      "text/plain": [
       "'90fcb6b0-65f4-482f-94f5-686aa61f46f2'"
      ]
     },
     "execution_count": 143,
     "metadata": {},
     "output_type": "execute_result"
    }
   ],
   "source": [
    "Live_Streaming_Server = manager.equipment.create(equipmentModel=Live_Streaming_Server, context=context)\n",
    "print(Live_Streaming_Server)"
   ]
  },
  {
   "cell_type": "markdown",
   "metadata": {},
   "source": [
    "## Event 46\n",
    "* Event Description: Register a new Threat Mitigation Policy 'b70f4f1a-f27c-44d6-8dae-d957141ced41'\n",
    "* Policy Description: Disable all share data services in the location/group, Mitigated Threat Level is TL-2.\n",
    "* Event Type: Register Policy\n",
    "* Event Response: 1 policy added"
   ]
  },
  {
   "cell_type": "code",
   "execution_count": 144,
   "metadata": {},
   "outputs": [],
   "source": [
    "with open('./Policy/Threat_Mitigation_Policy/b70f4f1a-f27c-44d6-8dae-d957141ced41.json') as json_file:\n",
    "    tmp_b70f4f1a = json.load(json_file)"
   ]
  },
  {
   "cell_type": "code",
   "execution_count": 145,
   "metadata": {},
   "outputs": [
    {
     "data": {
      "text/plain": [
       "'b70f4f1a-f27c-44d6-8dae-d957141ced41'"
      ]
     },
     "execution_count": 145,
     "metadata": {},
     "output_type": "execute_result"
    }
   ],
   "source": [
    "manager.policy.add_policy(policyDict = tmp_b70f4f1a, policyClass='Threat_Mitigation_Policy')"
   ]
  },
  {
   "cell_type": "markdown",
   "metadata": {},
   "source": [
    "## Event 47\n",
    "* Event Description: Register a new Threat Mitigation Policy 'e2e6261d-55c2-49da-b88b-a24412d271b8'\n",
    "* Policy Description: Enable all Encryption in Transit services in the location/group, Mitigated Threat Level is TL-0.\n",
    "* Event Type: Register Policy\n",
    "* Event Response: 1 policy added"
   ]
  },
  {
   "cell_type": "code",
   "execution_count": 146,
   "metadata": {},
   "outputs": [],
   "source": [
    "with open('./Policy/Threat_Mitigation_Policy/e2e6261d-55c2-49da-b88b-a24412d271b8.json') as json_file:\n",
    "    tmp_e2e6261d = json.load(json_file)"
   ]
  },
  {
   "cell_type": "code",
   "execution_count": 147,
   "metadata": {},
   "outputs": [
    {
     "data": {
      "text/plain": [
       "'e2e6261d-55c2-49da-b88b-a24412d271b8'"
      ]
     },
     "execution_count": 147,
     "metadata": {},
     "output_type": "execute_result"
    }
   ],
   "source": [
    "manager.policy.add_policy(policyDict = tmp_e2e6261d, policyClass='Threat_Mitigation_Policy')"
   ]
  },
  {
   "cell_type": "markdown",
   "metadata": {},
   "source": [
    "## Event 48\n",
    "* Event Description: Register a new device \"Router\"\n",
    "* Event Type: Register Device\n",
    "* Event Response: 1 device, 6 services added"
   ]
  },
  {
   "cell_type": "code",
   "execution_count": 148,
   "metadata": {},
   "outputs": [],
   "source": [
    "context = {\n",
    "\"Location\":\"BLD4-F16-M201-2\",\n",
    "\"Group\":\"BLD4-Classified-Room\"\n",
    "}"
   ]
  },
  {
   "cell_type": "code",
   "execution_count": 149,
   "metadata": {},
   "outputs": [],
   "source": [
    "with open('./Equipment/Network/Router.json') as json_file:\n",
    "    Router = json.load(json_file)"
   ]
  },
  {
   "cell_type": "code",
   "execution_count": 150,
   "metadata": {},
   "outputs": [
    {
     "data": {
      "text/plain": [
       "{'uuid': 'a42f3fb6-ce3f-4900-ad35-d0a71920996d',\n",
       " 'Equipment Model Name': 'Router Model A',\n",
       " 'Equipment Model Version': '5.1',\n",
       " 'last_update_timestamp': '2019-08-03T21:23:53.581662+00:00',\n",
       " 'Equipment Class': 'Router',\n",
       " 'Service': [{'Name': 'Broadcast_Wi-Fi Service on Type A Router',\n",
       "   'Service Class': 'Broadcast_Wi-Fi',\n",
       "   'Resource Name': {'HTTP': '/wifi'},\n",
       "   'Required Security Level': 'SL-4'},\n",
       "  {'Name': 'Virtual_Private_Network_Server Service on Type A Router',\n",
       "   'Service Class': 'Virtual_Private_Network_Server',\n",
       "   'Resource Name': {'HTTP': '/VPN'},\n",
       "   'Required Security Level': 'SL-4'},\n",
       "  {'Name': 'Connect_Internet Service on Type A Router',\n",
       "   'Service Class': 'Connect_Internet',\n",
       "   'Resource Name': {'HTTP': '/internet'},\n",
       "   'Required Security Level': 'SL-4'},\n",
       "  {'Name': 'Password Authentication Service on Router',\n",
       "   'Service Class': 'Password_Authentication',\n",
       "   'Resource Name': {'RPC': '/passwdauth'},\n",
       "   'Trust Level Assessment Policy': 'c6338919-406d-46b5-936b-c4a4573afea1'}],\n",
       " 'threat': [{'Name': 'ARP_Attack',\n",
       "   'Threat Class': 'ARP_Attack',\n",
       "   'Threat Mitigation Policy': 'b70f4f1a-f27c-44d6-8dae-d957141ced41'},\n",
       "  {'Name': 'Unexpected_Device_Connection',\n",
       "   'Threat Class': 'Unexpected_Device_Connection',\n",
       "   'Threat Mitigation Policy': 'e2e6261d-55c2-49da-b88b-a24412d271b8'}],\n",
       " 'Description': {'Manufacturer': 'Foo Bar Inc.'}}"
      ]
     },
     "execution_count": 150,
     "metadata": {},
     "output_type": "execute_result"
    }
   ],
   "source": [
    "Router"
   ]
  },
  {
   "cell_type": "code",
   "execution_count": 151,
   "metadata": {},
   "outputs": [
    {
     "data": {
      "text/plain": [
       "'69107d88-c75c-4d6c-955a-a6d9dd5afa08'"
      ]
     },
     "execution_count": 151,
     "metadata": {},
     "output_type": "execute_result"
    }
   ],
   "source": [
    "Router = manager.equipment.create(equipmentModel=Router, context=context)\n",
    "print(Router)"
   ]
  },
  {
   "cell_type": "markdown",
   "metadata": {},
   "source": [
    "## Event 49\n",
    "* Event Description: Register a new Threat Mitigation Policy '8ba2c399-267e-4644-bfad-687c33021b00'\n",
    "* Policy Description: Disable all call services in the location/group, Enable Encryption in Transit service on the device, Mitigated Threat Level is TL-2.\n",
    "* Event Type: Register Policy\n",
    "* Event Response: 1 policy added"
   ]
  },
  {
   "cell_type": "code",
   "execution_count": 152,
   "metadata": {},
   "outputs": [],
   "source": [
    "with open('./Policy/Threat_Mitigation_Policy/8ba2c399-267e-4644-bfad-687c33021b00.json') as json_file:\n",
    "    tmp_8ba2c399 = json.load(json_file)"
   ]
  },
  {
   "cell_type": "code",
   "execution_count": 153,
   "metadata": {},
   "outputs": [
    {
     "data": {
      "text/plain": [
       "'8ba2c399-267e-4644-bfad-687c33021b00'"
      ]
     },
     "execution_count": 153,
     "metadata": {},
     "output_type": "execute_result"
    }
   ],
   "source": [
    "manager.policy.add_policy(policyDict = tmp_8ba2c399, policyClass='Threat_Mitigation_Policy')"
   ]
  },
  {
   "cell_type": "markdown",
   "metadata": {},
   "source": [
    "## Event 50\n",
    "* Event Description: Register a new device \"VoIP Gateway\"\n",
    "* Event Type: Register Device\n",
    "* Event Response: 1 device, 1 service added"
   ]
  },
  {
   "cell_type": "code",
   "execution_count": 154,
   "metadata": {},
   "outputs": [],
   "source": [
    "context = {\n",
    "\"Location\":\"BLD4-F16-M201-2\",\n",
    "\"Group\":\"BLD4-Classified-Room\"\n",
    "}"
   ]
  },
  {
   "cell_type": "code",
   "execution_count": 155,
   "metadata": {},
   "outputs": [],
   "source": [
    "with open('./Equipment/Network/VoIP_Gateway.json') as json_file:\n",
    "    VoIP_Gateway = json.load(json_file)"
   ]
  },
  {
   "cell_type": "code",
   "execution_count": 156,
   "metadata": {},
   "outputs": [
    {
     "data": {
      "text/plain": [
       "{'uuid': 'dbde7ba3-b715-49be-b25b-a266502d9e7a',\n",
       " 'Equipment Model Name': 'VoIP Gateway Model A',\n",
       " 'Equipment Model Version': '7.1',\n",
       " 'last_update_timestamp': '2019-08-03T21:23:53.581662+00:00',\n",
       " 'Equipment Class': 'VoIP_Gateway',\n",
       " 'Service': [{'Name': 'Encryption in Transit Service on VoIP Gateway',\n",
       "   'Service Class': 'Encryption_in_Transit',\n",
       "   'Resource Name': {'HTTP': '/ecrptrst'},\n",
       "   'Required Security Level': 'SL-1'}],\n",
       " 'threat': [{'Name': 'Wiretapping_Attack',\n",
       "   'Threat Class': 'Wiretapping_Attack',\n",
       "   'Threat Mitigation Policy': '8ba2c399-267e-4644-bfad-687c33021b00'}],\n",
       " 'Description': {'Manufacturer': 'Foo Bar Inc.'}}"
      ]
     },
     "execution_count": 156,
     "metadata": {},
     "output_type": "execute_result"
    }
   ],
   "source": [
    "VoIP_Gateway"
   ]
  },
  {
   "cell_type": "code",
   "execution_count": 157,
   "metadata": {},
   "outputs": [
    {
     "data": {
      "text/plain": [
       "'a4f4e9a1-e01a-4768-becf-d3fdef477084'"
      ]
     },
     "execution_count": 157,
     "metadata": {},
     "output_type": "execute_result"
    }
   ],
   "source": [
    "VoIP_Gateway = manager.equipment.create(equipmentModel=VoIP_Gateway, context=context)\n",
    "print(VoIP_Gateway)"
   ]
  },
  {
   "cell_type": "markdown",
   "metadata": {},
   "source": [
    "## Event 51\n",
    "* Event Description: Register a new Access Policy 'f55ef69f-bbca-4b7b-a71f-6c2efce3a405'\n",
    "* Policy Description: Only Authenticated Users in Facility Manager Group can access..\n",
    "* Event Type: Register Policy\n",
    "* Event Response: 1 policy added"
   ]
  },
  {
   "cell_type": "code",
   "execution_count": 158,
   "metadata": {},
   "outputs": [],
   "source": [
    "with open('./Policy/Access_Policy/f55ef69f-bbca-4b7b-a71f-6c2efce3a405.json') as json_file:\n",
    "    ap_f55ef69f = json.load(json_file)"
   ]
  },
  {
   "cell_type": "code",
   "execution_count": 159,
   "metadata": {},
   "outputs": [
    {
     "data": {
      "text/plain": [
       "'f55ef69f-bbca-4b7b-a71f-6c2efce3a405'"
      ]
     },
     "execution_count": 159,
     "metadata": {},
     "output_type": "execute_result"
    }
   ],
   "source": [
    "manager.policy.add_policy(policyDict = ap_f55ef69f, policyClass='Access_Policy')"
   ]
  },
  {
   "cell_type": "markdown",
   "metadata": {},
   "source": [
    "## Event 52\n",
    "* Event Description: Register a new device \"Asset Tracker\"\n",
    "* Event Type: Register Device\n",
    "* Event Response: 1 device, 2 services added"
   ]
  },
  {
   "cell_type": "code",
   "execution_count": 160,
   "metadata": {},
   "outputs": [],
   "source": [
    "context = {\n",
    "\"Location\":\"BLD4-F16-M201-2\",\n",
    "\"Group\":\"BLD4-Classified-Room\"\n",
    "}"
   ]
  },
  {
   "cell_type": "code",
   "execution_count": 161,
   "metadata": {},
   "outputs": [],
   "source": [
    "with open('./Equipment/SmartHome/Asset_Tracker.json') as json_file:\n",
    "    Asset_Tracker = json.load(json_file)"
   ]
  },
  {
   "cell_type": "code",
   "execution_count": 162,
   "metadata": {},
   "outputs": [
    {
     "data": {
      "text/plain": [
       "{'uuid': 'f5a84196-3d47-4036-adc5-e3f142709ab7',\n",
       " 'Equipment Model Name': 'Asset Tracker Model A',\n",
       " 'Equipment Model Version': '4.1',\n",
       " 'last_update_timestamp': '2019-08-03T21:23:53.581662+00:00',\n",
       " 'Equipment Class': 'Asset_Tracker',\n",
       " 'Service': [{'Name': 'Detect the integrity of the tracked asset',\n",
       "   'Service Class': 'Detect_Hardware_Integrity',\n",
       "   'Resource Name': {'HTTP': '/inte'},\n",
       "   'Access Policy': 'f55ef69f-bbca-4b7b-a71f-6c2efce3a405'},\n",
       "  {'Name': 'Detect the location of the tracked asset',\n",
       "   'Service Class': 'Detect_Hardware_Integrity',\n",
       "   'Resource Name': {'HTTP': '/inte'},\n",
       "   'Access Policy': 'f55ef69f-bbca-4b7b-a71f-6c2efce3a405'}],\n",
       " 'threat': [{'Name': 'Missing_Asset',\n",
       "   'Threat Class': 'Missing_Asset',\n",
       "   'Threat Assessment Policy': '43fbb6fa-45e6-4650-b175-c2a9c9e88167'},\n",
       "  {'Name': 'Unauthorized_Location',\n",
       "   'Threat Class': 'Unauthorized_Location',\n",
       "   'Threat Assessment Policy': '43fbb6fa-45e6-4650-b175-c2a9c9e88167'}],\n",
       " 'Description': {'Manufacturer': 'Foo Bar Inc.'}}"
      ]
     },
     "execution_count": 162,
     "metadata": {},
     "output_type": "execute_result"
    }
   ],
   "source": [
    "Asset_Tracker"
   ]
  },
  {
   "cell_type": "code",
   "execution_count": 163,
   "metadata": {},
   "outputs": [
    {
     "data": {
      "text/plain": [
       "'38ef6c5b-f88b-4c3d-8f4e-2e65e1fb8479'"
      ]
     },
     "execution_count": 163,
     "metadata": {},
     "output_type": "execute_result"
    }
   ],
   "source": [
    "Asset_Tracker = manager.equipment.create(equipmentModel=Asset_Tracker, context=context)\n",
    "print(Asset_Tracker)"
   ]
  },
  {
   "cell_type": "markdown",
   "metadata": {},
   "source": [
    "## Event 53\n",
    "* Event Description: Register a new device \"Dimmable Light\"\n",
    "* Event Type: Register Device\n",
    "* Event Response: 1 device, 5 services added"
   ]
  },
  {
   "cell_type": "code",
   "execution_count": 164,
   "metadata": {},
   "outputs": [],
   "source": [
    "context = {\n",
    "\"Location\":\"BLD4-F16-M201-2\",\n",
    "\"Group\":\"BLD4-Classified-Room\"\n",
    "}"
   ]
  },
  {
   "cell_type": "code",
   "execution_count": 165,
   "metadata": {},
   "outputs": [],
   "source": [
    "with open('./Equipment/SmartHome/Dimmable_Light.json') as json_file:\n",
    "    Dimmable_Light = json.load(json_file)"
   ]
  },
  {
   "cell_type": "code",
   "execution_count": 166,
   "metadata": {},
   "outputs": [
    {
     "data": {
      "text/plain": [
       "{'uuid': '0e471167-e515-49ef-8dfc-502167daf8fa',\n",
       " 'Equipment Model Name': 'Dimmable Light Model A',\n",
       " 'Equipment Model Version': '3.1',\n",
       " 'last_update_timestamp': '2019-08-03T21:23:53.581662+00:00',\n",
       " 'Equipment Class': 'Dimmable_Light',\n",
       " 'Service': [{'Name': 'Turn on the light',\n",
       "   'Service Class': 'Turn_on',\n",
       "   'Resource Name': {'HTTP': '/power/on'},\n",
       "   'Access Policy': 'f55ef69f-bbca-4b7b-a71f-6c2efce3a405'},\n",
       "  {'Name': 'Turn off the light',\n",
       "   'Service Class': 'Turn_off',\n",
       "   'Resource Name': {'HTTP': '/power/off'},\n",
       "   'Access Policy': 'f55ef69f-bbca-4b7b-a71f-6c2efce3a405'},\n",
       "  {'Name': 'Dimmer Setpoint Control',\n",
       "   'Service Class': 'Dimmer_Setpoint_Control',\n",
       "   'Resource Name': {'HTTP': '/setpoint/dimmer'},\n",
       "   'Access Policy': 'f55ef69f-bbca-4b7b-a71f-6c2efce3a405'},\n",
       "  {'Name': 'Detect Brightness',\n",
       "   'Service Class': 'Detect_Brightness',\n",
       "   'Resource Name': {'HTTP': '/sensor/brightness'},\n",
       "   'Access Policy': 'f55ef69f-bbca-4b7b-a71f-6c2efce3a405'},\n",
       "  {'Name': 'Brightness Setpoint Control',\n",
       "   'Service Class': 'Brightness_Setpoint_Control',\n",
       "   'Resource Name': {'HTTP': '/setpoint/brightness'},\n",
       "   'Access Policy': 'f55ef69f-bbca-4b7b-a71f-6c2efce3a405'}],\n",
       " 'threat': [],\n",
       " 'Description': {'Manufacturer': 'Foo Bar Inc.'}}"
      ]
     },
     "execution_count": 166,
     "metadata": {},
     "output_type": "execute_result"
    }
   ],
   "source": [
    "Dimmable_Light"
   ]
  },
  {
   "cell_type": "code",
   "execution_count": 167,
   "metadata": {},
   "outputs": [
    {
     "data": {
      "text/plain": [
       "'3bf0ca07-8b69-4126-a49d-4c6d3ea52be3'"
      ]
     },
     "execution_count": 167,
     "metadata": {},
     "output_type": "execute_result"
    }
   ],
   "source": [
    "Dimmable_Light = manager.equipment.create(equipmentModel=Dimmable_Light, context=context)\n",
    "print(Dimmable_Light)"
   ]
  },
  {
   "cell_type": "markdown",
   "metadata": {},
   "source": [
    "## Event 54\n",
    "* Event Description: Register a new device \"Smart Clock\"\n",
    "* Event Type: Register Device\n",
    "* Event Response: 1 device, 1 service added"
   ]
  },
  {
   "cell_type": "code",
   "execution_count": 168,
   "metadata": {},
   "outputs": [],
   "source": [
    "context = {\n",
    "\"Location\":\"BLD4-F16-M201-2\",\n",
    "\"Group\":\"BLD4-Classified-Room\"\n",
    "}"
   ]
  },
  {
   "cell_type": "code",
   "execution_count": 169,
   "metadata": {},
   "outputs": [],
   "source": [
    "with open('./Equipment/SmartHome/Smart_Clock.json') as json_file:\n",
    "    Smart_Clock = json.load(json_file)"
   ]
  },
  {
   "cell_type": "code",
   "execution_count": 170,
   "metadata": {},
   "outputs": [
    {
     "data": {
      "text/plain": [
       "{'uuid': 'c3c7b4f8-c54c-48c0-9088-e74a65af4c6e',\n",
       " 'Equipment Model Name': 'Smart Clock Model A',\n",
       " 'Equipment Model Version': '3.1',\n",
       " 'last_update_timestamp': '2019-08-03T21:23:53.581662+00:00',\n",
       " 'Equipment Class': 'Smart_Clock',\n",
       " 'Service': [{'Name': 'Play Audio Service on Type A Smart Clock',\n",
       "   'Service Class': 'Play_Audio',\n",
       "   'Resource Name': {'RPC': '/audioplayer'},\n",
       "   'Required Security Level': 'SL-2',\n",
       "   'Request Model': '72caf2cf-2430-4536-8e8b-76cefd66e009'}],\n",
       " 'threat': [],\n",
       " 'Description': {'Manufacturer': 'Foo Bar Inc.'}}"
      ]
     },
     "execution_count": 170,
     "metadata": {},
     "output_type": "execute_result"
    }
   ],
   "source": [
    "Smart_Clock"
   ]
  },
  {
   "cell_type": "code",
   "execution_count": 171,
   "metadata": {},
   "outputs": [
    {
     "data": {
      "text/plain": [
       "'16f4a44b-79c3-4dcb-abf5-0cf9b01b894f'"
      ]
     },
     "execution_count": 171,
     "metadata": {},
     "output_type": "execute_result"
    }
   ],
   "source": [
    "Smart_Clock = manager.equipment.create(equipmentModel=Smart_Clock, context=context)\n",
    "print(Smart_Clock)"
   ]
  },
  {
   "cell_type": "markdown",
   "metadata": {},
   "source": [
    "## Event 55\n",
    "* Event Description: Register a new device \"Smart Sweeper\"\n",
    "* Event Type: Register Device\n",
    "* Event Response: 1 device, 5 services added"
   ]
  },
  {
   "cell_type": "code",
   "execution_count": 172,
   "metadata": {},
   "outputs": [],
   "source": [
    "context = {\n",
    "\"Location\":\"BLD4-F16-M201-2\",\n",
    "\"Group\":\"BLD4-Classified-Room\"\n",
    "}"
   ]
  },
  {
   "cell_type": "code",
   "execution_count": 173,
   "metadata": {},
   "outputs": [],
   "source": [
    "with open('./Equipment/SmartHome/Smart_Sweeper.json') as json_file:\n",
    "    Smart_Sweeper = json.load(json_file)"
   ]
  },
  {
   "cell_type": "code",
   "execution_count": 174,
   "metadata": {},
   "outputs": [
    {
     "data": {
      "text/plain": [
       "{'uuid': '7bb0d935-c1a3-4ff0-a144-78684fa7d061',\n",
       " 'Equipment Model Name': 'Smart Sweeper Model A',\n",
       " 'Equipment Model Version': '3.1',\n",
       " 'last_update_timestamp': '2019-08-03T21:23:53.581662+00:00',\n",
       " 'Equipment Class': 'Smart_Sweeper',\n",
       " 'Service': [{'Name': 'Turn on the sweeper',\n",
       "   'Service Class': 'Turn_on',\n",
       "   'Resource Name': {'HTTP': '/power/on'},\n",
       "   'Access Policy': 'f55ef69f-bbca-4b7b-a71f-6c2efce3a405'},\n",
       "  {'Name': 'Turn off the sweeper',\n",
       "   'Service Class': 'Turn_off',\n",
       "   'Resource Name': {'HTTP': '/power/off'},\n",
       "   'Access Policy': 'f55ef69f-bbca-4b7b-a71f-6c2efce3a405'},\n",
       "  {'Name': 'Measure_Distance',\n",
       "   'Service Class': 'Measure_Distance',\n",
       "   'Resource Name': {'HTTP': '/sensor/distance'},\n",
       "   'Access Policy': 'f55ef69f-bbca-4b7b-a71f-6c2efce3a405'},\n",
       "  {'Name': 'Measure Magnetism',\n",
       "   'Service Class': 'Measure_Magnetism',\n",
       "   'Resource Name': {'HTTP': '/sensor/magnetism'},\n",
       "   'Access Policy': 'f55ef69f-bbca-4b7b-a71f-6c2efce3a405'},\n",
       "  {'Name': 'Measure_Acceleration',\n",
       "   'Service Class': 'Measure_Acceleration',\n",
       "   'Resource Name': {'HTTP': '/setpoint/acceleration'},\n",
       "   'Access Policy': 'f55ef69f-bbca-4b7b-a71f-6c2efce3a405'}],\n",
       " 'threat': [],\n",
       " 'Description': {'Manufacturer': 'Foo Bar Inc.'}}"
      ]
     },
     "execution_count": 174,
     "metadata": {},
     "output_type": "execute_result"
    }
   ],
   "source": [
    "Smart_Sweeper"
   ]
  },
  {
   "cell_type": "code",
   "execution_count": 175,
   "metadata": {},
   "outputs": [
    {
     "data": {
      "text/plain": [
       "'dab5beb0-2029-430f-8f66-2978df4af75b'"
      ]
     },
     "execution_count": 175,
     "metadata": {},
     "output_type": "execute_result"
    }
   ],
   "source": [
    "Smart_Sweeper = manager.equipment.create(equipmentModel=Smart_Sweeper, context=context)\n",
    "print(Smart_Sweeper)"
   ]
  },
  {
   "cell_type": "markdown",
   "metadata": {},
   "source": [
    "## Event 56\n",
    "* Event Description: Register a new device \"Window Sensor\"\n",
    "* Event Type: Register Device\n",
    "* Event Response: 1 device, 3 services added"
   ]
  },
  {
   "cell_type": "code",
   "execution_count": 176,
   "metadata": {},
   "outputs": [],
   "source": [
    "context = {\n",
    "\"Location\":\"BLD4-F16-M201-2\",\n",
    "\"Group\":\"BLD4-Classified-Room\"\n",
    "}"
   ]
  },
  {
   "cell_type": "code",
   "execution_count": 177,
   "metadata": {},
   "outputs": [],
   "source": [
    "with open('./Equipment/SmartHome/Window_Sensor.json') as json_file:\n",
    "    Window_Sensor = json.load(json_file)"
   ]
  },
  {
   "cell_type": "code",
   "execution_count": 178,
   "metadata": {},
   "outputs": [
    {
     "data": {
      "text/plain": [
       "{'uuid': '973dbd69-e0b8-4474-a0a7-0007f09c6a9c',\n",
       " 'Equipment Model Name': 'Window Sensor Model A',\n",
       " 'Equipment Model Version': '3.1',\n",
       " 'last_update_timestamp': '2019-08-03T21:23:53.581662+00:00',\n",
       " 'Equipment Class': 'Window_Sensor',\n",
       " 'Service': [{'Name': 'Detect Motion',\n",
       "   'Service Class': 'Detect_Motion',\n",
       "   'Resource Name': {'MQTT': '/sensor/motion'},\n",
       "   'Access Policy': 'f55ef69f-bbca-4b7b-a71f-6c2efce3a405'},\n",
       "  {'Name': 'Open_Window',\n",
       "   'Service Class': 'Open_Window',\n",
       "   'Resource Name': {'HTTP': '/open'},\n",
       "   'Access Policy': 'f55ef69f-bbca-4b7b-a71f-6c2efce3a405'},\n",
       "  {'Name': 'Close_Window',\n",
       "   'Service Class': 'Close_Window',\n",
       "   'Resource Name': {'HTTP': '/close'},\n",
       "   'Access Policy': 'f55ef69f-bbca-4b7b-a71f-6c2efce3a405'}],\n",
       " 'threat': [{'Name': 'Unexpected Window Open',\n",
       "   'Threat Class': 'Unexpected_Window_Open',\n",
       "   'Threat Assessment Policy': '3456b5d8-7276-4ada-a14c-210919f740e8'}],\n",
       " 'Description': {'Manufacturer': 'Foo Bar Inc.'}}"
      ]
     },
     "execution_count": 178,
     "metadata": {},
     "output_type": "execute_result"
    }
   ],
   "source": [
    "Window_Sensor"
   ]
  },
  {
   "cell_type": "code",
   "execution_count": 179,
   "metadata": {},
   "outputs": [
    {
     "data": {
      "text/plain": [
       "'1cb6b853-32b7-4ff2-8fe4-02fa59352ea6'"
      ]
     },
     "execution_count": 179,
     "metadata": {},
     "output_type": "execute_result"
    }
   ],
   "source": [
    "Window_Sensor = manager.equipment.create(equipmentModel=Window_Sensor, context=context)\n",
    "print(Window_Sensor)"
   ]
  },
  {
   "cell_type": "markdown",
   "metadata": {},
   "source": [
    "## Event 57\n",
    "* Event Description: Register a new device \"Landline Phone\"\n",
    "* Event Type: Register Device\n",
    "* Event Response: 1 device, 1 service added"
   ]
  },
  {
   "cell_type": "code",
   "execution_count": 180,
   "metadata": {},
   "outputs": [],
   "source": [
    "context = {\n",
    "\"Location\":\"BLD4-F16-M201-2\",\n",
    "\"Group\":\"BLD4-Classified-Room\"\n",
    "}"
   ]
  },
  {
   "cell_type": "code",
   "execution_count": 181,
   "metadata": {},
   "outputs": [],
   "source": [
    "with open('./Equipment/Telecommunication/Landline_Phone.json') as json_file:\n",
    "    Landline_Phone = json.load(json_file)"
   ]
  },
  {
   "cell_type": "code",
   "execution_count": 182,
   "metadata": {},
   "outputs": [
    {
     "data": {
      "text/plain": [
       "{'uuid': '97d60922-f9d0-489c-a0d9-417195be658c',\n",
       " 'Equipment Model Name': 'Landline Phone Model A',\n",
       " 'Equipment Model Version': '0.1',\n",
       " 'last_update_timestamp': '2019-08-03T21:23:53.581662+00:00',\n",
       " 'Equipment Class': 'Landline_Phone',\n",
       " 'Service': [{'Name': 'Call Service on Type A Landline Phone',\n",
       "   'Service Class': 'Call',\n",
       "   'Resource Name': {'RPC': '/call'},\n",
       "   'Required Security Level': 'SL-4'}],\n",
       " 'threat': [],\n",
       " 'Description': {'Manufacturer': 'Foo Bar Inc.'}}"
      ]
     },
     "execution_count": 182,
     "metadata": {},
     "output_type": "execute_result"
    }
   ],
   "source": [
    "Landline_Phone"
   ]
  },
  {
   "cell_type": "code",
   "execution_count": 183,
   "metadata": {},
   "outputs": [
    {
     "data": {
      "text/plain": [
       "'3df88f73-e6e1-4c66-83a8-0bb7db340065'"
      ]
     },
     "execution_count": 183,
     "metadata": {},
     "output_type": "execute_result"
    }
   ],
   "source": [
    "Landline_Phone = manager.equipment.create(equipmentModel=Landline_Phone, context=context)\n",
    "print(Landline_Phone)"
   ]
  },
  {
   "cell_type": "markdown",
   "metadata": {},
   "source": [
    "## Event 58\n",
    "* Event Description: Register a new device \"SDR Transceiver\"\n",
    "* Event Type: Register Device\n",
    "* Event Response: 1 device, 2 services added"
   ]
  },
  {
   "cell_type": "code",
   "execution_count": 184,
   "metadata": {},
   "outputs": [],
   "source": [
    "context = {\n",
    "\"Location\":\"BLD4-F16-M201-2\",\n",
    "\"Group\":\"BLD4-Classified-Room\"\n",
    "}"
   ]
  },
  {
   "cell_type": "code",
   "execution_count": 185,
   "metadata": {},
   "outputs": [],
   "source": [
    "with open('./Equipment/Telecommunication/SDR_Transceiver.json') as json_file:\n",
    "    SDR_Transceiver = json.load(json_file)"
   ]
  },
  {
   "cell_type": "code",
   "execution_count": 186,
   "metadata": {},
   "outputs": [
    {
     "data": {
      "text/plain": [
       "{'uuid': '51d0faff-0cf2-4156-b6ae-e437aba7f789',\n",
       " 'Equipment Model Name': 'SDR Transceiver Model A',\n",
       " 'Equipment Model Version': '4.1',\n",
       " 'last_update_timestamp': '2019-08-03T21:23:53.581662+00:00',\n",
       " 'Equipment Class': 'SDR_Transceiver',\n",
       " 'Service': [{'Name': 'Broadcast_Radio Service',\n",
       "   'Service Class': 'Broadcast_Radio',\n",
       "   'Resource Name': {'RPC': '/rf'},\n",
       "   'Required Security Level': 'SL-4'},\n",
       "  {'Name': 'Detect_Radio_Frequency Service',\n",
       "   'Service Class': 'Detect_Radio_Frequency',\n",
       "   'Resource Name': {'RPC': '/rfsensor'},\n",
       "   'Required Security Level': 'SL-2'}],\n",
       " 'threat': [{'Name': 'Detect Unrecognized Radio Frequency',\n",
       "   'Threat Class': 'Unrecognized_Radio_Frequency',\n",
       "   'Threat Assessment Policy': 'e2a12ef8-927f-4e4f-8304-72c111f9d6bf'}],\n",
       " 'Description': {'Manufacturer': 'Foo Bar Inc.'}}"
      ]
     },
     "execution_count": 186,
     "metadata": {},
     "output_type": "execute_result"
    }
   ],
   "source": [
    "SDR_Transceiver"
   ]
  },
  {
   "cell_type": "code",
   "execution_count": 187,
   "metadata": {},
   "outputs": [
    {
     "data": {
      "text/plain": [
       "'26f85bcd-7a07-4ff4-bd86-d8f15466c178'"
      ]
     },
     "execution_count": 187,
     "metadata": {},
     "output_type": "execute_result"
    }
   ],
   "source": [
    "SDR_Transceiver = manager.equipment.create(equipmentModel=SDR_Transceiver, context=context)\n",
    "print(SDR_Transceiver)"
   ]
  },
  {
   "cell_type": "markdown",
   "metadata": {},
   "source": [
    "## Event 59\n",
    "* Event Description: Register a new device \"Smart Phone\"\n",
    "* Event Type: Register Device\n",
    "* Event Response: 1 device, 13 services added"
   ]
  },
  {
   "cell_type": "code",
   "execution_count": 188,
   "metadata": {},
   "outputs": [],
   "source": [
    "context = {\n",
    "\"Location\":\"BLD4-F16-M201-2\",\n",
    "\"Group\":\"BLD4-Classified-Room\"\n",
    "}"
   ]
  },
  {
   "cell_type": "code",
   "execution_count": 189,
   "metadata": {},
   "outputs": [],
   "source": [
    "with open('./Equipment/Telecommunication/Smart_Phone.json') as json_file:\n",
    "    Smart_Phone = json.load(json_file)"
   ]
  },
  {
   "cell_type": "code",
   "execution_count": 190,
   "metadata": {},
   "outputs": [
    {
     "data": {
      "text/plain": [
       "{'uuid': '1b7aa517-9490-468d-ae64-eb9cac5e694e',\n",
       " 'Equipment Model Name': 'Smart Phone Model A',\n",
       " 'Equipment Model Version': '0.1',\n",
       " 'last_update_timestamp': '2019-08-03T21:23:53.581662+00:00',\n",
       " 'Equipment Class': 'Smart_Phone',\n",
       " 'Service': [{'Name': 'Play Audio Service on Type A Smart Phone',\n",
       "   'Service Class': 'Play_Audio',\n",
       "   'Resource Name': {'HTTP': '/audioplayer', 'RPC': '/audioplayer'},\n",
       "   'Required Security Level': 'SL-2',\n",
       "   'Request Model': '72caf2cf-2430-4536-8e8b-76cefd66e009'},\n",
       "  {'Name': 'Play Video Service on Type A Smart Phone',\n",
       "   'Service Class': 'Play_Video',\n",
       "   'Resource Name': {'HTTP': '/videoplayer', 'RPC': '/videoplayer'},\n",
       "   'Required Security Level': 'SL-2'},\n",
       "  {'Name': 'Video Call Service on Type A Smart Phone',\n",
       "   'Service Class': 'Video_Call',\n",
       "   'Resource Name': {'RPC': '/vdc'},\n",
       "   'Required Security Level': 'SL-4'},\n",
       "  {'Name': 'Call Service on Type A Smart Phone',\n",
       "   'Service Class': 'Call',\n",
       "   'Resource Name': {'RPC': '/call'},\n",
       "   'Required Security Level': 'SL-4'},\n",
       "  {'Name': 'Take Photo Service on Type A Smart Phone',\n",
       "   'Service Class': 'Take_Photo',\n",
       "   'Resource Name': {'HTTP': '/photo'},\n",
       "   'Required Security Level': 'SL-2'},\n",
       "  {'Name': 'Password Authentication Service on Type A Smart Phone',\n",
       "   'Service Class': 'Password_Authentication',\n",
       "   'Resource Name': {'RPC': '/passwdauth'},\n",
       "   'Trust Level Assessment Policy': 'd8a07c6d-cbbd-4495-b88c-5b1e819e05d2'},\n",
       "  {'Name': 'Face Authentication Service on Type A Smart Phone',\n",
       "   'Service Class': 'Face_Authentication',\n",
       "   'Resource Name': {'RPC': '/faceauth'},\n",
       "   'Security Level Provided': 'SL-3'},\n",
       "  {'Name': 'Voice Authentication Service on Type A Smart Speaker',\n",
       "   'Service Class': 'Voice_Authentication',\n",
       "   'Resource Name': {'RPC': '/voiceauth'},\n",
       "   'Security Level Provided': 'SL-3'},\n",
       "  {'Name': 'Capture Video Service on Type A Smart Phone',\n",
       "   'Service Class': 'Capture_Video',\n",
       "   'Resource Name': {'RPC': '/capvid'},\n",
       "   'Required Security Level': 'SL-4'},\n",
       "  {'Name': 'Record Audio Service on Type A Smart Phone',\n",
       "   'Service Class': 'Record_Audio',\n",
       "   'Resource Name': {'RPC': '/videorecorder'},\n",
       "   'Required Security Level': 'SL-4'},\n",
       "  {'Name': 'Detect Location Service on Type A Smart Phone',\n",
       "   'Service Class': 'Track_Location',\n",
       "   'Resource Name': {'HTTP': '/location'},\n",
       "   'Required Security Level': 'SL-4'},\n",
       "  {'Name': 'Fingerprint Authentication Service on Type A Smart Phone',\n",
       "   'Service Class': 'Fingerprint_Authentication',\n",
       "   'Resource Name': {'RPC': '/fingerprintauth'},\n",
       "   'Security Level Provided': 'SL-3'},\n",
       "  {'Name': 'OTP Authentication Service on Type A Smart Phone',\n",
       "   'Service Class': 'OTP_Authentication',\n",
       "   'Resource Name': {'RPC': '/otp'},\n",
       "   'Security Level Provided': 'SL-1'}],\n",
       " 'threat': [{'Name': 'MAPE-k engine cannot access the device',\n",
       "   'Threat Class': 'Inaccessible_MAPE-k_Engine',\n",
       "   'Threat Level': 'TL-4'},\n",
       "  {'Name': 'Unauthorized Running Service',\n",
       "   'Threat Class': 'Unauthorized_Running_Service',\n",
       "   'Threat Level': 'TL-4'},\n",
       "  {'Name': 'Unauthorized Action Detected',\n",
       "   'Threat Class': 'Unauthorized_Action',\n",
       "   'Threat Level': 'TL-3'}],\n",
       " 'Description': {'Manufacturer': 'Foo Bar Inc.',\n",
       "  'Screen Size': '75',\n",
       "  'Screen Resolution': '3840x2160'}}"
      ]
     },
     "execution_count": 190,
     "metadata": {},
     "output_type": "execute_result"
    }
   ],
   "source": [
    "Smart_Phone"
   ]
  },
  {
   "cell_type": "code",
   "execution_count": 191,
   "metadata": {},
   "outputs": [
    {
     "data": {
      "text/plain": [
       "'1d2d617b-4132-4f83-bd6e-fe856aa85794'"
      ]
     },
     "execution_count": 191,
     "metadata": {},
     "output_type": "execute_result"
    }
   ],
   "source": [
    "Smart_Phone = manager.equipment.create(equipmentModel=Smart_Phone, context=context)\n",
    "print(Smart_Phone)"
   ]
  },
  {
   "cell_type": "markdown",
   "metadata": {},
   "source": [
    "## Event 60\n",
    "* Event Description: Register a new device \"Tablet\"\n",
    "* Event Type: Register Device\n",
    "* Event Response: 1 device, 12 services added"
   ]
  },
  {
   "cell_type": "code",
   "execution_count": 192,
   "metadata": {},
   "outputs": [],
   "source": [
    "context = {\n",
    "\"Location\":\"BLD4-F16-M201-2\",\n",
    "\"Group\":\"BLD4-Classified-Room\"\n",
    "}"
   ]
  },
  {
   "cell_type": "code",
   "execution_count": 193,
   "metadata": {},
   "outputs": [],
   "source": [
    "with open('./Equipment/Telecommunication/Tablet.json') as json_file:\n",
    "    Tablet = json.load(json_file)"
   ]
  },
  {
   "cell_type": "code",
   "execution_count": 194,
   "metadata": {},
   "outputs": [
    {
     "data": {
      "text/plain": [
       "{'uuid': 'c26469b1-ece8-437d-89de-4e6d65342c90',\n",
       " 'Equipment Model Name': 'Tablet Model A',\n",
       " 'Equipment Model Version': '0.1',\n",
       " 'last_update_timestamp': '2019-08-03T21:23:53.581662+00:00',\n",
       " 'Equipment Class': 'Tablet',\n",
       " 'Service': [{'Name': 'Play Audio Service on Type A Tablet',\n",
       "   'Service Class': 'Play_Audio',\n",
       "   'Resource Name': {'HTTP': '/audioplayer', 'RPC': '/audioplayer'},\n",
       "   'Required Security Level': 'SL-2',\n",
       "   'Request Model': '72caf2cf-2430-4536-8e8b-76cefd66e009'},\n",
       "  {'Name': 'Play Video Service on Type A Tablet',\n",
       "   'Service Class': 'Play_Video',\n",
       "   'Resource Name': {'HTTP': '/videoplayer', 'RPC': '/videoplayer'},\n",
       "   'Required Security Level': 'SL-2'},\n",
       "  {'Name': 'Video Call Service on Type A Tablet',\n",
       "   'Service Class': 'Video_Call',\n",
       "   'Resource Name': {'RPC': '/vdc'},\n",
       "   'Required Security Level': 'SL-4'},\n",
       "  {'Name': 'Call Service on Type A Tablet',\n",
       "   'Service Class': 'Call',\n",
       "   'Resource Name': {'RPC': '/call'},\n",
       "   'Required Security Level': 'SL-4'},\n",
       "  {'Name': 'Take Photo Service on Type A Tablet',\n",
       "   'Service Class': 'Take_Photo',\n",
       "   'Resource Name': {'HTTP': '/photo'},\n",
       "   'Required Security Level': 'SL-2'},\n",
       "  {'Name': 'Password Authentication Service on Type A Tablet',\n",
       "   'Service Class': 'Password_Authentication',\n",
       "   'Resource Name': {'RPC': '/passwdauth'},\n",
       "   'Trust Level Assessment Policy': 'd8a07c6d-cbbd-4495-b88c-5b1e819e05d2'},\n",
       "  {'Name': 'Face Authentication Service on Type A Tablet',\n",
       "   'Service Class': 'Face_Authentication',\n",
       "   'Resource Name': {'RPC': '/faceauth'},\n",
       "   'Security Level Provided': 'SL-3'},\n",
       "  {'Name': 'Voice Authentication Service on Type A Smart Speaker',\n",
       "   'Service Class': 'Voice_Authentication',\n",
       "   'Resource Name': {'RPC': '/voiceauth'},\n",
       "   'Security Level Provided': 'SL-3'},\n",
       "  {'Name': 'Capture Video Service on Type A Tablet',\n",
       "   'Service Class': 'Capture_Video',\n",
       "   'Resource Name': {'RPC': '/capvid'},\n",
       "   'Required Security Level': 'SL-4'},\n",
       "  {'Name': 'Record Audio Service on Type A Tablet',\n",
       "   'Service Class': 'Record_Audio',\n",
       "   'Resource Name': {'RPC': '/videorecorder'},\n",
       "   'Required Security Level': 'SL-4'},\n",
       "  {'Name': 'Detect Location Service on Type A Tablet',\n",
       "   'Service Class': 'Track_Location',\n",
       "   'Resource Name': {'HTTP': '/location'},\n",
       "   'Required Security Level': 'SL-0'},\n",
       "  {'Name': 'Fingerprint Authentication Service on Type A Tablet',\n",
       "   'Service Class': 'Fingerprint_Authentication',\n",
       "   'Resource Name': {'RPC': '/fingerprintauth'},\n",
       "   'Security Level Provided': 'SL-3'}],\n",
       " 'threat': [{'Name': 'MAPE-k engine cannot access the device',\n",
       "   'Threat Class': 'Inaccessible_MAPE-k_Engine',\n",
       "   'Threat Level': 'TL-4'},\n",
       "  {'Name': 'Unauthorized Running Service',\n",
       "   'Threat Class': 'Unauthorized_Running_Service',\n",
       "   'Threat Level': 'TL-4'},\n",
       "  {'Name': 'Unauthorized Action Detected',\n",
       "   'Threat Class': 'Unauthorized_Action',\n",
       "   'Threat Level': 'TL-3'}],\n",
       " 'Description': {'Manufacturer': 'Foo Bar Inc.',\n",
       "  'Screen Size': '10.5',\n",
       "  'Screen Resolution': '3840x2160'}}"
      ]
     },
     "execution_count": 194,
     "metadata": {},
     "output_type": "execute_result"
    }
   ],
   "source": [
    "Tablet"
   ]
  },
  {
   "cell_type": "code",
   "execution_count": 195,
   "metadata": {},
   "outputs": [
    {
     "data": {
      "text/plain": [
       "'c41f3b6f-e071-4eb7-aa75-2f1cfe7c4198'"
      ]
     },
     "execution_count": 195,
     "metadata": {},
     "output_type": "execute_result"
    }
   ],
   "source": [
    "Tablet = manager.equipment.create(equipmentModel=Tablet, context=context)\n",
    "print(Tablet)"
   ]
  },
  {
   "cell_type": "markdown",
   "metadata": {},
   "source": [
    "## Event 61\n",
    "* Event Description: Register a new device \"VoIP Phone\"\n",
    "* Event Type: Register Device\n",
    "* Event Response: 1 device, 3 services added"
   ]
  },
  {
   "cell_type": "code",
   "execution_count": 196,
   "metadata": {},
   "outputs": [],
   "source": [
    "context = {\n",
    "\"Location\":\"BLD4-F16-M201-2\",\n",
    "\"Group\":\"BLD4-Classified-Room\"\n",
    "}"
   ]
  },
  {
   "cell_type": "code",
   "execution_count": 197,
   "metadata": {},
   "outputs": [],
   "source": [
    "with open('./Equipment/Telecommunication/VoIP_Phone.json') as json_file:\n",
    "    VoIP_Phone = json.load(json_file)"
   ]
  },
  {
   "cell_type": "code",
   "execution_count": 198,
   "metadata": {},
   "outputs": [
    {
     "data": {
      "text/plain": [
       "{'uuid': 'ad1aba06-ff93-4a7b-9bfe-0851da1d6088',\n",
       " 'Equipment Model Name': 'VoIP Phone Model A',\n",
       " 'Equipment Model Version': '0.1',\n",
       " 'last_update_timestamp': '2019-08-03T21:23:53.581662+00:00',\n",
       " 'Equipment Class': 'VoIP_Phone',\n",
       " 'Service': [{'Name': 'Video Call Service on Type A VoIP Phone',\n",
       "   'Service Class': 'Video_Call',\n",
       "   'Resource Name': {'RPC': '/vdc'},\n",
       "   'Required Security Level': 'SL-4'},\n",
       "  {'Name': 'Call Service on Type A VoIP Phone',\n",
       "   'Service Class': 'Call',\n",
       "   'Resource Name': {'RPC': '/call'},\n",
       "   'Required Security Level': 'SL-4'},\n",
       "  {'Name': 'Encryption in Transit Service on VoIP Phone',\n",
       "   'Service Class': 'Encryption_in_Transit',\n",
       "   'Resource Name': {'RPC': '/ecrptrst'},\n",
       "   'Required Security Level': 'SL-1'}],\n",
       " 'threat': [{'Name': 'Wiretapping_Attack',\n",
       "   'Threat Class': 'Wiretapping_Attack',\n",
       "   'Threat Mitigation Policy': '8ba2c399-267e-4644-bfad-687c33021b00'}],\n",
       " 'Description': {'Manufacturer': 'Foo Bar Inc.'}}"
      ]
     },
     "execution_count": 198,
     "metadata": {},
     "output_type": "execute_result"
    }
   ],
   "source": [
    "VoIP_Phone"
   ]
  },
  {
   "cell_type": "code",
   "execution_count": 199,
   "metadata": {},
   "outputs": [
    {
     "data": {
      "text/plain": [
       "'e2035baf-f229-417e-b1a8-871495b5a976'"
      ]
     },
     "execution_count": 199,
     "metadata": {},
     "output_type": "execute_result"
    }
   ],
   "source": [
    "VoIP_Phone = manager.equipment.create(equipmentModel=VoIP_Phone, context=context)\n",
    "print(VoIP_Phone)"
   ]
  },
  {
   "cell_type": "markdown",
   "metadata": {},
   "source": [
    "## Event 62\n",
    "* Event Description: \n",
    "    * Register a new contextual individual \"Token_Maximum_Age\" in the class \"Variable\" with value int 10.\n",
    "    * Register a new contextual individual \"NFC_Tag_Maximum_Age\" in the class \"Variable\" with value int 12.\n",
    "    * Register a new contextual individual \"Minimum_Password_Length\" in the class \"Variable\" with value int 8.\n",
    "    * Register a new contextual individual \"Password_Rotation_Interval\" in the class \"Variable\" with value int 60.\n",
    "    * Initialize the room 'BLD4-F16-M201-2' with classification level \"Classified\" and security level of SL-4.\n",
    "* Event Type: Register Context & Bind Policy\n",
    "* Event Response: 4 contextual individuals added and 1 room is intialized"
   ]
  },
  {
   "cell_type": "code",
   "execution_count": 200,
   "metadata": {},
   "outputs": [
    {
     "data": {
      "text/plain": [
       "True"
      ]
     },
     "execution_count": 200,
     "metadata": {},
     "output_type": "execute_result"
    }
   ],
   "source": [
    "manager.context.add_context(contextIndividual='Token_Maximum_Age', contextClass='Variable', dataproperty='hasData', data=10, datatype='XSD.integer')\n",
    "manager.context.add_context(contextIndividual='NFC_Tag_Maximum_Age', contextClass='Variable', dataproperty='hasData', data=12, datatype='XSD.integer')\n",
    "manager.context.add_context(contextIndividual='Minimum_Password_Length', contextClass='Variable', dataproperty='hasData', data=8, datatype='XSD.integer')\n",
    "manager.context.add_context(contextIndividual='Password_Rotation_Interval', contextClass='Variable', dataproperty='hasData', data=60, datatype='XSD.integer')\n",
    "manager.policy.bind_policy_to_individual(individualURI='BLD4-F16-M201-2', policyURI='Classified')\n",
    "manager.policy.bind_policy_to_individual(individualURI='BLD4-F16-M201-2', policyURI='SL-4')"
   ]
  },
  {
   "cell_type": "markdown",
   "metadata": {},
   "source": [
    "## Event 63\n",
    "* Event Description: Request the list of services provided by the smart door lock witu UUID '4477c4b4-2402-4110-94ec-98cd1d1bfc5c'\n",
    "* Event Type: Request the list of services\n",
    "* Event Response: List of services URI and class"
   ]
  },
  {
   "cell_type": "code",
   "execution_count": 201,
   "metadata": {},
   "outputs": [
    {
     "execution_count": 201,
     "name": "stdout",
     "output_type": "stream",
     "text": [
      "[('11476739-1b60-48b2-a54c-e57e96a6146b', 'Open_Door'), ('e993f3ff-cafa-4b4c-98b4-cb0b77c89553', 'Voice_Authentication'), ('a960b0e5-afcc-4b25-a334-c638ccd323bb', 'Face_Authentication'), ('7c9a7ba6-6bc2-4311-901c-5248d971f8f5', 'Iris_Authentication'), ('d7f52b2e-c3aa-4afd-8004-699ba2cc15dc', 'Password_Authentication'), ('636b2d8f-49c1-447e-a511-c25991699284', 'Close_Door'), ('58632af3-03b8-4521-b005-53309b7fab0b', 'Fingerprint_Authentication'), ('7bb2e161-c23b-4f1e-a537-1858f88eceb3', 'NFC_Authentication')]\n"
     ]
    }
   ],
   "source": [
    "svc_Smart_Door_Lock = manager.equipment.list_service_on_device(deviceUUID=Smart_Door_Lock)\n",
    "print(svc_Smart_Door_Lock)"
   ]
  },
  {
   "cell_type": "markdown",
   "metadata": {},
   "source": [
    "## Event 64\n",
    "* Event Description: Alice authenticates through the fingerprint authentication provided by the smart door lock\n",
    "* Event Type: User's request\n",
    "* Event Response: Request accepted and Alice now has the trust level of SL-3."
   ]
  },
  {
   "cell_type": "code",
   "execution_count": 202,
   "metadata": {},
   "outputs": [],
   "source": [
    "fingerprint_auth_svc_uuid = [item[0] for item in svc_Smart_Door_Lock if item[1]=='Fingerprint_Authentication'][0]"
   ]
  },
  {
   "cell_type": "code",
   "execution_count": 203,
   "metadata": {},
   "outputs": [
    {
     "data": {
      "text/plain": [
       "(True, 'SL-3')"
      ]
     },
     "execution_count": 203,
     "metadata": {},
     "output_type": "execute_result"
    }
   ],
   "source": [
    "manager.service.enable(serviceUUID=fingerprint_auth_svc_uuid, userUUID='Alice')"
   ]
  },
  {
   "cell_type": "markdown",
   "metadata": {},
   "source": [
    "## Event 65\n",
    "* Event Description: Alice requests the open door service\n",
    "* Event Type: User's request\n",
    "* Event Response: Request rejected, an additional trust level of SL-1 is required."
   ]
  },
  {
   "cell_type": "code",
   "execution_count": 204,
   "metadata": {},
   "outputs": [],
   "source": [
    "open_door_svc_uuid = [item[0] for item in svc_Smart_Door_Lock if item[1]=='Open_Door'][0]"
   ]
  },
  {
   "cell_type": "code",
   "execution_count": 205,
   "metadata": {},
   "outputs": [
    {
     "data": {
      "text/plain": [
       "(False, 'Trust_Level', 1)"
      ]
     },
     "execution_count": 205,
     "metadata": {},
     "output_type": "execute_result"
    }
   ],
   "source": [
    "manager.service.enable(serviceUUID=open_door_svc_uuid, userUUID='Alice')"
   ]
  },
  {
   "cell_type": "markdown",
   "metadata": {},
   "source": [
    "## Event 66\n",
    "* Event Description: Alice authenticates through the fingerprint authentication provided by the smart door lock\n",
    "* Event Type: User's request\n",
    "* Event Response: Request rejected as the authentication method should be unique."
   ]
  },
  {
   "cell_type": "code",
   "execution_count": 206,
   "metadata": {},
   "outputs": [],
   "source": [
    "fingerprint_auth_svc_uuid = [item[0] for item in svc_Smart_Door_Lock if item[1]=='Fingerprint_Authentication'][0]"
   ]
  },
  {
   "cell_type": "code",
   "execution_count": 207,
   "metadata": {},
   "outputs": [
    {
     "data": {
      "text/plain": [
       "(False, 'Repeated')"
      ]
     },
     "execution_count": 207,
     "metadata": {},
     "output_type": "execute_result"
    }
   ],
   "source": [
    "manager.service.enable(serviceUUID=fingerprint_auth_svc_uuid, userUUID='Alice')"
   ]
  },
  {
   "cell_type": "markdown",
   "metadata": {},
   "source": [
    "## Event 67\n",
    "* Event Description: MAPE-k engine reasons about the cause of the rejected request.\n",
    "* Event Type: User's request\n",
    "* Event Response: The manager notifies to use a specific authentication service provided by a specific device."
   ]
  },
  {
   "cell_type": "code",
   "execution_count": 208,
   "metadata": {},
   "outputs": [],
   "source": [
    "res73 = manager.service.recommend_auth(rejectedServiceUUID=open_door_svc_uuid, userUUID='Alice', Lock=True)\n",
    "authclass, authsvcuri, equipmentclass, equipmenturi, location = res73"
   ]
  },
  {
   "cell_type": "code",
   "execution_count": 209,
   "metadata": {},
   "outputs": [
    {
     "execution_count": 209,
     "name": "stdout",
     "output_type": "stream",
     "text": [
      "Please use Password_Authentication service with URI 8e9c0beb-9509-4068-81b0-13260f7dec1b provided by Smart_Key_Lock with URI 63acd154-60d3-4b56-8aa2-c994ae553e3e located in BLD4-F16-M201-2 to authenticate.\n"
     ]
    }
   ],
   "source": [
    "print(f'Please use {authclass} service with URI {authsvcuri} provided by {equipmentclass} with URI {equipmenturi} located in {location} to authenticate.')"
   ]
  },
  {
   "cell_type": "markdown",
   "metadata": {},
   "source": [
    "## Event 68\n",
    "* Event Description: Alice authenticates through the fingerprint authentication provided by the smart door lock\n",
    "* Event Type: User's request\n",
    "* Event Response: Request accepted and Alice now has the trust level of SL-4."
   ]
  },
  {
   "cell_type": "code",
   "execution_count": 210,
   "metadata": {},
   "outputs": [
    {
     "data": {
      "text/plain": [
       "(True, 'SL-4')"
      ]
     },
     "execution_count": 210,
     "metadata": {},
     "output_type": "execute_result"
    }
   ],
   "source": [
    "manager.service.enable(serviceUUID=authsvcuri, userUUID='Alice')"
   ]
  },
  {
   "cell_type": "markdown",
   "metadata": {},
   "source": [
    "## Event 69\n",
    "* Event Description: Alice requests the open door service\n",
    "* Event Type: User's request\n",
    "* Event Response: Request accepted; Alice enters the room 'BLD4-F16-M201-2'"
   ]
  },
  {
   "cell_type": "code",
   "execution_count": 211,
   "metadata": {},
   "outputs": [],
   "source": [
    "open_door_svc_uuid = [item[0] for item in svc_Smart_Door_Lock if item[1]=='Open_Door'][0]"
   ]
  },
  {
   "cell_type": "code",
   "execution_count": 212,
   "metadata": {},
   "outputs": [
    {
     "data": {
      "text/plain": [
       "(True, 'Accepted')"
      ]
     },
     "execution_count": 212,
     "metadata": {},
     "output_type": "execute_result"
    }
   ],
   "source": [
    "manager.service.enable(serviceUUID=open_door_svc_uuid, userUUID='Alice')"
   ]
  },
  {
   "cell_type": "code",
   "execution_count": 213,
   "metadata": {},
   "outputs": [],
   "source": [
    "manager.context.bind_context_to_individual(individualURI='Alice', contextURI='BLD4-F16-M201-2')"
   ]
  },
  {
   "cell_type": "markdown",
   "metadata": {},
   "source": [
    "## Event 70\n",
    "* Event Description: Charlie requests the open door service\n",
    "* Event Type: User's request\n",
    "* Event Response: Request rejected, an additional trust level of SL-4 is required."
   ]
  },
  {
   "cell_type": "code",
   "execution_count": 214,
   "metadata": {},
   "outputs": [
    {
     "data": {
      "text/plain": [
       "(False, 'Trust_Level', 4)"
      ]
     },
     "execution_count": 214,
     "metadata": {},
     "output_type": "execute_result"
    }
   ],
   "source": [
    "open_door_svc_uuid = [item[0] for item in svc_Smart_Door_Lock if item[1]=='Open_Door'][0]\n",
    "manager.service.enable(serviceUUID=open_door_svc_uuid, userUUID='Charlie')"
   ]
  },
  {
   "cell_type": "markdown",
   "metadata": {},
   "source": [
    "## Event 71\n",
    "* Event Description: MAPE-k engine reasons about the cause of the rejected request.\n",
    "* Event Type: User's request\n",
    "* Event Response: The manager notifies to use a specific authentication service provided by a specific device."
   ]
  },
  {
   "cell_type": "code",
   "execution_count": 215,
   "metadata": {},
   "outputs": [
    {
     "execution_count": 215,
     "name": "stdout",
     "output_type": "stream",
     "text": [
      "Please use Password_Authentication service with URI 8e9c0beb-9509-4068-81b0-13260f7dec1b provided by Smart_Key_Lock with URI 63acd154-60d3-4b56-8aa2-c994ae553e3e located in BLD4-F16-M201-2 to authenticate.\n"
     ]
    }
   ],
   "source": [
    "res85 = manager.service.recommend_auth(rejectedServiceUUID=open_door_svc_uuid, userUUID='Charlie', Lock=True)\n",
    "authclass, authsvcuri, equipmentclass, equipmenturi, location = res85\n",
    "print(f'Please use {authclass} service with URI {authsvcuri} provided by {equipmentclass} with URI {equipmenturi} located in {location} to authenticate.')"
   ]
  },
  {
   "cell_type": "markdown",
   "metadata": {},
   "source": [
    "## Event 72\n",
    "\n",
    "* Event Description: Charlie authenticates through the password authentication provided by the smart door lock\n",
    "* Event Type: User's request\n",
    "* Event Response: Request accepted and Bob now has the trust level of SL-2 after evaluating the adaptive trust level assessment policy."
   ]
  },
  {
   "cell_type": "code",
   "execution_count": 216,
   "metadata": {},
   "outputs": [
    {
     "data": {
      "text/plain": [
       "(True, 'SL-2')"
      ]
     },
     "execution_count": 216,
     "metadata": {},
     "output_type": "execute_result"
    }
   ],
   "source": [
    "manager.service.enable(serviceUUID=authsvcuri, userUUID='Charlie')"
   ]
  },
  {
   "cell_type": "markdown",
   "metadata": {},
   "source": [
    "## Event 73\n",
    "* Event Description: MAPE-k engine reasons about the cause of the rejected request.\n",
    "* Event Type: User's request\n",
    "* Event Response: The manager notifies to use a specific authentication service provided by a specific device."
   ]
  },
  {
   "cell_type": "code",
   "execution_count": 217,
   "metadata": {},
   "outputs": [
    {
     "execution_count": 217,
     "name": "stdout",
     "output_type": "stream",
     "text": [
      "Please use NFC_Authentication service with URI 755c62a1-a873-4dea-b71c-4b9186217336 provided by RFID_Door_Lock with URI bbf33b52-4b95-47e8-a9e8-6a96b895e507 located in BLD4-F16-M201-2 to authenticate.\n"
     ]
    }
   ],
   "source": [
    "res87 = manager.service.recommend_auth(rejectedServiceUUID=open_door_svc_uuid, userUUID='Charlie', Lock=True)\n",
    "authclass, authsvcuri, equipmentclass, equipmenturi, location = res87\n",
    "print(f'Please use {authclass} service with URI {authsvcuri} provided by {equipmentclass} with URI {equipmenturi} located in {location} to authenticate.')"
   ]
  },
  {
   "cell_type": "markdown",
   "metadata": {},
   "source": [
    "## Event 74\n",
    "\n",
    "* Event Description: Charlie authenticates through the NFC authentication provided by the RFID Door lock\n",
    "* Event Type: User's request\n",
    "* Event Response: Request accepted and Bob now has the trust level of SL-4 after evaluating the adaptive trust level assessment policy.\n"
   ]
  },
  {
   "cell_type": "code",
   "execution_count": 218,
   "metadata": {},
   "outputs": [
    {
     "data": {
      "text/plain": [
       "(True, 'SL-4')"
      ]
     },
     "execution_count": 218,
     "metadata": {},
     "output_type": "execute_result"
    }
   ],
   "source": [
    "manager.service.enable(serviceUUID=authsvcuri, userUUID='Charlie')"
   ]
  },
  {
   "cell_type": "markdown",
   "metadata": {},
   "source": [
    "## Event 75\n",
    "* Event Description: Charlie requests the open door service\n",
    "* Event Type: User's request\n",
    "* Event Response: Request accepted; Charlie enters the room 'BLD4-F16-M201-2'"
   ]
  },
  {
   "cell_type": "code",
   "execution_count": 219,
   "metadata": {},
   "outputs": [
    {
     "data": {
      "text/plain": [
       "(True, 'Accepted')"
      ]
     },
     "execution_count": 219,
     "metadata": {},
     "output_type": "execute_result"
    }
   ],
   "source": [
    "open_door_svc_uuid = [item[0] for item in svc_Smart_Door_Lock if item[1]=='Open_Door'][0]\n",
    "manager.service.enable(serviceUUID=open_door_svc_uuid, userUUID='Charlie')"
   ]
  },
  {
   "cell_type": "code",
   "execution_count": 220,
   "metadata": {},
   "outputs": [],
   "source": [
    "manager.context.bind_context_to_individual(individualURI='Charlie', contextURI='BLD4-F16-M201-2')"
   ]
  },
  {
   "cell_type": "markdown",
   "metadata": {},
   "source": [
    "## Event 76\n",
    "* Event Description: Alice requests the Play_Audio service provided by Smart_Board\n",
    "* Event Type: User's request\n",
    "* Event Response: Request accepted; service is enabled"
   ]
  },
  {
   "cell_type": "code",
   "execution_count": 221,
   "metadata": {},
   "outputs": [
    {
     "data": {
      "text/plain": [
       "(True, 'Accepted')"
      ]
     },
     "execution_count": 221,
     "metadata": {},
     "output_type": "execute_result"
    }
   ],
   "source": [
    "svc_Smart_Board = manager.equipment.list_service_on_device(deviceUUID=Smart_Board)\n",
    "svc_Smart_Board_Play_Audio =  [item[0] for item in svc_Smart_Board if item[1]=='Play_Audio'][0]\n",
    "manager.service.enable(serviceUUID=svc_Smart_Board_Play_Audio, userUUID='Alice')"
   ]
  },
  {
   "cell_type": "markdown",
   "metadata": {},
   "source": [
    "## Event 77\n",
    "* Event Description: Alice requests the Play_Video service provided by Smart_Board\n",
    "* Event Type: User's request\n",
    "* Event Response: Request accepted; service is enabled"
   ]
  },
  {
   "cell_type": "code",
   "execution_count": 222,
   "metadata": {},
   "outputs": [
    {
     "data": {
      "text/plain": [
       "(True, 'Accepted')"
      ]
     },
     "execution_count": 222,
     "metadata": {},
     "output_type": "execute_result"
    }
   ],
   "source": [
    "svc_Smart_Board_Play_Video =  [item[0] for item in svc_Smart_Board if item[1]=='Play_Video'][0]\n",
    "manager.service.enable(serviceUUID=svc_Smart_Board_Play_Video, userUUID='Alice')"
   ]
  },
  {
   "cell_type": "markdown",
   "metadata": {},
   "source": [
    "## Event 78\n",
    "* Event Description: Bob requests the Video_Call service provided by Smart_TV\n",
    "* Event Type: User's request\n",
    "* Event Response: Request rejected, an additional trust level of SL-1 is required."
   ]
  },
  {
   "cell_type": "code",
   "execution_count": 223,
   "metadata": {},
   "outputs": [
    {
     "data": {
      "text/plain": [
       "(False, 'Trust_Level', 1)"
      ]
     },
     "execution_count": 223,
     "metadata": {},
     "output_type": "execute_result"
    }
   ],
   "source": [
    "svc_Smart_TV = manager.equipment.list_service_on_device(deviceUUID=Smart_TV)\n",
    "svc_Smart_TV_Video_Call =  [item[0] for item in svc_Smart_TV if item[1]=='Video_Call'][0]\n",
    "manager.service.enable(serviceUUID=svc_Smart_TV_Video_Call, userUUID='Bob')"
   ]
  },
  {
   "cell_type": "markdown",
   "metadata": {},
   "source": [
    "## Event 79\n",
    "* Event Description: Bob requests the Share_Screen service provided by Smart_TV\n",
    "* Event Type: User's request\n",
    "* Event Response: Request rejected, an additional trust level of SL-1 is required."
   ]
  },
  {
   "cell_type": "code",
   "execution_count": 224,
   "metadata": {},
   "outputs": [
    {
     "data": {
      "text/plain": [
       "(False, 'Trust_Level', 1)"
      ]
     },
     "execution_count": 224,
     "metadata": {},
     "output_type": "execute_result"
    }
   ],
   "source": [
    "svc_Smart_TV_Share_Screen =  [item[0] for item in svc_Smart_TV if item[1]=='Share_Screen'][0]\n",
    "manager.service.enable(serviceUUID=svc_Smart_TV_Share_Screen, userUUID='Bob')"
   ]
  },
  {
   "cell_type": "markdown",
   "metadata": {},
   "source": [
    "## Event 80\n",
    "* Event Description: Charlie requests the Play_Video service provided by Projector\n",
    "* Event Type: User's request\n",
    "* Event Response: Request accepted; service is enabled"
   ]
  },
  {
   "cell_type": "code",
   "execution_count": 225,
   "metadata": {},
   "outputs": [
    {
     "data": {
      "text/plain": [
       "(True, 'Accepted')"
      ]
     },
     "execution_count": 225,
     "metadata": {},
     "output_type": "execute_result"
    }
   ],
   "source": [
    "svc_Projector = manager.equipment.list_service_on_device(deviceUUID=Projector)\n",
    "svc_Projector_Play_Video =  [item[0] for item in svc_Projector if item[1]=='Play_Video'][0]\n",
    "manager.service.enable(serviceUUID=svc_Projector_Play_Video, userUUID='Charlie')"
   ]
  },
  {
   "cell_type": "markdown",
   "metadata": {},
   "source": [
    "## Event 81\n",
    "* Event Description: Charlie requests the Play_Audio service provided by Projector\n",
    "* Event Type: User's request\n",
    "* Event Response: Request accepted; service is enabled"
   ]
  },
  {
   "cell_type": "code",
   "execution_count": 226,
   "metadata": {},
   "outputs": [
    {
     "data": {
      "text/plain": [
       "(True, 'Accepted')"
      ]
     },
     "execution_count": 226,
     "metadata": {},
     "output_type": "execute_result"
    }
   ],
   "source": [
    "svc_Projector_Play_Audio =  [item[0] for item in svc_Projector if item[1]=='Play_Audio'][0]\n",
    "manager.service.enable(serviceUUID=svc_Projector_Play_Audio, userUUID='Charlie')"
   ]
  },
  {
   "cell_type": "markdown",
   "metadata": {},
   "source": [
    "## Event 82\n",
    "* Event Description: Alice requests the Room_Temperature_Setpoint_Control service provided by Thermostat\n",
    "* Event Type: User's request\n",
    "* Event Response: Request accepted"
   ]
  },
  {
   "cell_type": "code",
   "execution_count": 227,
   "metadata": {},
   "outputs": [
    {
     "data": {
      "text/plain": [
       "(True, 'Accepted')"
      ]
     },
     "execution_count": 227,
     "metadata": {},
     "output_type": "execute_result"
    }
   ],
   "source": [
    "svc_Thermostat = manager.equipment.list_service_on_device(deviceUUID=Thermostat)\n",
    "svc_Thermostat_Room_Temperature_Setpoint_Control = [item[0] for item in svc_Thermostat if item[1]=='Room_Temperature_Setpoint_Control'][0]\n",
    "manager.service.enable(serviceUUID=svc_Thermostat_Room_Temperature_Setpoint_Control, userUUID='Alice')"
   ]
  },
  {
   "cell_type": "markdown",
   "metadata": {},
   "source": [
    "## Event 83\n",
    "* Event Description: Alice requests the Airflow_Setpoint_Control service provided by Airflow_Valve\n",
    "* Event Type: User's request\n",
    "* Event Response: Request rejected, as the access policy is not satisfied."
   ]
  },
  {
   "cell_type": "code",
   "execution_count": 228,
   "metadata": {},
   "outputs": [
    {
     "data": {
      "text/plain": [
       "(False, 'Access_Policy')"
      ]
     },
     "execution_count": 228,
     "metadata": {},
     "output_type": "execute_result"
    }
   ],
   "source": [
    "svc_Airflow_Valve = manager.equipment.list_service_on_device(deviceUUID=Airflow_Valve)\n",
    "svc_Airflow_Valve_Airflow_Setpoint_Control = [item[0] for item in svc_Airflow_Valve if item[1]=='Airflow_Setpoint_Control'][0]\n",
    "manager.service.enable(serviceUUID=svc_Airflow_Valve_Airflow_Setpoint_Control, userUUID='Alice')"
   ]
  },
  {
   "cell_type": "markdown",
   "metadata": {},
   "source": [
    "## Event 84\n",
    "* Event Description: Add Alice to the group \"HVAC_Manager\"\n",
    "* Event Type: Add Context\n",
    "* Event Response: 1 context added"
   ]
  },
  {
   "cell_type": "code",
   "execution_count": 229,
   "metadata": {},
   "outputs": [],
   "source": [
    "manager.context.add_context(contextIndividual='HVAC_Manager', contextClass='Variable')\n",
    "manager.context.bind_context_to_individual(individualURI='Alice', contextURI='HVAC_Manager')"
   ]
  },
  {
   "cell_type": "markdown",
   "metadata": {},
   "source": [
    "## Event 85\n",
    "* Event Description: Alice requests the Airflow_Setpoint_Control service provided by Airflow_Valve\n",
    "* Event Type: User's request\n",
    "* Event Response: Request accepted, as Alice is in \"HVAC_Manager\" group"
   ]
  },
  {
   "cell_type": "code",
   "execution_count": 230,
   "metadata": {},
   "outputs": [
    {
     "data": {
      "text/plain": [
       "(True, 'Accepted')"
      ]
     },
     "execution_count": 230,
     "metadata": {},
     "output_type": "execute_result"
    }
   ],
   "source": [
    "svc_Airflow_Valve_Airflow_Setpoint_Control = [item[0] for item in svc_Airflow_Valve if item[1]=='Airflow_Setpoint_Control'][0]\n",
    "manager.service.enable(serviceUUID=svc_Airflow_Valve_Airflow_Setpoint_Control, userUUID='Alice')"
   ]
  },
  {
   "cell_type": "markdown",
   "metadata": {},
   "source": [
    "## Event 86\n",
    "* Event Description: Charlie requests the Capture_Video service provided by Network_Camera\n",
    "* Event Type: User's request\n",
    "* Event Response: Request accepted; service is enabled"
   ]
  },
  {
   "cell_type": "code",
   "execution_count": 231,
   "metadata": {},
   "outputs": [
    {
     "data": {
      "text/plain": [
       "(True, 'Accepted')"
      ]
     },
     "execution_count": 231,
     "metadata": {},
     "output_type": "execute_result"
    }
   ],
   "source": [
    "svc_Network_Camera = manager.equipment.list_service_on_device(deviceUUID=Network_Camera)\n",
    "svc_Network_Camera_Capture_Video = [item[0] for item in svc_Network_Camera if item[1]=='Capture_Video'][0]\n",
    "manager.service.enable(serviceUUID=svc_Network_Camera_Capture_Video, userUUID='Charlie')"
   ]
  },
  {
   "cell_type": "markdown",
   "metadata": {},
   "source": [
    "## Event 87\n",
    "* Event Description: Charlie requests the Share_Screen service provided by Smart_TV\n",
    "* Event Type: User's request\n",
    "* Event Response: Request accepted; service is enabled"
   ]
  },
  {
   "cell_type": "code",
   "execution_count": 232,
   "metadata": {},
   "outputs": [
    {
     "data": {
      "text/plain": [
       "(True, 'Accepted')"
      ]
     },
     "execution_count": 232,
     "metadata": {},
     "output_type": "execute_result"
    }
   ],
   "source": [
    "svc_Smart_TV_Share_Screen =  [item[0] for item in svc_Smart_TV if item[1]=='Share_Screen'][0]\n",
    "manager.service.enable(serviceUUID=svc_Smart_TV_Share_Screen, userUUID='Charlie')"
   ]
  },
  {
   "cell_type": "markdown",
   "metadata": {},
   "source": [
    "## Event 88\n",
    "* Event Description: Alice requests the Share_Data service provided by File_Server\n",
    "* Event Type: User's request\n",
    "* Event Response: Request accepted; service is enabled"
   ]
  },
  {
   "cell_type": "code",
   "execution_count": 233,
   "metadata": {},
   "outputs": [
    {
     "data": {
      "text/plain": [
       "(True, 'Accepted')"
      ]
     },
     "execution_count": 233,
     "metadata": {},
     "output_type": "execute_result"
    }
   ],
   "source": [
    "svc_File_Server = manager.equipment.list_service_on_device(deviceUUID=File_Server)\n",
    "svc_File_Server_Share_Data =  [item[0] for item in svc_File_Server if item[1]=='Share_Data'][0]\n",
    "manager.service.enable(serviceUUID=svc_File_Server_Share_Data, userUUID='Charlie')"
   ]
  },
  {
   "cell_type": "markdown",
   "metadata": {},
   "source": [
    "## Event 89\n",
    "* Event Description: Network Camera reports a threat \"Unexpected_Motion\"\n",
    "* Event Type: Threat Handling - Report a new threat\n",
    "* Event Response: Please refer to the following code blocks."
   ]
  },
  {
   "cell_type": "code",
   "execution_count": 234,
   "metadata": {},
   "outputs": [
    {
     "data": {
      "text/plain": [
       "(True,\n",
       " '4f3c4014-6860-4a7e-96c6-2c16fc789fba',\n",
       " 0,\n",
       " ['9b7f2550-da3c-4d4c-9eb6-f5475227062b',\n",
       "  '8e24fc81-925e-4f9f-a072-1bc75c654abe',\n",
       "  'ece54774-ed2c-4729-b217-ea2b3820cfe6',\n",
       "  'beb6c42d-f9e4-4bf9-92fb-8c831c05f67c',\n",
       "  'f192881a-c2c5-4518-a39c-4af8d6bfbb9d',\n",
       "  'e6632546-83b8-4256-9cd0-909d434a0ce1',\n",
       "  'd67ec5e6-ec08-47d0-be82-b0ee4555f9a8',\n",
       "  '11476739-1b60-48b2-a54c-e57e96a6146b'])"
      ]
     },
     "execution_count": 234,
     "metadata": {},
     "output_type": "execute_result"
    }
   ],
   "source": [
    "eventStatus, threatUUID, newSL, serviceSuspended = manager.event.report_threat(equipmentUUID=Network_Camera, Threat_Class='Unexpected_Motion')\n",
    "print(eventStatus, threatUUID, newSL, serviceSuspended)"
   ]
  },
  {
   "cell_type": "code",
   "execution_count": 235,
   "metadata": {},
   "outputs": [
    {
     "execution_count": 235,
     "name": "stdout",
     "output_type": "stream",
     "text": [
      " Threat UUID:4f3c4014-6860-4a7e-96c6-2c16fc789fba, New Security Level: SL-0, Number of active services suspended: 8\n"
     ]
    }
   ],
   "source": [
    "print(f\" Threat UUID:{threatUUID}, New Security Level: SL-{newSL}, Number of active services suspended: {len(serviceSuspended)}\")"
   ]
  },
  {
   "cell_type": "markdown",
   "metadata": {},
   "source": [
    "## Event 90\n",
    "* Event Description: Network Camera reports a threat \"Unexpected_Motion\"\n",
    "* Event Type: Threat Handling - Report a removed threat \n",
    "* Event Response: Please refer to the following code blocks."
   ]
  },
  {
   "cell_type": "code",
   "execution_count": 236,
   "metadata": {},
   "outputs": [
    {
     "execution_count": 236,
     "name": "stdout",
     "output_type": "stream",
     "text": [
      "True 4 0 ['beb6c42d-f9e4-4bf9-92fb-8c831c05f67c', 'f192881a-c2c5-4518-a39c-4af8d6bfbb9d', 'e6632546-83b8-4256-9cd0-909d434a0ce1', 'd67ec5e6-ec08-47d0-be82-b0ee4555f9a8', '11476739-1b60-48b2-a54c-e57e96a6146b', '8e24fc81-925e-4f9f-a072-1bc75c654abe', '9b7f2550-da3c-4d4c-9eb6-f5475227062b', 'ece54774-ed2c-4729-b217-ea2b3820cfe6']\n"
     ]
    }
   ],
   "source": [
    "eventStatus, Env_SecurityLevel, service_to_enable = manager.event.remove_threat(ThreatUUID=threatUUID)\n",
    "print(eventStatus, Env_SecurityLevel, newSL, service_to_enable)"
   ]
  },
  {
   "cell_type": "code",
   "execution_count": 237,
   "metadata": {},
   "outputs": [
    {
     "execution_count": 237,
     "name": "stdout",
     "output_type": "stream",
     "text": [
      "New Security Level: SL-4, Number of services resumed: 8\n"
     ]
    }
   ],
   "source": [
    "print(f\"New Security Level: SL-{Env_SecurityLevel}, Number of services resumed: {len(service_to_enable)}\")"
   ]
  },
  {
   "cell_type": "markdown",
   "metadata": {},
   "source": [
    "## Event 91\n",
    "* Event Description: Network Camera reports a threat \"Unrecognized_Face\"\n",
    "* Event Type: Threat Handling - Report a new threat\n",
    "* Event Response: Please refer to the following code blocks."
   ]
  },
  {
   "cell_type": "code",
   "execution_count": 238,
   "metadata": {},
   "outputs": [
    {
     "execution_count": 238,
     "name": "stdout",
     "output_type": "stream",
     "text": [
      "True b5ab1f62-5ced-428c-a4c2-491fbbff68bd 0 ['9b7f2550-da3c-4d4c-9eb6-f5475227062b', '8e24fc81-925e-4f9f-a072-1bc75c654abe', 'ece54774-ed2c-4729-b217-ea2b3820cfe6', 'beb6c42d-f9e4-4bf9-92fb-8c831c05f67c', 'f192881a-c2c5-4518-a39c-4af8d6bfbb9d', 'e6632546-83b8-4256-9cd0-909d434a0ce1', 'd67ec5e6-ec08-47d0-be82-b0ee4555f9a8', '11476739-1b60-48b2-a54c-e57e96a6146b']\n"
     ]
    }
   ],
   "source": [
    "eventStatus, threatUUID, newSL, serviceSuspended = manager.event.report_threat(equipmentUUID=Network_Camera, Threat_Class='Unrecognized_Face')\n",
    "print(eventStatus, threatUUID, newSL, serviceSuspended)"
   ]
  },
  {
   "cell_type": "code",
   "execution_count": 239,
   "metadata": {},
   "outputs": [
    {
     "execution_count": 239,
     "name": "stdout",
     "output_type": "stream",
     "text": [
      " Threat UUID:b5ab1f62-5ced-428c-a4c2-491fbbff68bd, New Security Level: SL-0, Number of active services suspended: 8\n"
     ]
    }
   ],
   "source": [
    "print(f\" Threat UUID:{threatUUID}, New Security Level: SL-{newSL}, Number of active services suspended: {len(serviceSuspended)}\")"
   ]
  },
  {
   "cell_type": "markdown",
   "metadata": {},
   "source": [
    "## Event 92\n",
    "* Event Description: Report a removed threat.\n",
    "* Event Type: Threat Handling - Report a removed threat \n",
    "* Event Response: Please refer to the following code blocks."
   ]
  },
  {
   "cell_type": "code",
   "execution_count": 240,
   "metadata": {},
   "outputs": [
    {
     "execution_count": 240,
     "name": "stdout",
     "output_type": "stream",
     "text": [
      "True 4 0 ['beb6c42d-f9e4-4bf9-92fb-8c831c05f67c', 'f192881a-c2c5-4518-a39c-4af8d6bfbb9d', 'e6632546-83b8-4256-9cd0-909d434a0ce1', 'd67ec5e6-ec08-47d0-be82-b0ee4555f9a8', '11476739-1b60-48b2-a54c-e57e96a6146b', '8e24fc81-925e-4f9f-a072-1bc75c654abe', '9b7f2550-da3c-4d4c-9eb6-f5475227062b', 'ece54774-ed2c-4729-b217-ea2b3820cfe6']\n"
     ]
    }
   ],
   "source": [
    "eventStatus, Env_SecurityLevel, service_to_enable = manager.event.remove_threat(ThreatUUID=threatUUID)\n",
    "print(eventStatus, Env_SecurityLevel, newSL, service_to_enable)"
   ]
  },
  {
   "cell_type": "code",
   "execution_count": 241,
   "metadata": {},
   "outputs": [
    {
     "execution_count": 241,
     "name": "stdout",
     "output_type": "stream",
     "text": [
      "New Security Level: SL-4, Number of services resumed: 8\n"
     ]
    }
   ],
   "source": [
    "print(f\"New Security Level: SL-{Env_SecurityLevel}, Number of services resumed: {len(service_to_enable)}\")"
   ]
  },
  {
   "cell_type": "markdown",
   "metadata": {},
   "source": [
    "## Event 93\n",
    "* Event Description: Smart_Board reports a threat \"Unexpected_Occupancy\"\n",
    "* Event Type: Threat Handling - Report a new threat\n",
    "* Event Response: Please refer to the following code blocks."
   ]
  },
  {
   "cell_type": "code",
   "execution_count": 242,
   "metadata": {},
   "outputs": [
    {
     "execution_count": 242,
     "name": "stdout",
     "output_type": "stream",
     "text": [
      "True ffda6721-c515-491d-b608-055ffc380f45 0 ['9b7f2550-da3c-4d4c-9eb6-f5475227062b', '8e24fc81-925e-4f9f-a072-1bc75c654abe', 'ece54774-ed2c-4729-b217-ea2b3820cfe6', 'beb6c42d-f9e4-4bf9-92fb-8c831c05f67c', 'f192881a-c2c5-4518-a39c-4af8d6bfbb9d', 'e6632546-83b8-4256-9cd0-909d434a0ce1', 'd67ec5e6-ec08-47d0-be82-b0ee4555f9a8', '11476739-1b60-48b2-a54c-e57e96a6146b']\n"
     ]
    }
   ],
   "source": [
    "eventStatus, threatUUID, newSL, serviceSuspended = manager.event.report_threat(equipmentUUID=Smart_Board, Threat_Class='Unexpected_Occupancy')\n",
    "print(eventStatus, threatUUID, newSL, serviceSuspended)"
   ]
  },
  {
   "cell_type": "code",
   "execution_count": 243,
   "metadata": {},
   "outputs": [
    {
     "execution_count": 243,
     "name": "stdout",
     "output_type": "stream",
     "text": [
      " Threat UUID:ffda6721-c515-491d-b608-055ffc380f45, New Security Level: SL-0, Number of active services suspended: 8\n"
     ]
    }
   ],
   "source": [
    "print(f\" Threat UUID:{threatUUID}, New Security Level: SL-{newSL}, Number of active services suspended: {len(serviceSuspended)}\")"
   ]
  },
  {
   "cell_type": "markdown",
   "metadata": {},
   "source": [
    "## Event 94\n",
    "* Event Description: Report a removed threat.\n",
    "* Event Type: Threat Handling - Report a removed threat \n",
    "* Event Response: Please refer to the following code blocks."
   ]
  },
  {
   "cell_type": "code",
   "execution_count": 244,
   "metadata": {},
   "outputs": [
    {
     "execution_count": 244,
     "name": "stdout",
     "output_type": "stream",
     "text": [
      "True 4 0 ['beb6c42d-f9e4-4bf9-92fb-8c831c05f67c', 'f192881a-c2c5-4518-a39c-4af8d6bfbb9d', 'e6632546-83b8-4256-9cd0-909d434a0ce1', 'd67ec5e6-ec08-47d0-be82-b0ee4555f9a8', '11476739-1b60-48b2-a54c-e57e96a6146b', '8e24fc81-925e-4f9f-a072-1bc75c654abe', '9b7f2550-da3c-4d4c-9eb6-f5475227062b', 'ece54774-ed2c-4729-b217-ea2b3820cfe6']\n"
     ]
    }
   ],
   "source": [
    "eventStatus, Env_SecurityLevel, service_to_enable = manager.event.remove_threat(ThreatUUID=threatUUID)\n",
    "print(eventStatus, Env_SecurityLevel, newSL, service_to_enable)"
   ]
  },
  {
   "cell_type": "code",
   "execution_count": 245,
   "metadata": {},
   "outputs": [
    {
     "execution_count": 245,
     "name": "stdout",
     "output_type": "stream",
     "text": [
      "New Security Level: SL-4, Number of services resumed: 8\n"
     ]
    }
   ],
   "source": [
    "print(f\"New Security Level: SL-{Env_SecurityLevel}, Number of services resumed: {len(service_to_enable)}\")"
   ]
  },
  {
   "cell_type": "markdown",
   "metadata": {},
   "source": [
    "## Event 95\n",
    "* Event Description: Smart_Board reports a threat \"Sniffing_Attack\"\n",
    "* Event Type: Threat Handling - Report a new threat\n",
    "* Event Response: Please refer to the following code blocks."
   ]
  },
  {
   "cell_type": "code",
   "execution_count": 246,
   "metadata": {},
   "outputs": [
    {
     "execution_count": 246,
     "name": "stdout",
     "output_type": "stream",
     "text": [
      "True de65dc46-6779-4fa6-9118-7eba01349909 0 ['9b7f2550-da3c-4d4c-9eb6-f5475227062b', '8e24fc81-925e-4f9f-a072-1bc75c654abe', 'ece54774-ed2c-4729-b217-ea2b3820cfe6', 'beb6c42d-f9e4-4bf9-92fb-8c831c05f67c', 'f192881a-c2c5-4518-a39c-4af8d6bfbb9d', 'e6632546-83b8-4256-9cd0-909d434a0ce1', 'd67ec5e6-ec08-47d0-be82-b0ee4555f9a8', '11476739-1b60-48b2-a54c-e57e96a6146b']\n"
     ]
    }
   ],
   "source": [
    "eventStatus, threatUUID, newSL, serviceSuspended = manager.event.report_threat(equipmentUUID=Smart_Board, Threat_Class='Sniffing_Attack')\n",
    "print(eventStatus, threatUUID, newSL, serviceSuspended)"
   ]
  },
  {
   "cell_type": "code",
   "execution_count": 247,
   "metadata": {},
   "outputs": [
    {
     "execution_count": 247,
     "name": "stdout",
     "output_type": "stream",
     "text": [
      " Threat UUID:de65dc46-6779-4fa6-9118-7eba01349909, New Security Level: SL-0, Number of active services suspended: 8\n"
     ]
    }
   ],
   "source": [
    "print(f\" Threat UUID:{threatUUID}, New Security Level: SL-{newSL}, Number of active services suspended: {len(serviceSuspended)}\")"
   ]
  },
  {
   "cell_type": "markdown",
   "metadata": {},
   "source": [
    "## Event 96\n",
    "* Event Description: Report a removed threat.\n",
    "* Event Type: Threat Handling - Report a removed threat \n",
    "* Event Response: Please refer to the following code blocks."
   ]
  },
  {
   "cell_type": "code",
   "execution_count": 248,
   "metadata": {},
   "outputs": [
    {
     "execution_count": 248,
     "name": "stdout",
     "output_type": "stream",
     "text": [
      "True 4 0 ['beb6c42d-f9e4-4bf9-92fb-8c831c05f67c', 'f192881a-c2c5-4518-a39c-4af8d6bfbb9d', 'e6632546-83b8-4256-9cd0-909d434a0ce1', 'd67ec5e6-ec08-47d0-be82-b0ee4555f9a8', '11476739-1b60-48b2-a54c-e57e96a6146b', '8e24fc81-925e-4f9f-a072-1bc75c654abe', '9b7f2550-da3c-4d4c-9eb6-f5475227062b', 'ece54774-ed2c-4729-b217-ea2b3820cfe6']\n"
     ]
    }
   ],
   "source": [
    "eventStatus, Env_SecurityLevel, service_to_enable = manager.event.remove_threat(ThreatUUID=threatUUID)\n",
    "print(eventStatus, Env_SecurityLevel, newSL, service_to_enable)"
   ]
  },
  {
   "cell_type": "code",
   "execution_count": 249,
   "metadata": {},
   "outputs": [
    {
     "execution_count": 249,
     "name": "stdout",
     "output_type": "stream",
     "text": [
      "New Security Level: SL-4, Number of services resumed: 8\n"
     ]
    }
   ],
   "source": [
    "print(f\"New Security Level: SL-{Env_SecurityLevel}, Number of services resumed: {len(service_to_enable)}\")"
   ]
  },
  {
   "cell_type": "markdown",
   "metadata": {},
   "source": [
    "## Event 97\n",
    "* Event Description: Smart_Speaker reports a threat \"Unrecognized_Radio_Frequency\"\n",
    "* Event Type: Threat Handling - Report a new threat\n",
    "* Event Response: Please refer to the following code blocks."
   ]
  },
  {
   "cell_type": "code",
   "execution_count": 250,
   "metadata": {},
   "outputs": [
    {
     "execution_count": 250,
     "name": "stdout",
     "output_type": "stream",
     "text": [
      "True 7c603a10-44f2-4b27-9b0f-5e4a2517557e 2 ['8e24fc81-925e-4f9f-a072-1bc75c654abe', 'beb6c42d-f9e4-4bf9-92fb-8c831c05f67c', 'e6632546-83b8-4256-9cd0-909d434a0ce1', '11476739-1b60-48b2-a54c-e57e96a6146b']\n"
     ]
    }
   ],
   "source": [
    "eventStatus, threatUUID, newSL, serviceSuspended = manager.event.report_threat(equipmentUUID=Smart_Speaker, Threat_Class='Unrecognized_Radio_Frequency')\n",
    "print(eventStatus, threatUUID, newSL, serviceSuspended)"
   ]
  },
  {
   "cell_type": "code",
   "execution_count": 251,
   "metadata": {},
   "outputs": [
    {
     "execution_count": 251,
     "name": "stdout",
     "output_type": "stream",
     "text": [
      " Threat UUID:7c603a10-44f2-4b27-9b0f-5e4a2517557e, New Security Level: SL-2, Number of active services suspended: 4\n"
     ]
    }
   ],
   "source": [
    "print(f\" Threat UUID:{threatUUID}, New Security Level: SL-{newSL}, Number of active services suspended: {len(serviceSuspended)}\")"
   ]
  },
  {
   "cell_type": "markdown",
   "metadata": {},
   "source": [
    "## Event 98\n",
    "* Event Description: Report a removed threat.\n",
    "* Event Type: Threat Handling - Report a removed threat \n",
    "* Event Response: Please refer to the following code blocks."
   ]
  },
  {
   "cell_type": "code",
   "execution_count": 252,
   "metadata": {},
   "outputs": [
    {
     "execution_count": 252,
     "name": "stdout",
     "output_type": "stream",
     "text": [
      "True 4 2 ['beb6c42d-f9e4-4bf9-92fb-8c831c05f67c', 'e6632546-83b8-4256-9cd0-909d434a0ce1', '8e24fc81-925e-4f9f-a072-1bc75c654abe', '11476739-1b60-48b2-a54c-e57e96a6146b']\n"
     ]
    }
   ],
   "source": [
    "eventStatus, Env_SecurityLevel, service_to_enable = manager.event.remove_threat(ThreatUUID=threatUUID)\n",
    "print(eventStatus, Env_SecurityLevel, newSL, service_to_enable)"
   ]
  },
  {
   "cell_type": "code",
   "execution_count": 253,
   "metadata": {},
   "outputs": [
    {
     "execution_count": 253,
     "name": "stdout",
     "output_type": "stream",
     "text": [
      "New Security Level: SL-4, Number of services resumed: 4\n"
     ]
    }
   ],
   "source": [
    "print(f\"New Security Level: SL-{Env_SecurityLevel}, Number of services resumed: {len(service_to_enable)}\")"
   ]
  },
  {
   "cell_type": "markdown",
   "metadata": {},
   "source": [
    "## Event 99\n",
    "* Event Description: Smart_TV reports a threat \"Failed_Hardware_Integrity_Check\"\n",
    "* Event Type: Threat Handling - Report a new threat\n",
    "* Event Response: Please refer to the following code blocks."
   ]
  },
  {
   "cell_type": "code",
   "execution_count": 254,
   "metadata": {},
   "outputs": [
    {
     "execution_count": 254,
     "name": "stdout",
     "output_type": "stream",
     "text": [
      "True e0b867e1-a7e5-482f-8a40-48588ee35bce 0 ['9b7f2550-da3c-4d4c-9eb6-f5475227062b', '8e24fc81-925e-4f9f-a072-1bc75c654abe', 'ece54774-ed2c-4729-b217-ea2b3820cfe6', 'beb6c42d-f9e4-4bf9-92fb-8c831c05f67c', 'f192881a-c2c5-4518-a39c-4af8d6bfbb9d', 'e6632546-83b8-4256-9cd0-909d434a0ce1', 'd67ec5e6-ec08-47d0-be82-b0ee4555f9a8', '11476739-1b60-48b2-a54c-e57e96a6146b']\n"
     ]
    }
   ],
   "source": [
    "eventStatus, threatUUID, newSL, serviceSuspended = manager.event.report_threat(equipmentUUID=Smart_TV, Threat_Class='Failed_Hardware_Integrity_Check')\n",
    "print(eventStatus, threatUUID, newSL, serviceSuspended)"
   ]
  },
  {
   "cell_type": "code",
   "execution_count": 255,
   "metadata": {},
   "outputs": [
    {
     "execution_count": 255,
     "name": "stdout",
     "output_type": "stream",
     "text": [
      " Threat UUID:e0b867e1-a7e5-482f-8a40-48588ee35bce, New Security Level: SL-0, Number of active services suspended: 8\n"
     ]
    }
   ],
   "source": [
    "print(f\" Threat UUID:{threatUUID}, New Security Level: SL-{newSL}, Number of active services suspended: {len(serviceSuspended)}\")"
   ]
  },
  {
   "cell_type": "markdown",
   "metadata": {},
   "source": [
    "## Event 100\n",
    "* Event Description: Report a removed threat.\n",
    "* Event Type: Threat Handling - Report a removed threat \n",
    "* Event Response: Please refer to the following code blocks."
   ]
  },
  {
   "cell_type": "code",
   "execution_count": 256,
   "metadata": {},
   "outputs": [
    {
     "execution_count": 256,
     "name": "stdout",
     "output_type": "stream",
     "text": [
      "True 4 0 ['beb6c42d-f9e4-4bf9-92fb-8c831c05f67c', 'f192881a-c2c5-4518-a39c-4af8d6bfbb9d', 'e6632546-83b8-4256-9cd0-909d434a0ce1', 'd67ec5e6-ec08-47d0-be82-b0ee4555f9a8', '11476739-1b60-48b2-a54c-e57e96a6146b', '8e24fc81-925e-4f9f-a072-1bc75c654abe', '9b7f2550-da3c-4d4c-9eb6-f5475227062b', 'ece54774-ed2c-4729-b217-ea2b3820cfe6']\n"
     ]
    }
   ],
   "source": [
    "eventStatus, Env_SecurityLevel, service_to_enable = manager.event.remove_threat(ThreatUUID=threatUUID)\n",
    "print(eventStatus, Env_SecurityLevel, newSL, service_to_enable)"
   ]
  },
  {
   "cell_type": "code",
   "execution_count": 257,
   "metadata": {},
   "outputs": [
    {
     "execution_count": 257,
     "name": "stdout",
     "output_type": "stream",
     "text": [
      "New Security Level: SL-4, Number of services resumed: 8\n"
     ]
    }
   ],
   "source": [
    "print(f\"New Security Level: SL-{Env_SecurityLevel}, Number of services resumed: {len(service_to_enable)}\")"
   ]
  },
  {
   "cell_type": "markdown",
   "metadata": {},
   "source": [
    "## Event 101\n",
    "* Event Description: RFID_Door_Lock reports a threat \"Electromagnetic_Attack\"\n",
    "* Event Type: Threat Handling - Report a new threat\n",
    "* Event Response: Please refer to the following code blocks."
   ]
  },
  {
   "cell_type": "code",
   "execution_count": 258,
   "metadata": {},
   "outputs": [
    {
     "execution_count": 258,
     "name": "stdout",
     "output_type": "stream",
     "text": [
      "True c527fa2f-b358-4f37-9488-c98920c7869a 1 ['9b7f2550-da3c-4d4c-9eb6-f5475227062b', '8e24fc81-925e-4f9f-a072-1bc75c654abe', 'ece54774-ed2c-4729-b217-ea2b3820cfe6', 'beb6c42d-f9e4-4bf9-92fb-8c831c05f67c', 'f192881a-c2c5-4518-a39c-4af8d6bfbb9d', 'e6632546-83b8-4256-9cd0-909d434a0ce1', 'd67ec5e6-ec08-47d0-be82-b0ee4555f9a8', '11476739-1b60-48b2-a54c-e57e96a6146b']\n"
     ]
    }
   ],
   "source": [
    "eventStatus, threatUUID, newSL, serviceSuspended = manager.event.report_threat(equipmentUUID=RFID_Door_Lock, Threat_Class='Electromagnetic_Attack')\n",
    "print(eventStatus, threatUUID, newSL, serviceSuspended)"
   ]
  },
  {
   "cell_type": "code",
   "execution_count": 259,
   "metadata": {},
   "outputs": [
    {
     "execution_count": 259,
     "name": "stdout",
     "output_type": "stream",
     "text": [
      " Threat UUID:c527fa2f-b358-4f37-9488-c98920c7869a, New Security Level: SL-1, Number of active services suspended: 8\n"
     ]
    }
   ],
   "source": [
    "print(f\" Threat UUID:{threatUUID}, New Security Level: SL-{newSL}, Number of active services suspended: {len(serviceSuspended)}\")"
   ]
  },
  {
   "cell_type": "markdown",
   "metadata": {},
   "source": [
    "## Event 116\n",
    "* Event Description: Report a removed threat.\n",
    "* Event Type: Threat Handling - Report a removed threat \n",
    "* Event Response: Please refer to the following code blocks."
   ]
  },
  {
   "cell_type": "code",
   "execution_count": 260,
   "metadata": {},
   "outputs": [
    {
     "execution_count": 260,
     "name": "stdout",
     "output_type": "stream",
     "text": [
      "True 4 1 ['beb6c42d-f9e4-4bf9-92fb-8c831c05f67c', 'f192881a-c2c5-4518-a39c-4af8d6bfbb9d', 'e6632546-83b8-4256-9cd0-909d434a0ce1', 'd67ec5e6-ec08-47d0-be82-b0ee4555f9a8', '11476739-1b60-48b2-a54c-e57e96a6146b', '8e24fc81-925e-4f9f-a072-1bc75c654abe', '9b7f2550-da3c-4d4c-9eb6-f5475227062b', 'ece54774-ed2c-4729-b217-ea2b3820cfe6']\n"
     ]
    }
   ],
   "source": [
    "eventStatus, Env_SecurityLevel, service_to_enable = manager.event.remove_threat(ThreatUUID=threatUUID)\n",
    "print(eventStatus, Env_SecurityLevel, newSL, service_to_enable)"
   ]
  },
  {
   "cell_type": "code",
   "execution_count": 261,
   "metadata": {},
   "outputs": [
    {
     "execution_count": 261,
     "name": "stdout",
     "output_type": "stream",
     "text": [
      "New Security Level: SL-4, Number of services resumed: 8\n"
     ]
    }
   ],
   "source": [
    "print(f\"New Security Level: SL-{Env_SecurityLevel}, Number of services resumed: {len(service_to_enable)}\")"
   ]
  },
  {
   "cell_type": "markdown",
   "metadata": {},
   "source": [
    "## Event 102\n",
    "* Event Description: RFID_Door_Lock reports a threat \"Unexpected_Door_Open\"\n",
    "* Event Type: Threat Handling - Report a new threat\n",
    "* Event Response: Please refer to the following code blocks."
   ]
  },
  {
   "cell_type": "code",
   "execution_count": 262,
   "metadata": {},
   "outputs": [
    {
     "execution_count": 262,
     "name": "stdout",
     "output_type": "stream",
     "text": [
      "True 1a2baf42-6ad5-4ae3-a480-1eff2bd81d4d 0 ['9b7f2550-da3c-4d4c-9eb6-f5475227062b', '8e24fc81-925e-4f9f-a072-1bc75c654abe', 'ece54774-ed2c-4729-b217-ea2b3820cfe6', 'beb6c42d-f9e4-4bf9-92fb-8c831c05f67c', 'f192881a-c2c5-4518-a39c-4af8d6bfbb9d', 'e6632546-83b8-4256-9cd0-909d434a0ce1', 'd67ec5e6-ec08-47d0-be82-b0ee4555f9a8', '11476739-1b60-48b2-a54c-e57e96a6146b']\n"
     ]
    }
   ],
   "source": [
    "eventStatus, threatUUID, newSL, serviceSuspended = manager.event.report_threat(equipmentUUID=RFID_Door_Lock, Threat_Class='Unexpected_Door_Open')\n",
    "print(eventStatus, threatUUID, newSL, serviceSuspended)"
   ]
  },
  {
   "cell_type": "code",
   "execution_count": 263,
   "metadata": {},
   "outputs": [
    {
     "execution_count": 263,
     "name": "stdout",
     "output_type": "stream",
     "text": [
      " Threat UUID:1a2baf42-6ad5-4ae3-a480-1eff2bd81d4d, New Security Level: SL-0, Number of active services suspended: 8\n"
     ]
    }
   ],
   "source": [
    "print(f\" Threat UUID:{threatUUID}, New Security Level: SL-{newSL}, Number of active services suspended: {len(serviceSuspended)}\")"
   ]
  },
  {
   "cell_type": "markdown",
   "metadata": {},
   "source": [
    "## Event 103\n",
    "* Event Description: Report a removed threat.\n",
    "* Event Type: Threat Handling - Report a removed threat \n",
    "* Event Response: Please refer to the following code blocks."
   ]
  },
  {
   "cell_type": "code",
   "execution_count": 264,
   "metadata": {},
   "outputs": [
    {
     "execution_count": 264,
     "name": "stdout",
     "output_type": "stream",
     "text": [
      "True 4 0 ['beb6c42d-f9e4-4bf9-92fb-8c831c05f67c', 'f192881a-c2c5-4518-a39c-4af8d6bfbb9d', 'e6632546-83b8-4256-9cd0-909d434a0ce1', 'd67ec5e6-ec08-47d0-be82-b0ee4555f9a8', '11476739-1b60-48b2-a54c-e57e96a6146b', '8e24fc81-925e-4f9f-a072-1bc75c654abe', '9b7f2550-da3c-4d4c-9eb6-f5475227062b', 'ece54774-ed2c-4729-b217-ea2b3820cfe6']\n"
     ]
    }
   ],
   "source": [
    "eventStatus, Env_SecurityLevel, service_to_enable = manager.event.remove_threat(ThreatUUID=threatUUID)\n",
    "print(eventStatus, Env_SecurityLevel, newSL, service_to_enable)"
   ]
  },
  {
   "cell_type": "code",
   "execution_count": 265,
   "metadata": {},
   "outputs": [
    {
     "execution_count": 265,
     "name": "stdout",
     "output_type": "stream",
     "text": [
      "New Security Level: SL-4, Number of services resumed: 8\n"
     ]
    }
   ],
   "source": [
    "print(f\"New Security Level: SL-{Env_SecurityLevel}, Number of services resumed: {len(service_to_enable)}\")"
   ]
  },
  {
   "cell_type": "markdown",
   "metadata": {},
   "source": [
    "## Event 104\n",
    "* Event Description: RFID_Door_Lock reports a threat \"Failed_Hardware_Integrity\"\n",
    "* Event Type: Threat Handling - Report a new threat\n",
    "* Event Response: Please refer to the following code blocks."
   ]
  },
  {
   "cell_type": "code",
   "execution_count": 266,
   "metadata": {},
   "outputs": [
    {
     "execution_count": 266,
     "name": "stdout",
     "output_type": "stream",
     "text": [
      "True cfaffe3f-874d-4d31-8452-9af1da7066e5 0 ['9b7f2550-da3c-4d4c-9eb6-f5475227062b', '8e24fc81-925e-4f9f-a072-1bc75c654abe', 'ece54774-ed2c-4729-b217-ea2b3820cfe6', 'beb6c42d-f9e4-4bf9-92fb-8c831c05f67c', 'f192881a-c2c5-4518-a39c-4af8d6bfbb9d', 'e6632546-83b8-4256-9cd0-909d434a0ce1', 'd67ec5e6-ec08-47d0-be82-b0ee4555f9a8', '11476739-1b60-48b2-a54c-e57e96a6146b']\n"
     ]
    }
   ],
   "source": [
    "eventStatus, threatUUID, newSL, serviceSuspended = manager.event.report_threat(equipmentUUID=RFID_Door_Lock, Threat_Class='Failed_Hardware_Integrity_Check')\n",
    "print(eventStatus, threatUUID, newSL, serviceSuspended)"
   ]
  },
  {
   "cell_type": "code",
   "execution_count": 267,
   "metadata": {},
   "outputs": [
    {
     "execution_count": 267,
     "name": "stdout",
     "output_type": "stream",
     "text": [
      " Threat UUID:cfaffe3f-874d-4d31-8452-9af1da7066e5, New Security Level: SL-0, Number of active services suspended: 8\n"
     ]
    }
   ],
   "source": [
    "print(f\" Threat UUID:{threatUUID}, New Security Level: SL-{newSL}, Number of active services suspended: {len(serviceSuspended)}\")"
   ]
  },
  {
   "cell_type": "markdown",
   "metadata": {},
   "source": [
    "## Event 105\n",
    "* Event Description: Report a removed threat.\n",
    "* Event Type: Threat Handling - Report a removed threat \n",
    "* Event Response: Please refer to the following code blocks."
   ]
  },
  {
   "cell_type": "code",
   "execution_count": 268,
   "metadata": {},
   "outputs": [
    {
     "execution_count": 268,
     "name": "stdout",
     "output_type": "stream",
     "text": [
      "True 4 0 ['beb6c42d-f9e4-4bf9-92fb-8c831c05f67c', 'f192881a-c2c5-4518-a39c-4af8d6bfbb9d', 'e6632546-83b8-4256-9cd0-909d434a0ce1', 'd67ec5e6-ec08-47d0-be82-b0ee4555f9a8', '11476739-1b60-48b2-a54c-e57e96a6146b', '8e24fc81-925e-4f9f-a072-1bc75c654abe', '9b7f2550-da3c-4d4c-9eb6-f5475227062b', 'ece54774-ed2c-4729-b217-ea2b3820cfe6']\n"
     ]
    }
   ],
   "source": [
    "eventStatus, Env_SecurityLevel, service_to_enable = manager.event.remove_threat(ThreatUUID=threatUUID)\n",
    "print(eventStatus, Env_SecurityLevel, newSL, service_to_enable)"
   ]
  },
  {
   "cell_type": "code",
   "execution_count": 269,
   "metadata": {},
   "outputs": [
    {
     "execution_count": 269,
     "name": "stdout",
     "output_type": "stream",
     "text": [
      "New Security Level: SL-4, Number of services resumed: 8\n"
     ]
    }
   ],
   "source": [
    "print(f\"New Security Level: SL-{Env_SecurityLevel}, Number of services resumed: {len(service_to_enable)}\")"
   ]
  },
  {
   "cell_type": "markdown",
   "metadata": {},
   "source": [
    "## Event 106\n",
    "* Event Description: RFID_Door_Lock reports a threat \"Failed_Hardware_Integrity\"\n",
    "* Event Type: Threat Handling - Report a new threat\n",
    "* Event Response: Please refer to the following code blocks."
   ]
  },
  {
   "cell_type": "code",
   "execution_count": 270,
   "metadata": {},
   "outputs": [
    {
     "execution_count": 270,
     "name": "stdout",
     "output_type": "stream",
     "text": [
      "True cfaffe3f-874d-4d31-8452-9af1da7066e5 0 ['9b7f2550-da3c-4d4c-9eb6-f5475227062b', '8e24fc81-925e-4f9f-a072-1bc75c654abe', 'ece54774-ed2c-4729-b217-ea2b3820cfe6', 'beb6c42d-f9e4-4bf9-92fb-8c831c05f67c', 'f192881a-c2c5-4518-a39c-4af8d6bfbb9d', 'e6632546-83b8-4256-9cd0-909d434a0ce1', 'd67ec5e6-ec08-47d0-be82-b0ee4555f9a8', '11476739-1b60-48b2-a54c-e57e96a6146b']\n"
     ]
    }
   ],
   "source": [
    "eventStatus, threatUUID, newSL, serviceSuspended = manager.event.report_threat(equipmentUUID=RFID_Door_Lock, Threat_Class='Failed_Hardware_Integrity_Check')\n",
    "print(eventStatus, threatUUID, newSL, serviceSuspended)"
   ]
  },
  {
   "cell_type": "code",
   "execution_count": 271,
   "metadata": {},
   "outputs": [
    {
     "execution_count": 271,
     "name": "stdout",
     "output_type": "stream",
     "text": [
      " Threat UUID:cfaffe3f-874d-4d31-8452-9af1da7066e5, New Security Level: SL-0, Number of active services suspended: 8\n"
     ]
    }
   ],
   "source": [
    "print(f\" Threat UUID:{threatUUID}, New Security Level: SL-{newSL}, Number of active services suspended: {len(serviceSuspended)}\")"
   ]
  },
  {
   "cell_type": "markdown",
   "metadata": {},
   "source": [
    "## Event 107\n",
    "* Event Description: Report a removed threat.\n",
    "* Event Type: Threat Handling - Report a removed threat \n",
    "* Event Response: Please refer to the following code blocks."
   ]
  },
  {
   "cell_type": "code",
   "execution_count": 272,
   "metadata": {},
   "outputs": [
    {
     "execution_count": 272,
     "name": "stdout",
     "output_type": "stream",
     "text": [
      "True 4 0 ['beb6c42d-f9e4-4bf9-92fb-8c831c05f67c', 'f192881a-c2c5-4518-a39c-4af8d6bfbb9d', 'e6632546-83b8-4256-9cd0-909d434a0ce1', 'd67ec5e6-ec08-47d0-be82-b0ee4555f9a8', '11476739-1b60-48b2-a54c-e57e96a6146b', '8e24fc81-925e-4f9f-a072-1bc75c654abe', '9b7f2550-da3c-4d4c-9eb6-f5475227062b', 'ece54774-ed2c-4729-b217-ea2b3820cfe6']\n"
     ]
    }
   ],
   "source": [
    "eventStatus, Env_SecurityLevel, service_to_enable = manager.event.remove_threat(ThreatUUID=threatUUID)\n",
    "print(eventStatus, Env_SecurityLevel, newSL, service_to_enable)"
   ]
  },
  {
   "cell_type": "code",
   "execution_count": 273,
   "metadata": {},
   "outputs": [
    {
     "execution_count": 273,
     "name": "stdout",
     "output_type": "stream",
     "text": [
      "New Security Level: SL-4, Number of services resumed: 8\n"
     ]
    }
   ],
   "source": [
    "print(f\"New Security Level: SL-{Env_SecurityLevel}, Number of services resumed: {len(service_to_enable)}\")"
   ]
  },
  {
   "cell_type": "markdown",
   "metadata": {},
   "source": [
    "## Event 108\n",
    "* Event Description: Safe_Box_Lock reports a threat \"Brute_Force_Attack\"\n",
    "* Event Type: Threat Handling - Report a new threat\n",
    "* Event Response: Please refer to the following code blocks."
   ]
  },
  {
   "cell_type": "code",
   "execution_count": 274,
   "metadata": {},
   "outputs": [
    {
     "execution_count": 274,
     "name": "stdout",
     "output_type": "stream",
     "text": [
      "True 17596c9a-ad19-4ca1-aeae-7461d382a4d0 0 ['9b7f2550-da3c-4d4c-9eb6-f5475227062b', '8e24fc81-925e-4f9f-a072-1bc75c654abe', 'ece54774-ed2c-4729-b217-ea2b3820cfe6', 'beb6c42d-f9e4-4bf9-92fb-8c831c05f67c', 'f192881a-c2c5-4518-a39c-4af8d6bfbb9d', 'e6632546-83b8-4256-9cd0-909d434a0ce1', 'd67ec5e6-ec08-47d0-be82-b0ee4555f9a8', '11476739-1b60-48b2-a54c-e57e96a6146b']\n"
     ]
    }
   ],
   "source": [
    "eventStatus, threatUUID, newSL, serviceSuspended = manager.event.report_threat(equipmentUUID=Safe_Box_Lock, Threat_Class='Brute_Force_Attack')\n",
    "print(eventStatus, threatUUID, newSL, serviceSuspended)"
   ]
  },
  {
   "cell_type": "code",
   "execution_count": 275,
   "metadata": {},
   "outputs": [
    {
     "execution_count": 275,
     "name": "stdout",
     "output_type": "stream",
     "text": [
      " Threat UUID:17596c9a-ad19-4ca1-aeae-7461d382a4d0, New Security Level: SL-0, Number of active services suspended: 8\n"
     ]
    }
   ],
   "source": [
    "print(f\" Threat UUID:{threatUUID}, New Security Level: SL-{newSL}, Number of active services suspended: {len(serviceSuspended)}\")"
   ]
  },
  {
   "cell_type": "markdown",
   "metadata": {},
   "source": [
    "## Event 109\n",
    "* Event Description: Report a removed threat.\n",
    "* Event Type: Threat Handling - Report a removed threat \n",
    "* Event Response: Please refer to the following code blocks."
   ]
  },
  {
   "cell_type": "code",
   "execution_count": 276,
   "metadata": {},
   "outputs": [
    {
     "execution_count": 276,
     "name": "stdout",
     "output_type": "stream",
     "text": [
      "True 4 0 ['beb6c42d-f9e4-4bf9-92fb-8c831c05f67c', 'f192881a-c2c5-4518-a39c-4af8d6bfbb9d', 'e6632546-83b8-4256-9cd0-909d434a0ce1', 'd67ec5e6-ec08-47d0-be82-b0ee4555f9a8', '11476739-1b60-48b2-a54c-e57e96a6146b', '8e24fc81-925e-4f9f-a072-1bc75c654abe', '9b7f2550-da3c-4d4c-9eb6-f5475227062b', 'ece54774-ed2c-4729-b217-ea2b3820cfe6']\n"
     ]
    }
   ],
   "source": [
    "eventStatus, Env_SecurityLevel, service_to_enable = manager.event.remove_threat(ThreatUUID=threatUUID)\n",
    "print(eventStatus, Env_SecurityLevel, newSL, service_to_enable)"
   ]
  },
  {
   "cell_type": "code",
   "execution_count": 277,
   "metadata": {},
   "outputs": [
    {
     "execution_count": 277,
     "name": "stdout",
     "output_type": "stream",
     "text": [
      "New Security Level: SL-4, Number of services resumed: 8\n"
     ]
    }
   ],
   "source": [
    "print(f\"New Security Level: SL-{Env_SecurityLevel}, Number of services resumed: {len(service_to_enable)}\")"
   ]
  },
  {
   "cell_type": "markdown",
   "metadata": {},
   "source": [
    "## Event 110\n",
    "* Event Description: Safe_Box_Lock reports a threat \"Unexpected_Door_Open\"\n",
    "* Event Type: Threat Handling - Report a new threat\n",
    "* Event Response: Please refer to the following code blocks."
   ]
  },
  {
   "cell_type": "code",
   "execution_count": 278,
   "metadata": {},
   "outputs": [
    {
     "execution_count": 278,
     "name": "stdout",
     "output_type": "stream",
     "text": [
      "True f9e52940-c340-4c49-b432-e6fcfe0c56f1 0 ['9b7f2550-da3c-4d4c-9eb6-f5475227062b', '8e24fc81-925e-4f9f-a072-1bc75c654abe', 'ece54774-ed2c-4729-b217-ea2b3820cfe6', 'beb6c42d-f9e4-4bf9-92fb-8c831c05f67c', 'f192881a-c2c5-4518-a39c-4af8d6bfbb9d', 'e6632546-83b8-4256-9cd0-909d434a0ce1', 'd67ec5e6-ec08-47d0-be82-b0ee4555f9a8', '11476739-1b60-48b2-a54c-e57e96a6146b']\n"
     ]
    }
   ],
   "source": [
    "eventStatus, threatUUID, newSL, serviceSuspended = manager.event.report_threat(equipmentUUID=Safe_Box_Lock, Threat_Class='Unexpected_Door_Open')\n",
    "print(eventStatus, threatUUID, newSL, serviceSuspended)"
   ]
  },
  {
   "cell_type": "code",
   "execution_count": 279,
   "metadata": {},
   "outputs": [
    {
     "execution_count": 279,
     "name": "stdout",
     "output_type": "stream",
     "text": [
      " Threat UUID:f9e52940-c340-4c49-b432-e6fcfe0c56f1, New Security Level: SL-0, Number of active services suspended: 8\n"
     ]
    }
   ],
   "source": [
    "print(f\" Threat UUID:{threatUUID}, New Security Level: SL-{newSL}, Number of active services suspended: {len(serviceSuspended)}\")"
   ]
  },
  {
   "cell_type": "markdown",
   "metadata": {},
   "source": [
    "## Event 111\n",
    "* Event Description: Report a removed threat.\n",
    "* Event Type: Threat Handling - Report a removed threat \n",
    "* Event Response: Please refer to the following code blocks."
   ]
  },
  {
   "cell_type": "code",
   "execution_count": 280,
   "metadata": {},
   "outputs": [
    {
     "execution_count": 280,
     "name": "stdout",
     "output_type": "stream",
     "text": [
      "True 4 0 ['beb6c42d-f9e4-4bf9-92fb-8c831c05f67c', 'f192881a-c2c5-4518-a39c-4af8d6bfbb9d', 'e6632546-83b8-4256-9cd0-909d434a0ce1', 'd67ec5e6-ec08-47d0-be82-b0ee4555f9a8', '11476739-1b60-48b2-a54c-e57e96a6146b', '8e24fc81-925e-4f9f-a072-1bc75c654abe', '9b7f2550-da3c-4d4c-9eb6-f5475227062b', 'ece54774-ed2c-4729-b217-ea2b3820cfe6']\n"
     ]
    }
   ],
   "source": [
    "eventStatus, Env_SecurityLevel, service_to_enable = manager.event.remove_threat(ThreatUUID=threatUUID)\n",
    "print(eventStatus, Env_SecurityLevel, newSL, service_to_enable)"
   ]
  },
  {
   "cell_type": "code",
   "execution_count": 281,
   "metadata": {},
   "outputs": [
    {
     "execution_count": 281,
     "name": "stdout",
     "output_type": "stream",
     "text": [
      "New Security Level: SL-4, Number of services resumed: 8\n"
     ]
    }
   ],
   "source": [
    "print(f\"New Security Level: SL-{Env_SecurityLevel}, Number of services resumed: {len(service_to_enable)}\")"
   ]
  },
  {
   "cell_type": "markdown",
   "metadata": {},
   "source": [
    "## Event 112\n",
    "* Event Description: Safe_Box_Lock reports a threat \"Failed_Hardware_Integrity_Check\"\n",
    "* Event Type: Threat Handling - Report a new threat\n",
    "* Event Response: Please refer to the following code blocks."
   ]
  },
  {
   "cell_type": "code",
   "execution_count": 282,
   "metadata": {},
   "outputs": [
    {
     "execution_count": 282,
     "name": "stdout",
     "output_type": "stream",
     "text": [
      "True b96a3b61-48b7-437e-89c7-80fc14a1b120 0 ['9b7f2550-da3c-4d4c-9eb6-f5475227062b', '8e24fc81-925e-4f9f-a072-1bc75c654abe', 'ece54774-ed2c-4729-b217-ea2b3820cfe6', 'beb6c42d-f9e4-4bf9-92fb-8c831c05f67c', 'f192881a-c2c5-4518-a39c-4af8d6bfbb9d', 'e6632546-83b8-4256-9cd0-909d434a0ce1', 'd67ec5e6-ec08-47d0-be82-b0ee4555f9a8', '11476739-1b60-48b2-a54c-e57e96a6146b']\n"
     ]
    }
   ],
   "source": [
    "eventStatus, threatUUID, newSL, serviceSuspended = manager.event.report_threat(equipmentUUID=Safe_Box_Lock, Threat_Class='Unexpected_Door_Open')\n",
    "print(eventStatus, threatUUID, newSL, serviceSuspended)"
   ]
  },
  {
   "cell_type": "code",
   "execution_count": 283,
   "metadata": {},
   "outputs": [
    {
     "execution_count": 283,
     "name": "stdout",
     "output_type": "stream",
     "text": [
      " Threat UUID:b96a3b61-48b7-437e-89c7-80fc14a1b120, New Security Level: SL-0, Number of active services suspended: 8\n"
     ]
    }
   ],
   "source": [
    "print(f\" Threat UUID:{threatUUID}, New Security Level: SL-{newSL}, Number of active services suspended: {len(serviceSuspended)}\")"
   ]
  },
  {
   "cell_type": "markdown",
   "metadata": {},
   "source": [
    "## Event 113\n",
    "* Event Description: Report a removed threat.\n",
    "* Event Type: Threat Handling - Report a removed threat \n",
    "* Event Response: Please refer to the following code blocks."
   ]
  },
  {
   "cell_type": "code",
   "execution_count": 284,
   "metadata": {},
   "outputs": [
    {
     "execution_count": 284,
     "name": "stdout",
     "output_type": "stream",
     "text": [
      "True 4 0 ['beb6c42d-f9e4-4bf9-92fb-8c831c05f67c', 'f192881a-c2c5-4518-a39c-4af8d6bfbb9d', 'e6632546-83b8-4256-9cd0-909d434a0ce1', 'd67ec5e6-ec08-47d0-be82-b0ee4555f9a8', '11476739-1b60-48b2-a54c-e57e96a6146b', '8e24fc81-925e-4f9f-a072-1bc75c654abe', '9b7f2550-da3c-4d4c-9eb6-f5475227062b', 'ece54774-ed2c-4729-b217-ea2b3820cfe6']\n"
     ]
    }
   ],
   "source": [
    "eventStatus, Env_SecurityLevel, service_to_enable = manager.event.remove_threat(ThreatUUID=threatUUID)\n",
    "print(eventStatus, Env_SecurityLevel, newSL, service_to_enable)"
   ]
  },
  {
   "cell_type": "code",
   "execution_count": 285,
   "metadata": {},
   "outputs": [
    {
     "execution_count": 285,
     "name": "stdout",
     "output_type": "stream",
     "text": [
      "New Security Level: SL-4, Number of services resumed: 8\n"
     ]
    }
   ],
   "source": [
    "print(f\"New Security Level: SL-{Env_SecurityLevel}, Number of services resumed: {len(service_to_enable)}\")"
   ]
  },
  {
   "cell_type": "markdown",
   "metadata": {},
   "source": [
    "## Event 114\n",
    "* Event Description: Smart_Card_Reader reports a threat \"Electromagnetic_Attack\"\n",
    "* Event Type: Threat Handling - Report a new threat\n",
    "* Event Response: Please refer to the following code blocks."
   ]
  },
  {
   "cell_type": "code",
   "execution_count": 286,
   "metadata": {},
   "outputs": [
    {
     "execution_count": 286,
     "name": "stdout",
     "output_type": "stream",
     "text": [
      "True 0cb1b03b-2229-47e8-8641-b265b7e13938 1 ['9b7f2550-da3c-4d4c-9eb6-f5475227062b', '8e24fc81-925e-4f9f-a072-1bc75c654abe', 'ece54774-ed2c-4729-b217-ea2b3820cfe6', 'beb6c42d-f9e4-4bf9-92fb-8c831c05f67c', 'f192881a-c2c5-4518-a39c-4af8d6bfbb9d', 'e6632546-83b8-4256-9cd0-909d434a0ce1', 'd67ec5e6-ec08-47d0-be82-b0ee4555f9a8', '11476739-1b60-48b2-a54c-e57e96a6146b']\n"
     ]
    }
   ],
   "source": [
    "eventStatus, threatUUID, newSL, serviceSuspended = manager.event.report_threat(equipmentUUID=Smart_Card_Reader, Threat_Class='Electromagnetic_Attack')\n",
    "print(eventStatus, threatUUID, newSL, serviceSuspended)"
   ]
  },
  {
   "cell_type": "code",
   "execution_count": 287,
   "metadata": {},
   "outputs": [
    {
     "execution_count": 287,
     "name": "stdout",
     "output_type": "stream",
     "text": [
      " Threat UUID:0cb1b03b-2229-47e8-8641-b265b7e13938, New Security Level: SL-1, Number of active services suspended: 8\n"
     ]
    }
   ],
   "source": [
    "print(f\" Threat UUID:{threatUUID}, New Security Level: SL-{newSL}, Number of active services suspended: {len(serviceSuspended)}\")"
   ]
  },
  {
   "cell_type": "markdown",
   "metadata": {},
   "source": [
    "## Event 115\n",
    "* Event Description: Report a removed threat.\n",
    "* Event Type: Threat Handling - Report a removed threat \n",
    "* Event Response: Please refer to the following code blocks."
   ]
  },
  {
   "cell_type": "code",
   "execution_count": 288,
   "metadata": {},
   "outputs": [
    {
     "execution_count": 288,
     "name": "stdout",
     "output_type": "stream",
     "text": [
      "True 4 1 ['beb6c42d-f9e4-4bf9-92fb-8c831c05f67c', 'f192881a-c2c5-4518-a39c-4af8d6bfbb9d', 'e6632546-83b8-4256-9cd0-909d434a0ce1', 'd67ec5e6-ec08-47d0-be82-b0ee4555f9a8', '11476739-1b60-48b2-a54c-e57e96a6146b', '8e24fc81-925e-4f9f-a072-1bc75c654abe', '9b7f2550-da3c-4d4c-9eb6-f5475227062b', 'ece54774-ed2c-4729-b217-ea2b3820cfe6']\n"
     ]
    }
   ],
   "source": [
    "eventStatus, Env_SecurityLevel, service_to_enable = manager.event.remove_threat(ThreatUUID=threatUUID)\n",
    "print(eventStatus, Env_SecurityLevel, newSL, service_to_enable)"
   ]
  },
  {
   "cell_type": "code",
   "execution_count": 289,
   "metadata": {},
   "outputs": [
    {
     "execution_count": 289,
     "name": "stdout",
     "output_type": "stream",
     "text": [
      "New Security Level: SL-4, Number of services resumed: 8\n"
     ]
    }
   ],
   "source": [
    "print(f\"New Security Level: SL-{Env_SecurityLevel}, Number of services resumed: {len(service_to_enable)}\")"
   ]
  },
  {
   "cell_type": "markdown",
   "metadata": {},
   "source": [
    "## Event 116\n",
    "* Event Description: Smart_Card_Reader reports a threat \"Unexpected_Window_Open\"\n",
    "* Event Type: Threat Handling - Report a new threat\n",
    "* Event Response: Please refer to the following code blocks."
   ]
  },
  {
   "cell_type": "code",
   "execution_count": 290,
   "metadata": {},
   "outputs": [
    {
     "execution_count": 290,
     "name": "stdout",
     "output_type": "stream",
     "text": [
      "True 9cc3e240-d500-4296-9960-f0d093716eb6 0 ['9b7f2550-da3c-4d4c-9eb6-f5475227062b', '8e24fc81-925e-4f9f-a072-1bc75c654abe', 'ece54774-ed2c-4729-b217-ea2b3820cfe6', 'beb6c42d-f9e4-4bf9-92fb-8c831c05f67c', 'f192881a-c2c5-4518-a39c-4af8d6bfbb9d', 'e6632546-83b8-4256-9cd0-909d434a0ce1', 'd67ec5e6-ec08-47d0-be82-b0ee4555f9a8', '11476739-1b60-48b2-a54c-e57e96a6146b']\n"
     ]
    }
   ],
   "source": [
    "eventStatus, threatUUID, newSL, serviceSuspended = manager.event.report_threat(equipmentUUID=Smart_Card_Reader, Threat_Class='Unexpected_Window_Open')\n",
    "print(eventStatus, threatUUID, newSL, serviceSuspended)"
   ]
  },
  {
   "cell_type": "code",
   "execution_count": 291,
   "metadata": {},
   "outputs": [
    {
     "execution_count": 291,
     "name": "stdout",
     "output_type": "stream",
     "text": [
      " Threat UUID:9cc3e240-d500-4296-9960-f0d093716eb6, New Security Level: SL-0, Number of active services suspended: 8\n"
     ]
    }
   ],
   "source": [
    "print(f\" Threat UUID:{threatUUID}, New Security Level: SL-{newSL}, Number of active services suspended: {len(serviceSuspended)}\")"
   ]
  },
  {
   "cell_type": "markdown",
   "metadata": {},
   "source": [
    "## Event 117\n",
    "* Event Description: Report a removed threat.\n",
    "* Event Type: Threat Handling - Report a removed threat \n",
    "* Event Response: Please refer to the following code blocks."
   ]
  },
  {
   "cell_type": "code",
   "execution_count": 292,
   "metadata": {},
   "outputs": [
    {
     "execution_count": 292,
     "name": "stdout",
     "output_type": "stream",
     "text": [
      "True 4 0 ['beb6c42d-f9e4-4bf9-92fb-8c831c05f67c', 'f192881a-c2c5-4518-a39c-4af8d6bfbb9d', 'e6632546-83b8-4256-9cd0-909d434a0ce1', 'd67ec5e6-ec08-47d0-be82-b0ee4555f9a8', '11476739-1b60-48b2-a54c-e57e96a6146b', '8e24fc81-925e-4f9f-a072-1bc75c654abe', '9b7f2550-da3c-4d4c-9eb6-f5475227062b', 'ece54774-ed2c-4729-b217-ea2b3820cfe6']\n"
     ]
    }
   ],
   "source": [
    "eventStatus, Env_SecurityLevel, service_to_enable = manager.event.remove_threat(ThreatUUID=threatUUID)\n",
    "print(eventStatus, Env_SecurityLevel, newSL, service_to_enable)"
   ]
  },
  {
   "cell_type": "code",
   "execution_count": 293,
   "metadata": {},
   "outputs": [
    {
     "execution_count": 293,
     "name": "stdout",
     "output_type": "stream",
     "text": [
      "New Security Level: SL-4, Number of services resumed: 8\n"
     ]
    }
   ],
   "source": [
    "print(f\"New Security Level: SL-{Env_SecurityLevel}, Number of services resumed: {len(service_to_enable)}\")"
   ]
  },
  {
   "cell_type": "markdown",
   "metadata": {},
   "source": [
    "## Event 118\n",
    "* Event Description: Smart_Card_Reader reports a threat \"Failed_Hardware_Integrity_Check\"\n",
    "* Event Type: Threat Handling - Report a new threat\n",
    "* Event Response: Please refer to the following code blocks."
   ]
  },
  {
   "cell_type": "code",
   "execution_count": 294,
   "metadata": {},
   "outputs": [
    {
     "execution_count": 294,
     "name": "stdout",
     "output_type": "stream",
     "text": [
      "True 938e7195-fdf7-4ab2-9b32-b73efe3c1d80 0 ['9b7f2550-da3c-4d4c-9eb6-f5475227062b', '8e24fc81-925e-4f9f-a072-1bc75c654abe', 'ece54774-ed2c-4729-b217-ea2b3820cfe6', 'beb6c42d-f9e4-4bf9-92fb-8c831c05f67c', 'f192881a-c2c5-4518-a39c-4af8d6bfbb9d', 'e6632546-83b8-4256-9cd0-909d434a0ce1', 'd67ec5e6-ec08-47d0-be82-b0ee4555f9a8', '11476739-1b60-48b2-a54c-e57e96a6146b']\n"
     ]
    }
   ],
   "source": [
    "eventStatus, threatUUID, newSL, serviceSuspended = manager.event.report_threat(equipmentUUID=Smart_Card_Reader, Threat_Class='Unexpected_Window_Open')\n",
    "print(eventStatus, threatUUID, newSL, serviceSuspended)"
   ]
  },
  {
   "cell_type": "code",
   "execution_count": 295,
   "metadata": {},
   "outputs": [
    {
     "execution_count": 295,
     "name": "stdout",
     "output_type": "stream",
     "text": [
      " Threat UUID:938e7195-fdf7-4ab2-9b32-b73efe3c1d80, New Security Level: SL-0, Number of active services suspended: 8\n"
     ]
    }
   ],
   "source": [
    "print(f\" Threat UUID:{threatUUID}, New Security Level: SL-{newSL}, Number of active services suspended: {len(serviceSuspended)}\")"
   ]
  },
  {
   "cell_type": "markdown",
   "metadata": {},
   "source": [
    "## Event 119\n",
    "* Event Description: Report a removed threat.\n",
    "* Event Type: Threat Handling - Report a removed threat \n",
    "* Event Response: Please refer to the following code blocks."
   ]
  },
  {
   "cell_type": "code",
   "execution_count": 296,
   "metadata": {},
   "outputs": [
    {
     "execution_count": 296,
     "name": "stdout",
     "output_type": "stream",
     "text": [
      "True 4 0 ['beb6c42d-f9e4-4bf9-92fb-8c831c05f67c', 'f192881a-c2c5-4518-a39c-4af8d6bfbb9d', 'e6632546-83b8-4256-9cd0-909d434a0ce1', 'd67ec5e6-ec08-47d0-be82-b0ee4555f9a8', '11476739-1b60-48b2-a54c-e57e96a6146b', '8e24fc81-925e-4f9f-a072-1bc75c654abe', '9b7f2550-da3c-4d4c-9eb6-f5475227062b', 'ece54774-ed2c-4729-b217-ea2b3820cfe6']\n"
     ]
    }
   ],
   "source": [
    "eventStatus, Env_SecurityLevel, service_to_enable = manager.event.remove_threat(ThreatUUID=threatUUID)\n",
    "print(eventStatus, Env_SecurityLevel, newSL, service_to_enable)"
   ]
  },
  {
   "cell_type": "code",
   "execution_count": 297,
   "metadata": {},
   "outputs": [
    {
     "execution_count": 297,
     "name": "stdout",
     "output_type": "stream",
     "text": [
      "New Security Level: SL-4, Number of services resumed: 8\n"
     ]
    }
   ],
   "source": [
    "print(f\"New Security Level: SL-{Env_SecurityLevel}, Number of services resumed: {len(service_to_enable)}\")"
   ]
  },
  {
   "cell_type": "markdown",
   "metadata": {},
   "source": [
    "## Event 120\n",
    "* Event Description: Smart_Door_Lock reports a threat \"Simple_Password\"\n",
    "* Event Type: Threat Handling - Report a new threat\n",
    "* Event Response: Please refer to the following code blocks."
   ]
  },
  {
   "cell_type": "code",
   "execution_count": 298,
   "metadata": {},
   "outputs": [
    {
     "execution_count": 298,
     "name": "stdout",
     "output_type": "stream",
     "text": [
      "True ac7ff722-4233-41cd-bbf3-a77f3a10df03 2 ['8e24fc81-925e-4f9f-a072-1bc75c654abe', 'beb6c42d-f9e4-4bf9-92fb-8c831c05f67c', 'e6632546-83b8-4256-9cd0-909d434a0ce1', '11476739-1b60-48b2-a54c-e57e96a6146b']\n"
     ]
    }
   ],
   "source": [
    "eventStatus, threatUUID, newSL, serviceSuspended = manager.event.report_threat(equipmentUUID=Smart_Door_Lock, Threat_Class='Simple_Password')\n",
    "print(eventStatus, threatUUID, newSL, serviceSuspended)"
   ]
  },
  {
   "cell_type": "code",
   "execution_count": 299,
   "metadata": {},
   "outputs": [
    {
     "execution_count": 299,
     "name": "stdout",
     "output_type": "stream",
     "text": [
      " Threat UUID:ac7ff722-4233-41cd-bbf3-a77f3a10df03, New Security Level: SL-2, Number of active services suspended: 4\n"
     ]
    }
   ],
   "source": [
    "print(f\" Threat UUID:{threatUUID}, New Security Level: SL-{newSL}, Number of active services suspended: {len(serviceSuspended)}\")"
   ]
  },
  {
   "cell_type": "markdown",
   "metadata": {},
   "source": [
    "## Event 121\n",
    "* Event Description: Report a removed threat.\n",
    "* Event Type: Threat Handling - Report a removed threat \n",
    "* Event Response: Please refer to the following code blocks."
   ]
  },
  {
   "cell_type": "code",
   "execution_count": 300,
   "metadata": {},
   "outputs": [
    {
     "execution_count": 300,
     "name": "stdout",
     "output_type": "stream",
     "text": [
      "True 4 2 ['beb6c42d-f9e4-4bf9-92fb-8c831c05f67c', 'e6632546-83b8-4256-9cd0-909d434a0ce1', '8e24fc81-925e-4f9f-a072-1bc75c654abe', '11476739-1b60-48b2-a54c-e57e96a6146b']\n"
     ]
    }
   ],
   "source": [
    "eventStatus, Env_SecurityLevel, service_to_enable = manager.event.remove_threat(ThreatUUID=threatUUID)\n",
    "print(eventStatus, Env_SecurityLevel, newSL, service_to_enable)"
   ]
  },
  {
   "cell_type": "code",
   "execution_count": 301,
   "metadata": {},
   "outputs": [
    {
     "execution_count": 301,
     "name": "stdout",
     "output_type": "stream",
     "text": [
      "New Security Level: SL-4, Number of services resumed: 4\n"
     ]
    }
   ],
   "source": [
    "print(f\"New Security Level: SL-{Env_SecurityLevel}, Number of services resumed: {len(service_to_enable)}\")"
   ]
  },
  {
   "cell_type": "markdown",
   "metadata": {},
   "source": [
    "## Event 122\n",
    "* Event Description: Smart_Door_Lock reports a threat \"Unexpected_Door_Open\"\n",
    "* Event Type: Threat Handling - Report a new threat\n",
    "* Event Response: Please refer to the following code blocks."
   ]
  },
  {
   "cell_type": "code",
   "execution_count": 302,
   "metadata": {},
   "outputs": [
    {
     "execution_count": 302,
     "name": "stdout",
     "output_type": "stream",
     "text": [
      "True 0b92d482-49ab-4b15-9445-c720d1b9e023 0 ['9b7f2550-da3c-4d4c-9eb6-f5475227062b', '8e24fc81-925e-4f9f-a072-1bc75c654abe', 'ece54774-ed2c-4729-b217-ea2b3820cfe6', 'beb6c42d-f9e4-4bf9-92fb-8c831c05f67c', 'f192881a-c2c5-4518-a39c-4af8d6bfbb9d', 'e6632546-83b8-4256-9cd0-909d434a0ce1', 'd67ec5e6-ec08-47d0-be82-b0ee4555f9a8', '11476739-1b60-48b2-a54c-e57e96a6146b']\n"
     ]
    }
   ],
   "source": [
    "eventStatus, threatUUID, newSL, serviceSuspended = manager.event.report_threat(equipmentUUID=Smart_Door_Lock, Threat_Class='Unexpected_Door_Open')\n",
    "print(eventStatus, threatUUID, newSL, serviceSuspended)"
   ]
  },
  {
   "cell_type": "code",
   "execution_count": 303,
   "metadata": {},
   "outputs": [
    {
     "execution_count": 303,
     "name": "stdout",
     "output_type": "stream",
     "text": [
      " Threat UUID:0b92d482-49ab-4b15-9445-c720d1b9e023, New Security Level: SL-0, Number of active services suspended: 8\n"
     ]
    }
   ],
   "source": [
    "print(f\" Threat UUID:{threatUUID}, New Security Level: SL-{newSL}, Number of active services suspended: {len(serviceSuspended)}\")"
   ]
  },
  {
   "cell_type": "markdown",
   "metadata": {},
   "source": [
    "## Event 123\n",
    "* Event Description: Report a removed threat.\n",
    "* Event Type: Threat Handling - Report a removed threat \n",
    "* Event Response: Please refer to the following code blocks."
   ]
  },
  {
   "cell_type": "code",
   "execution_count": 304,
   "metadata": {},
   "outputs": [
    {
     "execution_count": 304,
     "name": "stdout",
     "output_type": "stream",
     "text": [
      "True 4 0 ['beb6c42d-f9e4-4bf9-92fb-8c831c05f67c', 'f192881a-c2c5-4518-a39c-4af8d6bfbb9d', 'e6632546-83b8-4256-9cd0-909d434a0ce1', 'd67ec5e6-ec08-47d0-be82-b0ee4555f9a8', '11476739-1b60-48b2-a54c-e57e96a6146b', '8e24fc81-925e-4f9f-a072-1bc75c654abe', '9b7f2550-da3c-4d4c-9eb6-f5475227062b', 'ece54774-ed2c-4729-b217-ea2b3820cfe6']\n"
     ]
    }
   ],
   "source": [
    "eventStatus, Env_SecurityLevel, service_to_enable = manager.event.remove_threat(ThreatUUID=threatUUID)\n",
    "print(eventStatus, Env_SecurityLevel, newSL, service_to_enable)"
   ]
  },
  {
   "cell_type": "code",
   "execution_count": 305,
   "metadata": {},
   "outputs": [
    {
     "execution_count": 305,
     "name": "stdout",
     "output_type": "stream",
     "text": [
      "New Security Level: SL-4, Number of services resumed: 8\n"
     ]
    }
   ],
   "source": [
    "print(f\"New Security Level: SL-{Env_SecurityLevel}, Number of services resumed: {len(service_to_enable)}\")"
   ]
  },
  {
   "cell_type": "markdown",
   "metadata": {},
   "source": [
    "## Event 124\n",
    "* Event Description: Smart_Door_Lock reports a threat \"Failed_Hardware_Integrity_Check\"\n",
    "* Event Type: Threat Handling - Report a new threat\n",
    "* Event Response: Please refer to the following code blocks."
   ]
  },
  {
   "cell_type": "code",
   "execution_count": 306,
   "metadata": {},
   "outputs": [
    {
     "execution_count": 306,
     "name": "stdout",
     "output_type": "stream",
     "text": [
      "True 1f42dfa6-941f-4c28-b978-29c6b51911ac 0 ['9b7f2550-da3c-4d4c-9eb6-f5475227062b', '8e24fc81-925e-4f9f-a072-1bc75c654abe', 'ece54774-ed2c-4729-b217-ea2b3820cfe6', 'beb6c42d-f9e4-4bf9-92fb-8c831c05f67c', 'f192881a-c2c5-4518-a39c-4af8d6bfbb9d', 'e6632546-83b8-4256-9cd0-909d434a0ce1', 'd67ec5e6-ec08-47d0-be82-b0ee4555f9a8', '11476739-1b60-48b2-a54c-e57e96a6146b']\n"
     ]
    }
   ],
   "source": [
    "eventStatus, threatUUID, newSL, serviceSuspended = manager.event.report_threat(equipmentUUID=Smart_Door_Lock, Threat_Class='Failed_Hardware_Integrity_Check')\n",
    "print(eventStatus, threatUUID, newSL, serviceSuspended)"
   ]
  },
  {
   "cell_type": "code",
   "execution_count": 307,
   "metadata": {},
   "outputs": [
    {
     "execution_count": 307,
     "name": "stdout",
     "output_type": "stream",
     "text": [
      " Threat UUID:1f42dfa6-941f-4c28-b978-29c6b51911ac, New Security Level: SL-0, Number of active services suspended: 8\n"
     ]
    }
   ],
   "source": [
    "print(f\" Threat UUID:{threatUUID}, New Security Level: SL-{newSL}, Number of active services suspended: {len(serviceSuspended)}\")"
   ]
  },
  {
   "cell_type": "markdown",
   "metadata": {},
   "source": [
    "## Event 125\n",
    "* Event Description: Report a removed threat.\n",
    "* Event Type: Threat Handling - Report a removed threat \n",
    "* Event Response: Please refer to the following code blocks."
   ]
  },
  {
   "cell_type": "code",
   "execution_count": 308,
   "metadata": {},
   "outputs": [
    {
     "execution_count": 308,
     "name": "stdout",
     "output_type": "stream",
     "text": [
      "True 4 0 ['beb6c42d-f9e4-4bf9-92fb-8c831c05f67c', 'f192881a-c2c5-4518-a39c-4af8d6bfbb9d', 'e6632546-83b8-4256-9cd0-909d434a0ce1', 'd67ec5e6-ec08-47d0-be82-b0ee4555f9a8', '11476739-1b60-48b2-a54c-e57e96a6146b', '8e24fc81-925e-4f9f-a072-1bc75c654abe', '9b7f2550-da3c-4d4c-9eb6-f5475227062b', 'ece54774-ed2c-4729-b217-ea2b3820cfe6']\n"
     ]
    }
   ],
   "source": [
    "eventStatus, Env_SecurityLevel, service_to_enable = manager.event.remove_threat(ThreatUUID=threatUUID)\n",
    "print(eventStatus, Env_SecurityLevel, newSL, service_to_enable)"
   ]
  },
  {
   "cell_type": "code",
   "execution_count": 309,
   "metadata": {},
   "outputs": [
    {
     "execution_count": 309,
     "name": "stdout",
     "output_type": "stream",
     "text": [
      "New Security Level: SL-4, Number of services resumed: 8\n"
     ]
    }
   ],
   "source": [
    "print(f\"New Security Level: SL-{Env_SecurityLevel}, Number of services resumed: {len(service_to_enable)}\")"
   ]
  },
  {
   "cell_type": "markdown",
   "metadata": {},
   "source": [
    "## Event 126\n",
    "* Event Description: Smart_Key_Lock reports a threat \"Brute_Force_Attack\"\n",
    "* Event Type: Threat Handling - Report a new threat\n",
    "* Event Response: Please refer to the following code blocks."
   ]
  },
  {
   "cell_type": "code",
   "execution_count": 310,
   "metadata": {},
   "outputs": [
    {
     "execution_count": 310,
     "name": "stdout",
     "output_type": "stream",
     "text": [
      "True 85fbb92d-9c2e-4efe-a4d4-8c44b9682c17 2 ['8e24fc81-925e-4f9f-a072-1bc75c654abe', 'beb6c42d-f9e4-4bf9-92fb-8c831c05f67c', 'e6632546-83b8-4256-9cd0-909d434a0ce1', '11476739-1b60-48b2-a54c-e57e96a6146b']\n"
     ]
    }
   ],
   "source": [
    "eventStatus, threatUUID, newSL, serviceSuspended = manager.event.report_threat(equipmentUUID=Smart_Key_Lock, Threat_Class='Brute_Force_Attack')\n",
    "print(eventStatus, threatUUID, newSL, serviceSuspended)"
   ]
  },
  {
   "cell_type": "code",
   "execution_count": 311,
   "metadata": {},
   "outputs": [
    {
     "execution_count": 311,
     "name": "stdout",
     "output_type": "stream",
     "text": [
      " Threat UUID:85fbb92d-9c2e-4efe-a4d4-8c44b9682c17, New Security Level: SL-2, Number of active services suspended: 4\n"
     ]
    }
   ],
   "source": [
    "print(f\" Threat UUID:{threatUUID}, New Security Level: SL-{newSL}, Number of active services suspended: {len(serviceSuspended)}\")"
   ]
  },
  {
   "cell_type": "markdown",
   "metadata": {},
   "source": [
    "## Event 127\n",
    "* Event Description: Report a removed threat.\n",
    "* Event Type: Threat Handling - Report a removed threat \n",
    "* Event Response: Please refer to the following code blocks."
   ]
  },
  {
   "cell_type": "code",
   "execution_count": 312,
   "metadata": {},
   "outputs": [
    {
     "execution_count": 312,
     "name": "stdout",
     "output_type": "stream",
     "text": [
      "True 4 2 ['beb6c42d-f9e4-4bf9-92fb-8c831c05f67c', 'e6632546-83b8-4256-9cd0-909d434a0ce1', '8e24fc81-925e-4f9f-a072-1bc75c654abe', '11476739-1b60-48b2-a54c-e57e96a6146b']\n"
     ]
    }
   ],
   "source": [
    "eventStatus, Env_SecurityLevel, service_to_enable = manager.event.remove_threat(ThreatUUID=threatUUID)\n",
    "print(eventStatus, Env_SecurityLevel, newSL, service_to_enable)"
   ]
  },
  {
   "cell_type": "code",
   "execution_count": 313,
   "metadata": {},
   "outputs": [
    {
     "execution_count": 313,
     "name": "stdout",
     "output_type": "stream",
     "text": [
      "New Security Level: SL-4, Number of services resumed: 4\n"
     ]
    }
   ],
   "source": [
    "print(f\"New Security Level: SL-{Env_SecurityLevel}, Number of services resumed: {len(service_to_enable)}\")"
   ]
  },
  {
   "cell_type": "markdown",
   "metadata": {},
   "source": [
    "## Event 128\n",
    "* Event Description: Asset_Tracker reports a threat \"Missing_Asset\"\n",
    "* Event Type: Threat Handling - Report a new threat\n",
    "* Event Response: Please refer to the following code blocks."
   ]
  },
  {
   "cell_type": "code",
   "execution_count": 314,
   "metadata": {},
   "outputs": [
    {
     "execution_count": 314,
     "name": "stdout",
     "output_type": "stream",
     "text": [
      "True 4db1187b-561a-4ec8-9e6b-727e1533cbbe 0 ['9b7f2550-da3c-4d4c-9eb6-f5475227062b', '8e24fc81-925e-4f9f-a072-1bc75c654abe', 'ece54774-ed2c-4729-b217-ea2b3820cfe6', 'beb6c42d-f9e4-4bf9-92fb-8c831c05f67c', 'f192881a-c2c5-4518-a39c-4af8d6bfbb9d', 'e6632546-83b8-4256-9cd0-909d434a0ce1', 'd67ec5e6-ec08-47d0-be82-b0ee4555f9a8', '11476739-1b60-48b2-a54c-e57e96a6146b']\n"
     ]
    }
   ],
   "source": [
    "eventStatus, threatUUID, newSL, serviceSuspended = manager.event.report_threat(equipmentUUID=Asset_Tracker, Threat_Class='Missing_Asset')\n",
    "print(eventStatus, threatUUID, newSL, serviceSuspended)"
   ]
  },
  {
   "cell_type": "code",
   "execution_count": 315,
   "metadata": {},
   "outputs": [
    {
     "execution_count": 315,
     "name": "stdout",
     "output_type": "stream",
     "text": [
      " Threat UUID:4db1187b-561a-4ec8-9e6b-727e1533cbbe, New Security Level: SL-0, Number of active services suspended: 8\n"
     ]
    }
   ],
   "source": [
    "print(f\" Threat UUID:{threatUUID}, New Security Level: SL-{newSL}, Number of active services suspended: {len(serviceSuspended)}\")"
   ]
  },
  {
   "cell_type": "markdown",
   "metadata": {},
   "source": [
    "## Event 129\n",
    "* Event Description: Report a removed threat.\n",
    "* Event Type: Threat Handling - Report a removed threat \n",
    "* Event Response: Please refer to the following code blocks."
   ]
  },
  {
   "cell_type": "code",
   "execution_count": 316,
   "metadata": {},
   "outputs": [
    {
     "execution_count": 316,
     "name": "stdout",
     "output_type": "stream",
     "text": [
      "True 4 0 ['beb6c42d-f9e4-4bf9-92fb-8c831c05f67c', 'f192881a-c2c5-4518-a39c-4af8d6bfbb9d', 'e6632546-83b8-4256-9cd0-909d434a0ce1', 'd67ec5e6-ec08-47d0-be82-b0ee4555f9a8', '11476739-1b60-48b2-a54c-e57e96a6146b', '8e24fc81-925e-4f9f-a072-1bc75c654abe', '9b7f2550-da3c-4d4c-9eb6-f5475227062b', 'ece54774-ed2c-4729-b217-ea2b3820cfe6']\n"
     ]
    }
   ],
   "source": [
    "eventStatus, Env_SecurityLevel, service_to_enable = manager.event.remove_threat(ThreatUUID=threatUUID)\n",
    "print(eventStatus, Env_SecurityLevel, newSL, service_to_enable)"
   ]
  },
  {
   "cell_type": "code",
   "execution_count": 317,
   "metadata": {},
   "outputs": [
    {
     "execution_count": 317,
     "name": "stdout",
     "output_type": "stream",
     "text": [
      "New Security Level: SL-4, Number of services resumed: 8\n"
     ]
    }
   ],
   "source": [
    "print(f\"New Security Level: SL-{Env_SecurityLevel}, Number of services resumed: {len(service_to_enable)}\")"
   ]
  },
  {
   "cell_type": "markdown",
   "metadata": {},
   "source": [
    "## Event 130\n",
    "* Event Description: Asset_Tracker reports a threat \"Unauthorized_Location\"\n",
    "* Event Type: Threat Handling - Report a new threat\n",
    "* Event Response: Please refer to the following code blocks."
   ]
  },
  {
   "cell_type": "code",
   "execution_count": 318,
   "metadata": {},
   "outputs": [
    {
     "execution_count": 318,
     "name": "stdout",
     "output_type": "stream",
     "text": [
      "True 3d6fa115-12dd-4b54-b62a-792f08893b16 0 ['9b7f2550-da3c-4d4c-9eb6-f5475227062b', '8e24fc81-925e-4f9f-a072-1bc75c654abe', 'ece54774-ed2c-4729-b217-ea2b3820cfe6', 'beb6c42d-f9e4-4bf9-92fb-8c831c05f67c', 'f192881a-c2c5-4518-a39c-4af8d6bfbb9d', 'e6632546-83b8-4256-9cd0-909d434a0ce1', 'd67ec5e6-ec08-47d0-be82-b0ee4555f9a8', '11476739-1b60-48b2-a54c-e57e96a6146b']\n"
     ]
    }
   ],
   "source": [
    "eventStatus, threatUUID, newSL, serviceSuspended = manager.event.report_threat(equipmentUUID=Asset_Tracker, Threat_Class='Unauthorized_Location')\n",
    "print(eventStatus, threatUUID, newSL, serviceSuspended)"
   ]
  },
  {
   "cell_type": "code",
   "execution_count": 319,
   "metadata": {},
   "outputs": [
    {
     "execution_count": 319,
     "name": "stdout",
     "output_type": "stream",
     "text": [
      " Threat UUID:3d6fa115-12dd-4b54-b62a-792f08893b16, New Security Level: SL-0, Number of active services suspended: 8\n"
     ]
    }
   ],
   "source": [
    "print(f\" Threat UUID:{threatUUID}, New Security Level: SL-{newSL}, Number of active services suspended: {len(serviceSuspended)}\")"
   ]
  },
  {
   "cell_type": "markdown",
   "metadata": {},
   "source": [
    "## Event 131\n",
    "* Event Description: Report a removed threat.\n",
    "* Event Type: Threat Handling - Report a removed threat \n",
    "* Event Response: Please refer to the following code blocks."
   ]
  },
  {
   "cell_type": "code",
   "execution_count": 320,
   "metadata": {},
   "outputs": [
    {
     "execution_count": 320,
     "name": "stdout",
     "output_type": "stream",
     "text": [
      "True 4 0 ['beb6c42d-f9e4-4bf9-92fb-8c831c05f67c', 'f192881a-c2c5-4518-a39c-4af8d6bfbb9d', 'e6632546-83b8-4256-9cd0-909d434a0ce1', 'd67ec5e6-ec08-47d0-be82-b0ee4555f9a8', '11476739-1b60-48b2-a54c-e57e96a6146b', '8e24fc81-925e-4f9f-a072-1bc75c654abe', '9b7f2550-da3c-4d4c-9eb6-f5475227062b', 'ece54774-ed2c-4729-b217-ea2b3820cfe6']\n"
     ]
    }
   ],
   "source": [
    "eventStatus, Env_SecurityLevel, service_to_enable = manager.event.remove_threat(ThreatUUID=threatUUID)\n",
    "print(eventStatus, Env_SecurityLevel, newSL, service_to_enable)"
   ]
  },
  {
   "cell_type": "code",
   "execution_count": 321,
   "metadata": {},
   "outputs": [
    {
     "execution_count": 321,
     "name": "stdout",
     "output_type": "stream",
     "text": [
      "New Security Level: SL-4, Number of services resumed: 8\n"
     ]
    }
   ],
   "source": [
    "print(f\"New Security Level: SL-{Env_SecurityLevel}, Number of services resumed: {len(service_to_enable)}\")"
   ]
  },
  {
   "cell_type": "markdown",
   "metadata": {},
   "source": [
    "## Event 132\n",
    "* Event Description: Window_Sensor reports a threat \"Unexpected_Window_Open\"\n",
    "* Event Type: Threat Handling - Report a new threat\n",
    "* Event Response: Please refer to the following code blocks."
   ]
  },
  {
   "cell_type": "code",
   "execution_count": 322,
   "metadata": {},
   "outputs": [
    {
     "execution_count": 322,
     "name": "stdout",
     "output_type": "stream",
     "text": [
      "True 0eb7ec78-af49-4097-94c5-e9912bb4fd65 0 ['9b7f2550-da3c-4d4c-9eb6-f5475227062b', '8e24fc81-925e-4f9f-a072-1bc75c654abe', 'ece54774-ed2c-4729-b217-ea2b3820cfe6', 'beb6c42d-f9e4-4bf9-92fb-8c831c05f67c', 'f192881a-c2c5-4518-a39c-4af8d6bfbb9d', 'e6632546-83b8-4256-9cd0-909d434a0ce1', 'd67ec5e6-ec08-47d0-be82-b0ee4555f9a8', '11476739-1b60-48b2-a54c-e57e96a6146b']\n"
     ]
    }
   ],
   "source": [
    "eventStatus, threatUUID, newSL, serviceSuspended = manager.event.report_threat(equipmentUUID=Window_Sensor, Threat_Class='Unexpected_Window_Open')\n",
    "print(eventStatus, threatUUID, newSL, serviceSuspended)"
   ]
  },
  {
   "cell_type": "code",
   "execution_count": 323,
   "metadata": {},
   "outputs": [
    {
     "execution_count": 323,
     "name": "stdout",
     "output_type": "stream",
     "text": [
      " Threat UUID:0eb7ec78-af49-4097-94c5-e9912bb4fd65, New Security Level: SL-0, Number of active services suspended: 8\n"
     ]
    }
   ],
   "source": [
    "print(f\" Threat UUID:{threatUUID}, New Security Level: SL-{newSL}, Number of active services suspended: {len(serviceSuspended)}\")"
   ]
  },
  {
   "cell_type": "markdown",
   "metadata": {},
   "source": [
    "## Event 133\n",
    "* Event Description: Report a removed threat.\n",
    "* Event Type: Threat Handling - Report a removed threat \n",
    "* Event Response: Please refer to the following code blocks."
   ]
  },
  {
   "cell_type": "code",
   "execution_count": 324,
   "metadata": {},
   "outputs": [
    {
     "execution_count": 324,
     "name": "stdout",
     "output_type": "stream",
     "text": [
      "True 4 0 ['beb6c42d-f9e4-4bf9-92fb-8c831c05f67c', 'f192881a-c2c5-4518-a39c-4af8d6bfbb9d', 'e6632546-83b8-4256-9cd0-909d434a0ce1', 'd67ec5e6-ec08-47d0-be82-b0ee4555f9a8', '11476739-1b60-48b2-a54c-e57e96a6146b', '8e24fc81-925e-4f9f-a072-1bc75c654abe', '9b7f2550-da3c-4d4c-9eb6-f5475227062b', 'ece54774-ed2c-4729-b217-ea2b3820cfe6']\n"
     ]
    }
   ],
   "source": [
    "eventStatus, Env_SecurityLevel, service_to_enable = manager.event.remove_threat(ThreatUUID=threatUUID)\n",
    "print(eventStatus, Env_SecurityLevel, newSL, service_to_enable)"
   ]
  },
  {
   "cell_type": "code",
   "execution_count": 325,
   "metadata": {},
   "outputs": [
    {
     "execution_count": 325,
     "name": "stdout",
     "output_type": "stream",
     "text": [
      "New Security Level: SL-4, Number of services resumed: 8\n"
     ]
    }
   ],
   "source": [
    "print(f\"New Security Level: SL-{Env_SecurityLevel}, Number of services resumed: {len(service_to_enable)}\")"
   ]
  },
  {
   "cell_type": "markdown",
   "metadata": {},
   "source": [
    "## Event 134\n",
    "* Event Description: SDR_Transceiver reports a threat \"Unrecognized_Radio_Frequency\"\n",
    "* Event Type: Threat Handling - Report a new threat\n",
    "* Event Response: Please refer to the following code blocks."
   ]
  },
  {
   "cell_type": "code",
   "execution_count": 326,
   "metadata": {},
   "outputs": [
    {
     "execution_count": 326,
     "name": "stdout",
     "output_type": "stream",
     "text": [
      "True 613e29f8-ca11-47b2-97f7-19c073232deb 2 ['8e24fc81-925e-4f9f-a072-1bc75c654abe', 'beb6c42d-f9e4-4bf9-92fb-8c831c05f67c', 'e6632546-83b8-4256-9cd0-909d434a0ce1', '11476739-1b60-48b2-a54c-e57e96a6146b']\n"
     ]
    }
   ],
   "source": [
    "eventStatus, threatUUID, newSL, serviceSuspended = manager.event.report_threat(equipmentUUID=SDR_Transceiver, Threat_Class='Unrecognized_Radio_Frequency')\n",
    "print(eventStatus, threatUUID, newSL, serviceSuspended)"
   ]
  },
  {
   "cell_type": "code",
   "execution_count": 327,
   "metadata": {},
   "outputs": [
    {
     "execution_count": 327,
     "name": "stdout",
     "output_type": "stream",
     "text": [
      " Threat UUID:613e29f8-ca11-47b2-97f7-19c073232deb, New Security Level: SL-2, Number of active services suspended: 4\n"
     ]
    }
   ],
   "source": [
    "print(f\" Threat UUID:{threatUUID}, New Security Level: SL-{newSL}, Number of active services suspended: {len(serviceSuspended)}\")"
   ]
  },
  {
   "cell_type": "markdown",
   "metadata": {},
   "source": [
    "## Event 135\n",
    "* Event Description: Report a removed threat.\n",
    "* Event Type: Threat Handling - Report a removed threat \n",
    "* Event Response: Please refer to the following code blocks."
   ]
  },
  {
   "cell_type": "code",
   "execution_count": 328,
   "metadata": {},
   "outputs": [
    {
     "execution_count": 328,
     "name": "stdout",
     "output_type": "stream",
     "text": [
      "True 4 2 ['beb6c42d-f9e4-4bf9-92fb-8c831c05f67c', 'e6632546-83b8-4256-9cd0-909d434a0ce1', '8e24fc81-925e-4f9f-a072-1bc75c654abe', '11476739-1b60-48b2-a54c-e57e96a6146b']\n"
     ]
    }
   ],
   "source": [
    "eventStatus, Env_SecurityLevel, service_to_enable = manager.event.remove_threat(ThreatUUID=threatUUID)\n",
    "print(eventStatus, Env_SecurityLevel, newSL, service_to_enable)"
   ]
  },
  {
   "cell_type": "code",
   "execution_count": 329,
   "metadata": {},
   "outputs": [
    {
     "execution_count": 329,
     "name": "stdout",
     "output_type": "stream",
     "text": [
      "New Security Level: SL-4, Number of services resumed: 4\n"
     ]
    }
   ],
   "source": [
    "print(f\"New Security Level: SL-{Env_SecurityLevel}, Number of services resumed: {len(service_to_enable)}\")"
   ]
  },
  {
   "cell_type": "markdown",
   "metadata": {},
   "source": [
    "## Event 136\n",
    "* Event Description: Smart_Phone reports a threat \"Inaccessible_MAPE-k_Engine\"\n",
    "* Event Type: Threat Handling - Report a new threat\n",
    "* Event Response: Please refer to the following code blocks."
   ]
  },
  {
   "cell_type": "code",
   "execution_count": 330,
   "metadata": {},
   "outputs": [
    {
     "execution_count": 330,
     "name": "stdout",
     "output_type": "stream",
     "text": [
      "True d0f56d39-232d-47b5-a55d-2bd86141df5a 0 ['9b7f2550-da3c-4d4c-9eb6-f5475227062b', '8e24fc81-925e-4f9f-a072-1bc75c654abe', 'ece54774-ed2c-4729-b217-ea2b3820cfe6', 'beb6c42d-f9e4-4bf9-92fb-8c831c05f67c', 'f192881a-c2c5-4518-a39c-4af8d6bfbb9d', 'e6632546-83b8-4256-9cd0-909d434a0ce1', 'd67ec5e6-ec08-47d0-be82-b0ee4555f9a8', '11476739-1b60-48b2-a54c-e57e96a6146b']\n"
     ]
    }
   ],
   "source": [
    "eventStatus, threatUUID, newSL, serviceSuspended = manager.event.report_threat(equipmentUUID=Smart_Phone, Threat_Class='Inaccessible_MAPE-k_Engine')\n",
    "print(eventStatus, threatUUID, newSL, serviceSuspended)"
   ]
  },
  {
   "cell_type": "code",
   "execution_count": 331,
   "metadata": {},
   "outputs": [
    {
     "execution_count": 331,
     "name": "stdout",
     "output_type": "stream",
     "text": [
      " Threat UUID:d0f56d39-232d-47b5-a55d-2bd86141df5a, New Security Level: SL-0, Number of active services suspended: 8\n"
     ]
    }
   ],
   "source": [
    "print(f\" Threat UUID:{threatUUID}, New Security Level: SL-{newSL}, Number of active services suspended: {len(serviceSuspended)}\")"
   ]
  },
  {
   "cell_type": "markdown",
   "metadata": {},
   "source": [
    "## Event 137\n",
    "* Event Description: Report a removed threat.\n",
    "* Event Type: Threat Handling - Report a removed threat \n",
    "* Event Response: Please refer to the following code blocks."
   ]
  },
  {
   "cell_type": "code",
   "execution_count": 332,
   "metadata": {},
   "outputs": [
    {
     "execution_count": 332,
     "name": "stdout",
     "output_type": "stream",
     "text": [
      "True 4 0 ['beb6c42d-f9e4-4bf9-92fb-8c831c05f67c', 'f192881a-c2c5-4518-a39c-4af8d6bfbb9d', 'e6632546-83b8-4256-9cd0-909d434a0ce1', 'd67ec5e6-ec08-47d0-be82-b0ee4555f9a8', '11476739-1b60-48b2-a54c-e57e96a6146b', '8e24fc81-925e-4f9f-a072-1bc75c654abe', '9b7f2550-da3c-4d4c-9eb6-f5475227062b', 'ece54774-ed2c-4729-b217-ea2b3820cfe6']\n"
     ]
    }
   ],
   "source": [
    "eventStatus, Env_SecurityLevel, service_to_enable = manager.event.remove_threat(ThreatUUID=threatUUID)\n",
    "print(eventStatus, Env_SecurityLevel, newSL, service_to_enable)"
   ]
  },
  {
   "cell_type": "code",
   "execution_count": 333,
   "metadata": {},
   "outputs": [
    {
     "execution_count": 333,
     "name": "stdout",
     "output_type": "stream",
     "text": [
      "New Security Level: SL-4, Number of services resumed: 8\n"
     ]
    }
   ],
   "source": [
    "print(f\"New Security Level: SL-{Env_SecurityLevel}, Number of services resumed: {len(service_to_enable)}\")"
   ]
  },
  {
   "cell_type": "markdown",
   "metadata": {},
   "source": [
    "## Event 138\n",
    "* Event Description: Smart_Phone reports a threat \"Unauthorized_Running_Service-k_Engine\"\n",
    "* Event Type: Threat Handling - Report a new threat\n",
    "* Event Response: Please refer to the following code blocks."
   ]
  },
  {
   "cell_type": "code",
   "execution_count": 334,
   "metadata": {},
   "outputs": [
    {
     "execution_count": 334,
     "name": "stdout",
     "output_type": "stream",
     "text": [
      "True 282dddea-531d-40a3-ab41-b4dd5e3b38d6 0 ['9b7f2550-da3c-4d4c-9eb6-f5475227062b', '8e24fc81-925e-4f9f-a072-1bc75c654abe', 'ece54774-ed2c-4729-b217-ea2b3820cfe6', 'beb6c42d-f9e4-4bf9-92fb-8c831c05f67c', 'f192881a-c2c5-4518-a39c-4af8d6bfbb9d', 'e6632546-83b8-4256-9cd0-909d434a0ce1', 'd67ec5e6-ec08-47d0-be82-b0ee4555f9a8', '11476739-1b60-48b2-a54c-e57e96a6146b']\n"
     ]
    }
   ],
   "source": [
    "eventStatus, threatUUID, newSL, serviceSuspended = manager.event.report_threat(equipmentUUID=Smart_Phone, Threat_Class='Unauthorized_Running_Service')\n",
    "print(eventStatus, threatUUID, newSL, serviceSuspended)"
   ]
  },
  {
   "cell_type": "code",
   "execution_count": 335,
   "metadata": {},
   "outputs": [
    {
     "execution_count": 335,
     "name": "stdout",
     "output_type": "stream",
     "text": [
      " Threat UUID:282dddea-531d-40a3-ab41-b4dd5e3b38d6, New Security Level: SL-0, Number of active services suspended: 8\n"
     ]
    }
   ],
   "source": [
    "print(f\" Threat UUID:{threatUUID}, New Security Level: SL-{newSL}, Number of active services suspended: {len(serviceSuspended)}\")"
   ]
  },
  {
   "cell_type": "markdown",
   "metadata": {},
   "source": [
    "## Event 139\n",
    "* Event Description: Report a removed threat.\n",
    "* Event Type: Threat Handling - Report a removed threat \n",
    "* Event Response: Please refer to the following code blocks."
   ]
  },
  {
   "cell_type": "code",
   "execution_count": 336,
   "metadata": {},
   "outputs": [
    {
     "execution_count": 336,
     "name": "stdout",
     "output_type": "stream",
     "text": [
      "True 4 0 ['beb6c42d-f9e4-4bf9-92fb-8c831c05f67c', 'f192881a-c2c5-4518-a39c-4af8d6bfbb9d', 'e6632546-83b8-4256-9cd0-909d434a0ce1', 'd67ec5e6-ec08-47d0-be82-b0ee4555f9a8', '11476739-1b60-48b2-a54c-e57e96a6146b', '8e24fc81-925e-4f9f-a072-1bc75c654abe', '9b7f2550-da3c-4d4c-9eb6-f5475227062b', 'ece54774-ed2c-4729-b217-ea2b3820cfe6']\n"
     ]
    }
   ],
   "source": [
    "eventStatus, Env_SecurityLevel, service_to_enable = manager.event.remove_threat(ThreatUUID=threatUUID)\n",
    "print(eventStatus, Env_SecurityLevel, newSL, service_to_enable)"
   ]
  },
  {
   "cell_type": "code",
   "execution_count": 337,
   "metadata": {},
   "outputs": [
    {
     "execution_count": 337,
     "name": "stdout",
     "output_type": "stream",
     "text": [
      "New Security Level: SL-4, Number of services resumed: 8\n"
     ]
    }
   ],
   "source": [
    "print(f\"New Security Level: SL-{Env_SecurityLevel}, Number of services resumed: {len(service_to_enable)}\")"
   ]
  },
  {
   "cell_type": "markdown",
   "metadata": {},
   "source": [
    "## Event 140\n",
    "* Event Description: Smart_Phone reports a threat \"Unauthorized_Action\"\n",
    "* Event Type: Threat Handling - Report a new threat\n",
    "* Event Response: Please refer to the following code blocks."
   ]
  },
  {
   "cell_type": "code",
   "execution_count": 338,
   "metadata": {},
   "outputs": [
    {
     "execution_count": 338,
     "name": "stdout",
     "output_type": "stream",
     "text": [
      "True 9cd1bd2c-17cd-42c9-b319-fdc40212dafe 1 ['9b7f2550-da3c-4d4c-9eb6-f5475227062b', '8e24fc81-925e-4f9f-a072-1bc75c654abe', 'ece54774-ed2c-4729-b217-ea2b3820cfe6', 'beb6c42d-f9e4-4bf9-92fb-8c831c05f67c', 'f192881a-c2c5-4518-a39c-4af8d6bfbb9d', 'e6632546-83b8-4256-9cd0-909d434a0ce1', 'd67ec5e6-ec08-47d0-be82-b0ee4555f9a8', '11476739-1b60-48b2-a54c-e57e96a6146b']\n"
     ]
    }
   ],
   "source": [
    "eventStatus, threatUUID, newSL, serviceSuspended = manager.event.report_threat(equipmentUUID=Smart_Phone, Threat_Class='Unauthorized_Action')\n",
    "print(eventStatus, threatUUID, newSL, serviceSuspended)"
   ]
  },
  {
   "cell_type": "code",
   "execution_count": 339,
   "metadata": {},
   "outputs": [
    {
     "execution_count": 339,
     "name": "stdout",
     "output_type": "stream",
     "text": [
      " Threat UUID:9cd1bd2c-17cd-42c9-b319-fdc40212dafe, New Security Level: SL-1, Number of active services suspended: 8\n"
     ]
    }
   ],
   "source": [
    "print(f\" Threat UUID:{threatUUID}, New Security Level: SL-{newSL}, Number of active services suspended: {len(serviceSuspended)}\")"
   ]
  },
  {
   "cell_type": "markdown",
   "metadata": {},
   "source": [
    "## Event 141\n",
    "* Event Description: Report a removed threat.\n",
    "* Event Type: Threat Handling - Report a removed threat \n",
    "* Event Response: Please refer to the following code blocks."
   ]
  },
  {
   "cell_type": "code",
   "execution_count": 340,
   "metadata": {},
   "outputs": [
    {
     "execution_count": 340,
     "name": "stdout",
     "output_type": "stream",
     "text": [
      "True 4 1 ['beb6c42d-f9e4-4bf9-92fb-8c831c05f67c', 'f192881a-c2c5-4518-a39c-4af8d6bfbb9d', 'e6632546-83b8-4256-9cd0-909d434a0ce1', 'd67ec5e6-ec08-47d0-be82-b0ee4555f9a8', '11476739-1b60-48b2-a54c-e57e96a6146b', '8e24fc81-925e-4f9f-a072-1bc75c654abe', '9b7f2550-da3c-4d4c-9eb6-f5475227062b', 'ece54774-ed2c-4729-b217-ea2b3820cfe6']\n"
     ]
    }
   ],
   "source": [
    "eventStatus, Env_SecurityLevel, service_to_enable = manager.event.remove_threat(ThreatUUID=threatUUID)\n",
    "print(eventStatus, Env_SecurityLevel, newSL, service_to_enable)"
   ]
  },
  {
   "cell_type": "code",
   "execution_count": 341,
   "metadata": {},
   "outputs": [
    {
     "execution_count": 341,
     "name": "stdout",
     "output_type": "stream",
     "text": [
      "New Security Level: SL-4, Number of services resumed: 8\n"
     ]
    }
   ],
   "source": [
    "print(f\"New Security Level: SL-{Env_SecurityLevel}, Number of services resumed: {len(service_to_enable)}\")"
   ]
  },
  {
   "cell_type": "markdown",
   "metadata": {},
   "source": [
    "## Event 142\n",
    "* Event Description: File_Server reports a threat \"Unrecognized_File\"\n",
    "* Event Type: Threat Handling - Report a new threat\n",
    "* Event Response: Please refer to the following code blocks. Threat is mitigated following the policy \"68b4952d-1109-4e8f-b14f-0994e87c2d7d\"."
   ]
  },
  {
   "cell_type": "code",
   "execution_count": 342,
   "metadata": {},
   "outputs": [
    {
     "execution_count": 342,
     "name": "stdout",
     "output_type": "stream",
     "text": [
      "True 1bf92a1b-386a-4d46-9ddb-5425c2ad510e 4 []\n"
     ]
    }
   ],
   "source": [
    "eventStatus, threatUUID, newSL, serviceSuspended = manager.event.report_threat(equipmentUUID=File_Server, Threat_Class='Unrecognized_File')\n",
    "print(eventStatus, threatUUID, newSL, serviceSuspended)"
   ]
  },
  {
   "cell_type": "code",
   "execution_count": 343,
   "metadata": {},
   "outputs": [
    {
     "execution_count": 343,
     "name": "stdout",
     "output_type": "stream",
     "text": [
      " Threat UUID:1bf92a1b-386a-4d46-9ddb-5425c2ad510e, New Security Level: SL-4, Number of active services suspended: 0\n"
     ]
    }
   ],
   "source": [
    "print(f\" Threat UUID:{threatUUID}, New Security Level: SL-{newSL}, Number of active services suspended: {len(serviceSuspended)}\")"
   ]
  },
  {
   "cell_type": "markdown",
   "metadata": {},
   "source": [
    "## Event 143\n",
    "* Event Description: File_Server reports a threat \"Unexpected_Privilege_Escalation\"\n",
    "* Event Type: Threat Handling - Report a new threat\n",
    "* Event Response: Please refer to the following code blocks. Threat is mitigated following the policy \"0f3042db-cf25-4654-9b5b-a99d21599992\"."
   ]
  },
  {
   "cell_type": "code",
   "execution_count": 344,
   "metadata": {},
   "outputs": [
    {
     "execution_count": 344,
     "name": "stdout",
     "output_type": "stream",
     "text": [
      "True fe20b0c3-0845-4a99-bfae-5d88ae28c393 3 ['8e24fc81-925e-4f9f-a072-1bc75c654abe', 'beb6c42d-f9e4-4bf9-92fb-8c831c05f67c', '11476739-1b60-48b2-a54c-e57e96a6146b']\n"
     ]
    }
   ],
   "source": [
    "eventStatus, threatUUID, newSL, serviceSuspended = manager.event.report_threat(equipmentUUID=File_Server, Threat_Class='Unexpected_Privilege_Escalation')\n",
    "print(eventStatus, threatUUID, newSL, serviceSuspended)"
   ]
  },
  {
   "cell_type": "code",
   "execution_count": 345,
   "metadata": {},
   "outputs": [
    {
     "execution_count": 345,
     "name": "stdout",
     "output_type": "stream",
     "text": [
      " Threat UUID:fe20b0c3-0845-4a99-bfae-5d88ae28c393, New Security Level: SL-3, Number of active services suspended: 3\n"
     ]
    }
   ],
   "source": [
    "print(f\" Threat UUID:{threatUUID}, New Security Level: SL-{newSL}, Number of active services suspended: {len(serviceSuspended)}\")"
   ]
  },
  {
   "cell_type": "markdown",
   "metadata": {},
   "source": [
    "## Event 144\n",
    "* Event Description: File_Server reports a threat \"Unauthorized_Access\"\n",
    "* Event Type: Threat Handling - Report a new threat\n",
    "* Event Response: Please refer to the following code blocks. Threat is mitigated following the policy \"0f3042db-cf25-4654-9b5b-a99d21599992\"."
   ]
  },
  {
   "cell_type": "code",
   "execution_count": 346,
   "metadata": {},
   "outputs": [
    {
     "execution_count": 346,
     "name": "stdout",
     "output_type": "stream",
     "text": [
      "True ab3ea1fc-f7ae-45d2-b819-a2f2d35e77a4 3 []\n"
     ]
    }
   ],
   "source": [
    "eventStatus, threatUUID, newSL, serviceSuspended = manager.event.report_threat(equipmentUUID=File_Server, Threat_Class='Unauthorized_Access')\n",
    "print(eventStatus, threatUUID, newSL, serviceSuspended)"
   ]
  },
  {
   "cell_type": "code",
   "execution_count": 347,
   "metadata": {},
   "outputs": [
    {
     "execution_count": 347,
     "name": "stdout",
     "output_type": "stream",
     "text": [
      " Threat UUID:ab3ea1fc-f7ae-45d2-b819-a2f2d35e77a4, New Security Level: SL-3, Number of active services suspended: 0\n"
     ]
    }
   ],
   "source": [
    "print(f\" Threat UUID:{threatUUID}, New Security Level: SL-{newSL}, Number of active services suspended: {len(serviceSuspended)}\")"
   ]
  },
  {
   "cell_type": "markdown",
   "metadata": {},
   "source": [
    "## Event 145\n",
    "* Event Description: File_Server reports a threat \"Active_Malware\"\n",
    "* Event Type: Threat Handling - Report a new threat\n",
    "* Event Response: Please refer to the following code blocks. Threat is mitigated following the policy \"26f29b73-b3b2-4678-be1a-8082dd67b542\"."
   ]
  },
  {
   "cell_type": "code",
   "execution_count": 348,
   "metadata": {},
   "outputs": [
    {
     "execution_count": 348,
     "name": "stdout",
     "output_type": "stream",
     "text": [
      "True df5d18bb-5b51-4533-90e7-a6425b174ab9 0 ['d67ec5e6-ec08-47d0-be82-b0ee4555f9a8', '9b7f2550-da3c-4d4c-9eb6-f5475227062b', 'ece54774-ed2c-4729-b217-ea2b3820cfe6', 'f192881a-c2c5-4518-a39c-4af8d6bfbb9d']\n"
     ]
    }
   ],
   "source": [
    "eventStatus, threatUUID, newSL, serviceSuspended = manager.event.report_threat(equipmentUUID=File_Server, Threat_Class='Active_Malware')\n",
    "print(eventStatus, threatUUID, newSL, serviceSuspended)"
   ]
  },
  {
   "cell_type": "code",
   "execution_count": 349,
   "metadata": {},
   "outputs": [
    {
     "execution_count": 349,
     "name": "stdout",
     "output_type": "stream",
     "text": [
      " Threat UUID:df5d18bb-5b51-4533-90e7-a6425b174ab9, New Security Level: SL-0, Number of active services suspended: 4\n"
     ]
    }
   ],
   "source": [
    "print(f\" Threat UUID:{threatUUID}, New Security Level: SL-{newSL}, Number of active services suspended: {len(serviceSuspended)}\")"
   ]
  },
  {
   "cell_type": "markdown",
   "metadata": {},
   "source": [
    "## Event 146\n",
    "* Event Description: Report a removed threat.\n",
    "* Event Type: Threat Handling - Report a removed threat \n",
    "* Event Response: Please refer to the following code blocks."
   ]
  },
  {
   "cell_type": "code",
   "execution_count": 350,
   "metadata": {},
   "outputs": [
    {
     "execution_count": 350,
     "name": "stdout",
     "output_type": "stream",
     "text": [
      "True 3 0 ['f192881a-c2c5-4518-a39c-4af8d6bfbb9d', 'd67ec5e6-ec08-47d0-be82-b0ee4555f9a8', '9b7f2550-da3c-4d4c-9eb6-f5475227062b', 'ece54774-ed2c-4729-b217-ea2b3820cfe6']\n"
     ]
    }
   ],
   "source": [
    "eventStatus, Env_SecurityLevel, service_to_enable = manager.event.remove_threat(ThreatUUID=threatUUID)\n",
    "print(eventStatus, Env_SecurityLevel, newSL, service_to_enable)"
   ]
  },
  {
   "cell_type": "code",
   "execution_count": 351,
   "metadata": {},
   "outputs": [
    {
     "execution_count": 351,
     "name": "stdout",
     "output_type": "stream",
     "text": [
      "New Security Level: SL-3, Number of services resumed: 4\n"
     ]
    }
   ],
   "source": [
    "print(f\"New Security Level: SL-{Env_SecurityLevel}, Number of services resumed: {len(service_to_enable)}\")"
   ]
  },
  {
   "cell_type": "markdown",
   "metadata": {},
   "source": [
    "## Event 147\n",
    "* Event Description: File_Server reports a threat \"DDoS_Attack\"\n",
    "* Event Type: Threat Handling - Report a new threat\n",
    "* Event Response: Please refer to the following code blocks."
   ]
  },
  {
   "cell_type": "code",
   "execution_count": 352,
   "metadata": {},
   "outputs": [
    {
     "execution_count": 352,
     "name": "stdout",
     "output_type": "stream",
     "text": [
      "True 7d7d2247-e41e-42d9-a8b2-b5e7fc4b69c4 2 []\n"
     ]
    }
   ],
   "source": [
    "eventStatus, threatUUID, newSL, serviceSuspended = manager.event.report_threat(equipmentUUID=File_Server, Threat_Class='DDoS_Attack')\n",
    "print(eventStatus, threatUUID, newSL, serviceSuspended)"
   ]
  },
  {
   "cell_type": "code",
   "execution_count": 353,
   "metadata": {},
   "outputs": [
    {
     "execution_count": 353,
     "name": "stdout",
     "output_type": "stream",
     "text": [
      " Threat UUID:7d7d2247-e41e-42d9-a8b2-b5e7fc4b69c4, New Security Level: SL-2, Number of active services suspended: 0\n"
     ]
    }
   ],
   "source": [
    "print(f\" Threat UUID:{threatUUID}, New Security Level: SL-{newSL}, Number of active services suspended: {len(serviceSuspended)}\")"
   ]
  },
  {
   "cell_type": "markdown",
   "metadata": {},
   "source": [
    "## Event 148\n",
    "* Event Description: Report a removed threat.\n",
    "* Event Type: Threat Handling - Report a removed threat \n",
    "* Event Response: Please refer to the following code blocks."
   ]
  },
  {
   "cell_type": "code",
   "execution_count": 354,
   "metadata": {},
   "outputs": [
    {
     "execution_count": 354,
     "name": "stdout",
     "output_type": "stream",
     "text": [
      "True 3 2 []\n"
     ]
    }
   ],
   "source": [
    "eventStatus, Env_SecurityLevel, service_to_enable = manager.event.remove_threat(ThreatUUID=threatUUID)\n",
    "print(eventStatus, Env_SecurityLevel, newSL, service_to_enable)"
   ]
  },
  {
   "cell_type": "code",
   "execution_count": 355,
   "metadata": {},
   "outputs": [
    {
     "execution_count": 355,
     "name": "stdout",
     "output_type": "stream",
     "text": [
      "New Security Level: SL-3, Number of services resumed: 0\n"
     ]
    }
   ],
   "source": [
    "print(f\"New Security Level: SL-{Env_SecurityLevel}, Number of services resumed: {len(service_to_enable)}\")"
   ]
  },
  {
   "cell_type": "markdown",
   "metadata": {},
   "source": [
    "## Event 149\n",
    "* Event Description: IoT_Gateway reports a threat \"Unauthorized_User\"\n",
    "* Event Type: Threat Handling - Report a new threat\n",
    "* Event Response: Please refer to the following code blocks."
   ]
  },
  {
   "cell_type": "code",
   "execution_count": 356,
   "metadata": {},
   "outputs": [
    {
     "execution_count": 356,
     "name": "stdout",
     "output_type": "stream",
     "text": [
      "True 260e8f3a-11e9-4da2-bad1-a9c41a3860b0 0 ['d67ec5e6-ec08-47d0-be82-b0ee4555f9a8', '9b7f2550-da3c-4d4c-9eb6-f5475227062b', 'ece54774-ed2c-4729-b217-ea2b3820cfe6', 'f192881a-c2c5-4518-a39c-4af8d6bfbb9d']\n"
     ]
    }
   ],
   "source": [
    "eventStatus, threatUUID, newSL, serviceSuspended = manager.event.report_threat(equipmentUUID=IoT_Gateway, Threat_Class='Unauthorized_User')\n",
    "print(eventStatus, threatUUID, newSL, serviceSuspended)"
   ]
  },
  {
   "cell_type": "code",
   "execution_count": 357,
   "metadata": {},
   "outputs": [
    {
     "execution_count": 357,
     "name": "stdout",
     "output_type": "stream",
     "text": [
      " Threat UUID:260e8f3a-11e9-4da2-bad1-a9c41a3860b0, New Security Level: SL-0, Number of active services suspended: 4\n"
     ]
    }
   ],
   "source": [
    "print(f\" Threat UUID:{threatUUID}, New Security Level: SL-{newSL}, Number of active services suspended: {len(serviceSuspended)}\")"
   ]
  },
  {
   "cell_type": "markdown",
   "metadata": {},
   "source": [
    "## Event 150\n",
    "* Event Description: Report a removed threat.\n",
    "* Event Type: Threat Handling - Report a removed threat \n",
    "* Event Response: Please refer to the following code blocks."
   ]
  },
  {
   "cell_type": "code",
   "execution_count": 358,
   "metadata": {},
   "outputs": [
    {
     "execution_count": 358,
     "name": "stdout",
     "output_type": "stream",
     "text": [
      "True 3 0 ['f192881a-c2c5-4518-a39c-4af8d6bfbb9d', 'd67ec5e6-ec08-47d0-be82-b0ee4555f9a8', '9b7f2550-da3c-4d4c-9eb6-f5475227062b', 'ece54774-ed2c-4729-b217-ea2b3820cfe6']\n"
     ]
    }
   ],
   "source": [
    "eventStatus, Env_SecurityLevel, service_to_enable = manager.event.remove_threat(ThreatUUID=threatUUID)\n",
    "print(eventStatus, Env_SecurityLevel, newSL, service_to_enable)"
   ]
  },
  {
   "cell_type": "code",
   "execution_count": 359,
   "metadata": {},
   "outputs": [
    {
     "execution_count": 359,
     "name": "stdout",
     "output_type": "stream",
     "text": [
      "New Security Level: SL-3, Number of services resumed: 4\n"
     ]
    }
   ],
   "source": [
    "print(f\"New Security Level: SL-{Env_SecurityLevel}, Number of services resumed: {len(service_to_enable)}\")"
   ]
  },
  {
   "cell_type": "markdown",
   "metadata": {},
   "source": [
    "## Event 151\n",
    "* Event Description: Live_Streaming_Server reports a threat \"Certificate_Not_Matching\"\n",
    "* Event Type: Threat Handling - Report a new threat\n",
    "* Event Response: Please refer to the following code blocks. Threat is mitigated following the policy \"deca6ac5-6b4e-4c61-a986-8d53f5e80332\"."
   ]
  },
  {
   "cell_type": "code",
   "execution_count": 360,
   "metadata": {},
   "outputs": [
    {
     "execution_count": 360,
     "name": "stdout",
     "output_type": "stream",
     "text": [
      "True 9babbd79-dde4-4d45-9439-8ab7ad3e7c61 3 []\n"
     ]
    }
   ],
   "source": [
    "eventStatus, threatUUID, newSL, serviceSuspended = manager.event.report_threat(equipmentUUID=Live_Streaming_Server, Threat_Class='Certificate_Not_Matching')\n",
    "print(eventStatus, threatUUID, newSL, serviceSuspended)"
   ]
  },
  {
   "cell_type": "code",
   "execution_count": 361,
   "metadata": {},
   "outputs": [
    {
     "execution_count": 361,
     "name": "stdout",
     "output_type": "stream",
     "text": [
      " Threat UUID:9babbd79-dde4-4d45-9439-8ab7ad3e7c61, New Security Level: SL-3, Number of active services suspended: 0\n"
     ]
    }
   ],
   "source": [
    "print(f\" Threat UUID:{threatUUID}, New Security Level: SL-{newSL}, Number of active services suspended: {len(serviceSuspended)}\")"
   ]
  },
  {
   "cell_type": "markdown",
   "metadata": {},
   "source": [
    "## Event 152\n",
    "* Event Description: Live_Streaming_Server reports a threat \"Expired_Certificate\"\n",
    "* Event Type: Threat Handling - Report a new threat\n",
    "* Event Response: Please refer to the following code blocks. Threat is mitigated following the policy \"deca6ac5-6b4e-4c61-a986-8d53f5e80332\"."
   ]
  },
  {
   "cell_type": "code",
   "execution_count": 362,
   "metadata": {},
   "outputs": [
    {
     "execution_count": 362,
     "name": "stdout",
     "output_type": "stream",
     "text": [
      "True a58f3850-8d54-49f9-83b4-468364f74c9e 3 []\n"
     ]
    }
   ],
   "source": [
    "eventStatus, threatUUID, newSL, serviceSuspended = manager.event.report_threat(equipmentUUID=Live_Streaming_Server, Threat_Class='Certificate_Not_Matching')\n",
    "print(eventStatus, threatUUID, newSL, serviceSuspended)"
   ]
  },
  {
   "cell_type": "code",
   "execution_count": 363,
   "metadata": {},
   "outputs": [
    {
     "execution_count": 363,
     "name": "stdout",
     "output_type": "stream",
     "text": [
      " Threat UUID:a58f3850-8d54-49f9-83b4-468364f74c9e, New Security Level: SL-3, Number of active services suspended: 0\n"
     ]
    }
   ],
   "source": [
    "print(f\" Threat UUID:{threatUUID}, New Security Level: SL-{newSL}, Number of active services suspended: {len(serviceSuspended)}\")"
   ]
  },
  {
   "cell_type": "markdown",
   "metadata": {},
   "source": [
    "## Event 153\n",
    "* Event Description: Live_Streaming_Server reports a threat \"Credential_Not_Matching\"\n",
    "* Event Type: Threat Handling - Report a new threat\n",
    "* Event Response: Please refer to the following code blocks. Threat is mitigated following the policy \"820e1c09-b494-4134-87e2-301abd9d3b2f\"."
   ]
  },
  {
   "cell_type": "code",
   "execution_count": 364,
   "metadata": {},
   "outputs": [
    {
     "execution_count": 364,
     "name": "stdout",
     "output_type": "stream",
     "text": [
      "True c966ee3c-dd44-487c-b87c-4e2804daf69f 1 ['d67ec5e6-ec08-47d0-be82-b0ee4555f9a8', '9b7f2550-da3c-4d4c-9eb6-f5475227062b', 'ece54774-ed2c-4729-b217-ea2b3820cfe6', 'f192881a-c2c5-4518-a39c-4af8d6bfbb9d']\n"
     ]
    }
   ],
   "source": [
    "eventStatus, threatUUID, newSL, serviceSuspended = manager.event.report_threat(equipmentUUID=Live_Streaming_Server, Threat_Class='Credential_Not_Matching')\n",
    "print(eventStatus, threatUUID, newSL, serviceSuspended)"
   ]
  },
  {
   "cell_type": "code",
   "execution_count": 365,
   "metadata": {},
   "outputs": [
    {
     "execution_count": 365,
     "name": "stdout",
     "output_type": "stream",
     "text": [
      " Threat UUID:c966ee3c-dd44-487c-b87c-4e2804daf69f, New Security Level: SL-1, Number of active services suspended: 4\n"
     ]
    }
   ],
   "source": [
    "print(f\" Threat UUID:{threatUUID}, New Security Level: SL-{newSL}, Number of active services suspended: {len(serviceSuspended)}\")"
   ]
  },
  {
   "cell_type": "markdown",
   "metadata": {},
   "source": [
    "## Event 154\n",
    "* Event Description: Live_Streaming_Server reports a threat \"Expired_Credential\"\n",
    "* Event Type: Threat Handling - Report a new threat\n",
    "* Event Response: Please refer to the following code blocks. Threat is mitigated following the policy \"820e1c09-b494-4134-87e2-301abd9d3b2f\"."
   ]
  },
  {
   "cell_type": "code",
   "execution_count": 366,
   "metadata": {},
   "outputs": [
    {
     "execution_count": 366,
     "name": "stdout",
     "output_type": "stream",
     "text": [
      "True eb3d4e9d-7c3a-42d5-9745-c27f64aa1812 0 []\n"
     ]
    }
   ],
   "source": [
    "eventStatus, threatUUID, newSL, serviceSuspended = manager.event.report_threat(equipmentUUID=Live_Streaming_Server, Threat_Class='Expired_Credential')\n",
    "print(eventStatus, threatUUID, newSL, serviceSuspended)"
   ]
  },
  {
   "cell_type": "code",
   "execution_count": 367,
   "metadata": {},
   "outputs": [
    {
     "execution_count": 367,
     "name": "stdout",
     "output_type": "stream",
     "text": [
      " Threat UUID:eb3d4e9d-7c3a-42d5-9745-c27f64aa1812, New Security Level: SL-0, Number of active services suspended: 0\n"
     ]
    }
   ],
   "source": [
    "print(f\" Threat UUID:{threatUUID}, New Security Level: SL-{newSL}, Number of active services suspended: {len(serviceSuspended)}\")"
   ]
  },
  {
   "cell_type": "markdown",
   "metadata": {},
   "source": [
    "## Event 155\n",
    "* Event Description: Report a removed threat.\n",
    "* Event Type: Threat Handling - Report a removed threat \n",
    "* Event Response: Please refer to the following code blocks."
   ]
  },
  {
   "cell_type": "code",
   "execution_count": 368,
   "metadata": {},
   "outputs": [
    {
     "execution_count": 368,
     "name": "stdout",
     "output_type": "stream",
     "text": [
      "True 1 0 []\n"
     ]
    }
   ],
   "source": [
    "eventStatus, Env_SecurityLevel, service_to_enable = manager.event.remove_threat(ThreatUUID=threatUUID)\n",
    "print(eventStatus, Env_SecurityLevel, newSL, service_to_enable)"
   ]
  },
  {
   "cell_type": "code",
   "execution_count": 369,
   "metadata": {},
   "outputs": [
    {
     "execution_count": 369,
     "name": "stdout",
     "output_type": "stream",
     "text": [
      "New Security Level: SL-1, Number of services resumed: 0\n"
     ]
    }
   ],
   "source": [
    "print(f\"New Security Level: SL-{Env_SecurityLevel}, Number of services resumed: {len(service_to_enable)}\")"
   ]
  },
  {
   "cell_type": "markdown",
   "metadata": {},
   "source": [
    "## Event 156\n",
    "* Event Description: Live_Streaming_Server reports a threat \"Stolen_Credential\"\n",
    "* Event Type: Threat Handling - Report a new threat\n",
    "* Event Response: Please refer to the following code blocks."
   ]
  },
  {
   "cell_type": "code",
   "execution_count": 370,
   "metadata": {},
   "outputs": [
    {
     "execution_count": 370,
     "name": "stdout",
     "output_type": "stream",
     "text": [
      "True 9d45b04e-15eb-4bed-8ef2-96427937abf8 0 []\n"
     ]
    }
   ],
   "source": [
    "eventStatus, threatUUID, newSL, serviceSuspended = manager.event.report_threat(equipmentUUID=Live_Streaming_Server, Threat_Class='Stolen_Credential')\n",
    "print(eventStatus, threatUUID, newSL, serviceSuspended)"
   ]
  },
  {
   "cell_type": "code",
   "execution_count": 371,
   "metadata": {},
   "outputs": [
    {
     "execution_count": 371,
     "name": "stdout",
     "output_type": "stream",
     "text": [
      " Threat UUID:9d45b04e-15eb-4bed-8ef2-96427937abf8, New Security Level: SL-0, Number of active services suspended: 0\n"
     ]
    }
   ],
   "source": [
    "print(f\" Threat UUID:{threatUUID}, New Security Level: SL-{newSL}, Number of active services suspended: {len(serviceSuspended)}\")"
   ]
  },
  {
   "cell_type": "markdown",
   "metadata": {},
   "source": [
    "## Event 157\n",
    "* Event Description: Report a removed threat.\n",
    "* Event Type: Threat Handling - Report a removed threat \n",
    "* Event Response: Please refer to the following code blocks."
   ]
  },
  {
   "cell_type": "code",
   "execution_count": 372,
   "metadata": {},
   "outputs": [
    {
     "execution_count": 372,
     "name": "stdout",
     "output_type": "stream",
     "text": [
      "True 1 0 []\n"
     ]
    }
   ],
   "source": [
    "eventStatus, Env_SecurityLevel, service_to_enable = manager.event.remove_threat(ThreatUUID=threatUUID)\n",
    "print(eventStatus, Env_SecurityLevel, newSL, service_to_enable)"
   ]
  },
  {
   "cell_type": "code",
   "execution_count": 373,
   "metadata": {},
   "outputs": [
    {
     "execution_count": 373,
     "name": "stdout",
     "output_type": "stream",
     "text": [
      "New Security Level: SL-1, Number of services resumed: 0\n"
     ]
    }
   ],
   "source": [
    "print(f\"New Security Level: SL-{Env_SecurityLevel}, Number of services resumed: {len(service_to_enable)}\")"
   ]
  },
  {
   "cell_type": "markdown",
   "metadata": {},
   "source": [
    "## Event 158\n",
    "* Event Description: Router reports a threat \"ARP_Attack\"\n",
    "* Event Type: Threat Handling - Report a new threat\n",
    "* Event Response: Please refer to the following code blocks. Threat is mitigated following the policy \"b70f4f1a-f27c-44d6-8dae-d957141ced41\"."
   ]
  },
  {
   "cell_type": "code",
   "execution_count": 374,
   "metadata": {},
   "outputs": [
    {
     "execution_count": 374,
     "name": "stdout",
     "output_type": "stream",
     "text": [
      "True f70cc620-04bb-43e1-a585-98b6beac52f3 1 []\n"
     ]
    }
   ],
   "source": [
    "eventStatus, threatUUID, newSL, serviceSuspended = manager.event.report_threat(equipmentUUID=Router, Threat_Class='ARP_Attack')\n",
    "print(eventStatus, threatUUID, newSL, serviceSuspended)"
   ]
  },
  {
   "cell_type": "code",
   "execution_count": 375,
   "metadata": {},
   "outputs": [
    {
     "execution_count": 375,
     "name": "stdout",
     "output_type": "stream",
     "text": [
      " Threat UUID:f70cc620-04bb-43e1-a585-98b6beac52f3, New Security Level: SL-1, Number of active services suspended: 0\n"
     ]
    }
   ],
   "source": [
    "print(f\" Threat UUID:{threatUUID}, New Security Level: SL-{newSL}, Number of active services suspended: {len(serviceSuspended)}\")"
   ]
  },
  {
   "cell_type": "markdown",
   "metadata": {},
   "source": [
    "## Event 159\n",
    "* Event Description: Router reports a threat \"Unexpected_Device_Connection\"\n",
    "* Event Type: Threat Handling - Report a new threat\n",
    "* Event Response: Please refer to the following code blocks. Threat is mitigated following the policy \"e2e6261d-55c2-49da-b88b-a24412d271b8\"."
   ]
  },
  {
   "cell_type": "code",
   "execution_count": 376,
   "metadata": {},
   "outputs": [
    {
     "execution_count": 376,
     "name": "stdout",
     "output_type": "stream",
     "text": [
      "True 44e6ede8-01b1-49da-91d3-146da767a71d 1 []\n"
     ]
    }
   ],
   "source": [
    "eventStatus, threatUUID, newSL, serviceSuspended = manager.event.report_threat(equipmentUUID=Router, Threat_Class='Unexpected_Device_Connection')\n",
    "print(eventStatus, threatUUID, newSL, serviceSuspended)"
   ]
  },
  {
   "cell_type": "code",
   "execution_count": 377,
   "metadata": {},
   "outputs": [
    {
     "execution_count": 377,
     "name": "stdout",
     "output_type": "stream",
     "text": [
      " Threat UUID:44e6ede8-01b1-49da-91d3-146da767a71d, New Security Level: SL-1, Number of active services suspended: 0\n"
     ]
    }
   ],
   "source": [
    "print(f\" Threat UUID:{threatUUID}, New Security Level: SL-{newSL}, Number of active services suspended: {len(serviceSuspended)}\")"
   ]
  },
  {
   "cell_type": "markdown",
   "metadata": {},
   "source": [
    "## Event 160\n",
    "* Event Description: VoIP_Gateway reports a threat \"Wiretapping_Attack\"\n",
    "* Event Type: Threat Handling - Report a new threat\n",
    "* Event Response: Please refer to the following code blocks. Threat is mitigated following the policy \"8ba2c399-267e-4644-bfad-687c33021b00\"."
   ]
  },
  {
   "cell_type": "code",
   "execution_count": 378,
   "metadata": {},
   "outputs": [
    {
     "execution_count": 378,
     "name": "stdout",
     "output_type": "stream",
     "text": [
      "True 1525c549-229b-4e21-8772-ca3dcc366d6c 1 []\n"
     ]
    }
   ],
   "source": [
    "eventStatus, threatUUID, newSL, serviceSuspended = manager.event.report_threat(equipmentUUID=VoIP_Gateway, Threat_Class='Wiretapping_Attack')\n",
    "print(eventStatus, threatUUID, newSL, serviceSuspended)"
   ]
  },
  {
   "cell_type": "code",
   "execution_count": 379,
   "metadata": {},
   "outputs": [
    {
     "execution_count": 379,
     "name": "stdout",
     "output_type": "stream",
     "text": [
      " Threat UUID:1525c549-229b-4e21-8772-ca3dcc366d6c, New Security Level: SL-1, Number of active services suspended: 0\n"
     ]
    }
   ],
   "source": [
    "print(f\" Threat UUID:{threatUUID}, New Security Level: SL-{newSL}, Number of active services suspended: {len(serviceSuspended)}\")"
   ]
  },
  {
   "cell_type": "code",
   "execution_count": 380,
   "metadata": {},
   "outputs": [],
   "source": []
  }
 ],
 "metadata": {
  "kernelspec": {
   "display_name": "Python 3",
   "language": "python",
   "name": "python3"
  },
  "language_info": {
   "codemirror_mode": {
    "name": "ipython",
    "version": 3
   },
   "file_extension": ".py",
   "mimetype": "text/x-python",
   "name": "python",
   "nbconvert_exporter": "python",
   "pygments_lexer": "ipython3",
   "version": "3.8.3"
  }
 },
 "nbformat": 4,
 "nbformat_minor": 4
}
