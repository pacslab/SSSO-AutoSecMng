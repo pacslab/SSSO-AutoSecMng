{
 "cells": [
  {
   "cell_type": "code",
   "execution_count": 1,
   "metadata": {},
   "outputs": [],
   "source": [
    "from SSSO.manage import Manager\n",
    "import time\n",
    "import numpy as np"
   ]
  },
  {
   "cell_type": "code",
   "execution_count": 2,
   "metadata": {},
   "outputs": [],
   "source": [
    "manager = Manager(jena_address='http://127.0.0.1:7996/SSSO') # Please modify the triple store address"
   ]
  },
  {
   "cell_type": "code",
   "execution_count": 3,
   "metadata": {},
   "outputs": [
    {
     "name": "stdout",
     "output_type": "stream",
     "text": [
      "Number of devices:  20000\n"
     ]
    }
   ],
   "source": [
    "eqcount = manager.ontology.query(\"\"\"\n",
    "SELECT (COUNT(?subject) AS ?triples)\n",
    "WHERE {\n",
    "  ?subject rdf:type ?class.\n",
    "  ?class rdfs:subClassOf ?upperclass.\n",
    "  ?upperclass rdfs:subClassOf ssso:Equipment.\n",
    "  \n",
    "}\"\"\")[0][0].toPython()\n",
    "print('Number of devices: ', eqcount)"
   ]
  },
  {
   "cell_type": "code",
   "execution_count": 4,
   "metadata": {},
   "outputs": [
    {
     "name": "stdout",
     "output_type": "stream",
     "text": [
      "Number of services:  180000\n"
     ]
    }
   ],
   "source": [
    "svccount = manager.ontology.query(\"\"\"\n",
    "SELECT (COUNT(?subject) AS ?triples)\n",
    "WHERE {\n",
    "  ?subject rdf:type ?class.\n",
    "  ?class rdfs:subClassOf ?upperclass.\n",
    "  ?upperclass rdfs:subClassOf ssso:Service.\n",
    "  \n",
    "}\"\"\")[0][0].toPython()\n",
    "print('Number of services: ', svccount)"
   ]
  },
  {
   "cell_type": "code",
   "execution_count": 5,
   "metadata": {},
   "outputs": [
    {
     "name": "stdout",
     "output_type": "stream",
     "text": [
      "Number of contextual individuals:  260002\n"
     ]
    }
   ],
   "source": [
    "concount = manager.ontology.query(\"\"\"\n",
    "SELECT (COUNT(?subject) AS ?triples)\n",
    "WHERE {\n",
    "  ?subject rdf:type ?class.\n",
    "  ?class rdfs:subClassOf ?upperclass.\n",
    "  ?upperclass rdfs:subClassOf ssso:Context.\n",
    "  \n",
    "}\"\"\")[0][0].toPython()\n",
    "print('Number of contextual individuals: ', concount)"
   ]
  },
  {
   "cell_type": "code",
   "execution_count": 6,
   "metadata": {},
   "outputs": [
    {
     "name": "stdout",
     "output_type": "stream",
     "text": [
      "Number of triples:  1860701\n"
     ]
    }
   ],
   "source": [
    "triplecount = manager.ontology.query(\"\"\"\n",
    "SELECT (COUNT(?subject) AS ?triples)\n",
    "WHERE {\n",
    "  ?subject ?property ?object.\n",
    "  \n",
    "}\"\"\")[0][0].toPython()\n",
    "print('Number of triples: ', triplecount)"
   ]
  },
  {
   "cell_type": "code",
   "execution_count": 7,
   "metadata": {},
   "outputs": [],
   "source": [
    "response_time = []\n",
    "context = {\n",
    "\"Location\":\"BLD4-F16-M201-2\",\n",
    "\"Group\":\"BLD4-Classified-Room\"\n",
    "}\n",
    "event_count = 0"
   ]
  },
  {
   "cell_type": "code",
   "execution_count": 8,
   "metadata": {},
   "outputs": [],
   "source": [
    "# Device/Service Registration\n",
    "for i in range(10):\n",
    "    startT = time.time()\n",
    "    manager.equipment.create(equipmentModel='ae137288-3782-432d-8d83-d5cee733fe4b', context=context)\n",
    "    endT = time.time()\n",
    "    response_time.append(endT-startT)\n",
    "    event_count+=1"
   ]
  },
  {
   "cell_type": "code",
   "execution_count": 9,
   "metadata": {},
   "outputs": [],
   "source": [
    "# User's Ruquest to enable/disable a service\n",
    "for i in range(10):\n",
    "    startT = time.time()\n",
    "    manager.service.enable('85c72518-c304-463f-b925-d2cb1cf54791', 'user1')\n",
    "    endT = time.time()\n",
    "    response_time.append(endT-startT)\n",
    "    startT = time.time()\n",
    "    manager.service.disable('85c72518-c304-463f-b925-d2cb1cf54791')\n",
    "    endT = time.time()\n",
    "    response_time.append(endT-startT)\n",
    "    event_count+=2"
   ]
  },
  {
   "cell_type": "code",
   "execution_count": 10,
   "metadata": {},
   "outputs": [],
   "source": [
    "# Threat Handling\n",
    "for i in range(10):\n",
    "    startT = time.time()\n",
    "    threatUUID = manager.event.report_threat('f25d6fab-a140-42eb-b31b-3b9d94e96b19', 'Unexpected_Occupancy')[1]\n",
    "    endT = time.time()\n",
    "    response_time.append(endT-startT)\n",
    "    startT = time.time()\n",
    "    manager.event.remove_threat(threatUUID)\n",
    "    endT = time.time()\n",
    "    response_time.append(endT-startT)\n",
    "    event_count+=2"
   ]
  },
  {
   "cell_type": "code",
   "execution_count": 11,
   "metadata": {},
   "outputs": [
    {
     "name": "stdout",
     "output_type": "stream",
     "text": [
      "Average response time for handling 50 events in seconds:  1.7915902709960938\n"
     ]
    }
   ],
   "source": [
    "print(f'Average response time for handling {event_count} events in seconds: ', np.mean(response_time))"
   ]
  },
  {
   "cell_type": "code",
   "execution_count": 12,
   "metadata": {},
   "outputs": [],
   "source": [
    "# Save logs\n",
    "with open('performance-evaluation-results.txt', 'w') as file:\n",
    "    for item in response_time:\n",
    "        file.write('%s\\n' % item)"
   ]
  },
  {
   "cell_type": "code",
   "execution_count": null,
   "metadata": {},
   "outputs": [],
   "source": []
  }
 ],
 "metadata": {
  "kernelspec": {
   "display_name": "Python 3",
   "language": "python",
   "name": "python3"
  },
  "language_info": {
   "codemirror_mode": {
    "name": "ipython",
    "version": 3
   },
   "file_extension": ".py",
   "mimetype": "text/x-python",
   "name": "python",
   "nbconvert_exporter": "python",
   "pygments_lexer": "ipython3",
   "version": "3.8.3"
  }
 },
 "nbformat": 4,
 "nbformat_minor": 4
}
